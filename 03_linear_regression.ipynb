{
 "nbformat": 4,
 "nbformat_minor": 0,
 "metadata": {
  "kernelspec": {
   "display_name": "Python 3",
   "language": "python",
   "name": "python3"
  },
  "language_info": {
   "codemirror_mode": {
    "name": "ipython",
    "version": 3
   },
   "file_extension": ".py",
   "mimetype": "text/x-python",
   "name": "python",
   "nbconvert_exporter": "python",
   "pygments_lexer": "ipython3",
   "version": "3.7.0"
  },
  "colab": {
   "name": "Linear_Regression(1).ipynb",
   "provenance": []
  }
 },
 "cells": [
  {
   "cell_type": "markdown",
   "metadata": {
    "id": "nq0FojiiIeOw"
   },
   "source": [
    "# Linear Regression"
   ]
  },
  {
   "cell_type": "markdown",
   "metadata": {
    "id": "2At-4G-FIeO2"
   },
   "source": [
    "## Import Data"
   ]
  },
  {
   "cell_type": "code",
   "metadata": {
    "id": "t23Egr9oIeO7",
    "executionInfo": {
     "status": "ok",
     "timestamp": 1633107494588,
     "user_tz": 240,
     "elapsed": 16,
     "user": {
      "displayName": "Michael D. Parrott",
      "photoUrl": "https://lh3.googleusercontent.com/a/default-user=s64",
      "userId": "13070067452828357902"
     }
    }
   },
   "source": [
    "import pandas as pd"
   ],
   "execution_count": 1,
   "outputs": []
  },
  {
   "cell_type": "code",
   "metadata": {
    "id": "VMXDT3tZIePS",
    "colab": {
     "base_uri": "https://localhost:8080/",
     "height": 206
    },
    "executionInfo": {
     "status": "ok",
     "timestamp": 1633107495081,
     "user_tz": 240,
     "elapsed": 506,
     "user": {
      "displayName": "Michael D. Parrott",
      "photoUrl": "https://lh3.googleusercontent.com/a/default-user=s64",
      "userId": "13070067452828357902"
     }
    },
    "outputId": "febada91-2b6a-4fb4-ec19-8e7137aa69bf"
   },
   "source": [
    "data = pd.read_csv(\"http://vincentarelbundock.github.io/Rdatasets/csv/MASS/Boston.csv\")\n",
    "data.head()"
   ],
   "execution_count": 2,
   "outputs": [
    {
     "data": {
      "text/plain": "   Unnamed: 0     crim    zn  indus  chas    nox     rm   age     dis  rad  \\\n0           1  0.00632  18.0   2.31     0  0.538  6.575  65.2  4.0900    1   \n1           2  0.02731   0.0   7.07     0  0.469  6.421  78.9  4.9671    2   \n2           3  0.02729   0.0   7.07     0  0.469  7.185  61.1  4.9671    2   \n3           4  0.03237   0.0   2.18     0  0.458  6.998  45.8  6.0622    3   \n4           5  0.06905   0.0   2.18     0  0.458  7.147  54.2  6.0622    3   \n\n   tax  ptratio   black  lstat  medv  \n0  296     15.3  396.90   4.98  24.0  \n1  242     17.8  396.90   9.14  21.6  \n2  242     17.8  392.83   4.03  34.7  \n3  222     18.7  394.63   2.94  33.4  \n4  222     18.7  396.90   5.33  36.2  ",
      "text/html": "<div>\n<style scoped>\n    .dataframe tbody tr th:only-of-type {\n        vertical-align: middle;\n    }\n\n    .dataframe tbody tr th {\n        vertical-align: top;\n    }\n\n    .dataframe thead th {\n        text-align: right;\n    }\n</style>\n<table border=\"1\" class=\"dataframe\">\n  <thead>\n    <tr style=\"text-align: right;\">\n      <th></th>\n      <th>Unnamed: 0</th>\n      <th>crim</th>\n      <th>zn</th>\n      <th>indus</th>\n      <th>chas</th>\n      <th>nox</th>\n      <th>rm</th>\n      <th>age</th>\n      <th>dis</th>\n      <th>rad</th>\n      <th>tax</th>\n      <th>ptratio</th>\n      <th>black</th>\n      <th>lstat</th>\n      <th>medv</th>\n    </tr>\n  </thead>\n  <tbody>\n    <tr>\n      <th>0</th>\n      <td>1</td>\n      <td>0.00632</td>\n      <td>18.0</td>\n      <td>2.31</td>\n      <td>0</td>\n      <td>0.538</td>\n      <td>6.575</td>\n      <td>65.2</td>\n      <td>4.0900</td>\n      <td>1</td>\n      <td>296</td>\n      <td>15.3</td>\n      <td>396.90</td>\n      <td>4.98</td>\n      <td>24.0</td>\n    </tr>\n    <tr>\n      <th>1</th>\n      <td>2</td>\n      <td>0.02731</td>\n      <td>0.0</td>\n      <td>7.07</td>\n      <td>0</td>\n      <td>0.469</td>\n      <td>6.421</td>\n      <td>78.9</td>\n      <td>4.9671</td>\n      <td>2</td>\n      <td>242</td>\n      <td>17.8</td>\n      <td>396.90</td>\n      <td>9.14</td>\n      <td>21.6</td>\n    </tr>\n    <tr>\n      <th>2</th>\n      <td>3</td>\n      <td>0.02729</td>\n      <td>0.0</td>\n      <td>7.07</td>\n      <td>0</td>\n      <td>0.469</td>\n      <td>7.185</td>\n      <td>61.1</td>\n      <td>4.9671</td>\n      <td>2</td>\n      <td>242</td>\n      <td>17.8</td>\n      <td>392.83</td>\n      <td>4.03</td>\n      <td>34.7</td>\n    </tr>\n    <tr>\n      <th>3</th>\n      <td>4</td>\n      <td>0.03237</td>\n      <td>0.0</td>\n      <td>2.18</td>\n      <td>0</td>\n      <td>0.458</td>\n      <td>6.998</td>\n      <td>45.8</td>\n      <td>6.0622</td>\n      <td>3</td>\n      <td>222</td>\n      <td>18.7</td>\n      <td>394.63</td>\n      <td>2.94</td>\n      <td>33.4</td>\n    </tr>\n    <tr>\n      <th>4</th>\n      <td>5</td>\n      <td>0.06905</td>\n      <td>0.0</td>\n      <td>2.18</td>\n      <td>0</td>\n      <td>0.458</td>\n      <td>7.147</td>\n      <td>54.2</td>\n      <td>6.0622</td>\n      <td>3</td>\n      <td>222</td>\n      <td>18.7</td>\n      <td>396.90</td>\n      <td>5.33</td>\n      <td>36.2</td>\n    </tr>\n  </tbody>\n</table>\n</div>"
     },
     "execution_count": 2,
     "metadata": {},
     "output_type": "execute_result"
    }
   ]
  },
  {
   "cell_type": "code",
   "metadata": {
    "id": "3WmIe-4PIePh",
    "colab": {
     "base_uri": "https://localhost:8080/",
     "height": 317
    },
    "executionInfo": {
     "status": "ok",
     "timestamp": 1633107495089,
     "user_tz": 240,
     "elapsed": 46,
     "user": {
      "displayName": "Michael D. Parrott",
      "photoUrl": "https://lh3.googleusercontent.com/a/default-user=s64",
      "userId": "13070067452828357902"
     }
    },
    "outputId": "17f88cb5-1294-4487-907d-5c1796e28d85"
   },
   "source": [
    "#clean up data and prep for linear regression\n",
    "\n",
    "data = data.iloc[:, 1:] #delete first column\n",
    "\n",
    "y = data['medv'] # median value of homes\n",
    "X = data.loc[:, data.columns != 'medv']\n",
    "\n",
    "print(y[0:5])\n",
    "X.head()"
   ],
   "execution_count": 5,
   "outputs": [
    {
     "name": "stdout",
     "output_type": "stream",
     "text": [
      "0    24.0\n",
      "1    21.6\n",
      "2    34.7\n",
      "3    33.4\n",
      "4    36.2\n",
      "Name: medv, dtype: float64\n"
     ]
    },
    {
     "data": {
      "text/plain": "      crim    zn  indus  chas    nox     rm   age     dis  rad  tax  ptratio  \\\n0  0.00632  18.0   2.31     0  0.538  6.575  65.2  4.0900    1  296     15.3   \n1  0.02731   0.0   7.07     0  0.469  6.421  78.9  4.9671    2  242     17.8   \n2  0.02729   0.0   7.07     0  0.469  7.185  61.1  4.9671    2  242     17.8   \n3  0.03237   0.0   2.18     0  0.458  6.998  45.8  6.0622    3  222     18.7   \n4  0.06905   0.0   2.18     0  0.458  7.147  54.2  6.0622    3  222     18.7   \n\n    black  lstat  \n0  396.90   4.98  \n1  396.90   9.14  \n2  392.83   4.03  \n3  394.63   2.94  \n4  396.90   5.33  ",
      "text/html": "<div>\n<style scoped>\n    .dataframe tbody tr th:only-of-type {\n        vertical-align: middle;\n    }\n\n    .dataframe tbody tr th {\n        vertical-align: top;\n    }\n\n    .dataframe thead th {\n        text-align: right;\n    }\n</style>\n<table border=\"1\" class=\"dataframe\">\n  <thead>\n    <tr style=\"text-align: right;\">\n      <th></th>\n      <th>crim</th>\n      <th>zn</th>\n      <th>indus</th>\n      <th>chas</th>\n      <th>nox</th>\n      <th>rm</th>\n      <th>age</th>\n      <th>dis</th>\n      <th>rad</th>\n      <th>tax</th>\n      <th>ptratio</th>\n      <th>black</th>\n      <th>lstat</th>\n    </tr>\n  </thead>\n  <tbody>\n    <tr>\n      <th>0</th>\n      <td>0.00632</td>\n      <td>18.0</td>\n      <td>2.31</td>\n      <td>0</td>\n      <td>0.538</td>\n      <td>6.575</td>\n      <td>65.2</td>\n      <td>4.0900</td>\n      <td>1</td>\n      <td>296</td>\n      <td>15.3</td>\n      <td>396.90</td>\n      <td>4.98</td>\n    </tr>\n    <tr>\n      <th>1</th>\n      <td>0.02731</td>\n      <td>0.0</td>\n      <td>7.07</td>\n      <td>0</td>\n      <td>0.469</td>\n      <td>6.421</td>\n      <td>78.9</td>\n      <td>4.9671</td>\n      <td>2</td>\n      <td>242</td>\n      <td>17.8</td>\n      <td>396.90</td>\n      <td>9.14</td>\n    </tr>\n    <tr>\n      <th>2</th>\n      <td>0.02729</td>\n      <td>0.0</td>\n      <td>7.07</td>\n      <td>0</td>\n      <td>0.469</td>\n      <td>7.185</td>\n      <td>61.1</td>\n      <td>4.9671</td>\n      <td>2</td>\n      <td>242</td>\n      <td>17.8</td>\n      <td>392.83</td>\n      <td>4.03</td>\n    </tr>\n    <tr>\n      <th>3</th>\n      <td>0.03237</td>\n      <td>0.0</td>\n      <td>2.18</td>\n      <td>0</td>\n      <td>0.458</td>\n      <td>6.998</td>\n      <td>45.8</td>\n      <td>6.0622</td>\n      <td>3</td>\n      <td>222</td>\n      <td>18.7</td>\n      <td>394.63</td>\n      <td>2.94</td>\n    </tr>\n    <tr>\n      <th>4</th>\n      <td>0.06905</td>\n      <td>0.0</td>\n      <td>2.18</td>\n      <td>0</td>\n      <td>0.458</td>\n      <td>7.147</td>\n      <td>54.2</td>\n      <td>6.0622</td>\n      <td>3</td>\n      <td>222</td>\n      <td>18.7</td>\n      <td>396.90</td>\n      <td>5.33</td>\n    </tr>\n  </tbody>\n</table>\n</div>"
     },
     "execution_count": 5,
     "metadata": {},
     "output_type": "execute_result"
    }
   ]
  },
  {
   "cell_type": "markdown",
   "metadata": {
    "id": "I4mx_qRZIePw"
   },
   "source": [
    "## Create training and test data for model evaluation"
   ]
  },
  {
   "cell_type": "code",
   "metadata": {
    "id": "O1RFKwyIIePy",
    "colab": {
     "base_uri": "https://localhost:8080/"
    },
    "executionInfo": {
     "status": "ok",
     "timestamp": 1633107500993,
     "user_tz": 240,
     "elapsed": 1514,
     "user": {
      "displayName": "Michael D. Parrott",
      "photoUrl": "https://lh3.googleusercontent.com/a/default-user=s64",
      "userId": "13070067452828357902"
     }
    },
    "outputId": "1f8146af-d725-4981-a9e0-e8b7cf3dffd3"
   },
   "source": [
    "from sklearn.linear_model import LinearRegression\n",
    "from sklearn.model_selection import train_test_split\n",
    "import numpy as np\n",
    "\n",
    "\n",
    "X_train, X_test, y_train, y_test = train_test_split(X, y, random_state=42)\n",
    "lr = LinearRegression()\n",
    "lr.fit(X_train, y_train)\n",
    "\n",
    "#The “slope” parameters (w), also called weights or coefficients, are stored in the coef_\n",
    "#..attribute, while the offset or intercept (b) is stored in the intercept_ attribute:\n",
    "\n",
    "print(\"lr.coef_: {}\".format(lr.coef_))\n",
    "print(\"lr.intercept_: {}\".format(lr.intercept_))"
   ],
   "execution_count": 6,
   "outputs": [
    {
     "name": "stdout",
     "output_type": "stream",
     "text": [
      "lr.coef_: [-1.28322638e-01  2.95517751e-02  4.88590934e-02  2.77350326e+00\n",
      " -1.62388292e+01  4.36875476e+00 -9.24808158e-03 -1.40086668e+00\n",
      "  2.57761243e-01 -9.95694820e-03 -9.23122944e-01  1.31854199e-02\n",
      " -5.17639519e-01]\n",
      "lr.intercept_: 29.83642016383913\n"
     ]
    }
   ]
  },
  {
   "cell_type": "code",
   "metadata": {
    "id": "RhkEpH3UIeQA",
    "colab": {
     "base_uri": "https://localhost:8080/"
    },
    "outputId": "552be9f6-8977-4f00-d9ce-f031dc5c233a"
   },
   "source": [
    "dir(lr) #Use dir() to get a directory of the attributes and methods you can refer to for the object"
   ],
   "execution_count": null,
   "outputs": [
    {
     "output_type": "execute_result",
     "data": {
      "text/plain": [
       "['__abstractmethods__',\n",
       " '__class__',\n",
       " '__delattr__',\n",
       " '__dict__',\n",
       " '__dir__',\n",
       " '__doc__',\n",
       " '__eq__',\n",
       " '__format__',\n",
       " '__ge__',\n",
       " '__getattribute__',\n",
       " '__getstate__',\n",
       " '__gt__',\n",
       " '__hash__',\n",
       " '__init__',\n",
       " '__init_subclass__',\n",
       " '__le__',\n",
       " '__lt__',\n",
       " '__module__',\n",
       " '__ne__',\n",
       " '__new__',\n",
       " '__reduce__',\n",
       " '__reduce_ex__',\n",
       " '__repr__',\n",
       " '__setattr__',\n",
       " '__setstate__',\n",
       " '__sizeof__',\n",
       " '__str__',\n",
       " '__subclasshook__',\n",
       " '__weakref__',\n",
       " '_abc_cache',\n",
       " '_abc_negative_cache',\n",
       " '_abc_negative_cache_version',\n",
       " '_abc_registry',\n",
       " '_decision_function',\n",
       " '_estimator_type',\n",
       " '_get_param_names',\n",
       " '_get_tags',\n",
       " '_more_tags',\n",
       " '_preprocess_data',\n",
       " '_residues',\n",
       " '_set_intercept',\n",
       " 'coef_',\n",
       " 'copy_X',\n",
       " 'fit',\n",
       " 'fit_intercept',\n",
       " 'get_params',\n",
       " 'intercept_',\n",
       " 'n_jobs',\n",
       " 'normalize',\n",
       " 'predict',\n",
       " 'rank_',\n",
       " 'score',\n",
       " 'set_params',\n",
       " 'singular_']"
      ]
     },
     "metadata": {
      "tags": []
     },
     "execution_count": 5
    }
   ]
  },
  {
   "cell_type": "code",
   "metadata": {
    "id": "YU2t0bypIeQO",
    "colab": {
     "base_uri": "https://localhost:8080/"
    },
    "executionInfo": {
     "status": "ok",
     "timestamp": 1633107505090,
     "user_tz": 240,
     "elapsed": 154,
     "user": {
      "displayName": "Michael D. Parrott",
      "photoUrl": "https://lh3.googleusercontent.com/a/default-user=s64",
      "userId": "13070067452828357902"
     }
    },
    "outputId": "2bc750c1-014d-45f6-9ef3-0923ef374132"
   },
   "source": [
    "# Let’s look at the training set and test set performance using r squared:\n",
    "\n",
    "print(\"Training set score: {:.2f}\".format(lr.score(X_train, y_train)))\n",
    "print(\"Test set score: {:.2f}\".format(lr.score(X_test, y_test)))\n",
    "\n",
    "#cross validation\n",
    "from sklearn.model_selection import cross_val_score\n",
    "\n",
    "print(np.mean(cross_val_score(LinearRegression(), X_train, y_train, cv=10, scoring=\"r2\")))"
   ],
   "execution_count": 7,
   "outputs": [
    {
     "name": "stdout",
     "output_type": "stream",
     "text": [
      "Training set score: 0.75\n",
      "Test set score: 0.68\n",
      "0.7160133196648378\n"
     ]
    }
   ]
  },
  {
   "cell_type": "markdown",
   "metadata": {
    "id": "0E_NyEjjIeQl"
   },
   "source": [
    "## Now let's try it with the statsmodels library"
   ]
  },
  {
   "cell_type": "code",
   "metadata": {
    "id": "iGHZrpSvIeQn",
    "colab": {
     "base_uri": "https://localhost:8080/",
     "height": 780
    },
    "executionInfo": {
     "status": "ok",
     "timestamp": 1633107511190,
     "user_tz": 240,
     "elapsed": 988,
     "user": {
      "displayName": "Michael D. Parrott",
      "photoUrl": "https://lh3.googleusercontent.com/a/default-user=s64",
      "userId": "13070067452828357902"
     }
    },
    "outputId": "a0ed2cd4-c7ea-433f-f913-226b8da5aa85"
   },
   "source": [
    "import statsmodels.api as sm\n",
    "\n",
    "X_train_new = sm.add_constant(X_train)\n",
    "model = sm.OLS(y_train, X_train_new).fit()\n",
    "\n",
    "model.summary() # get a complete summary of the model"
   ],
   "execution_count": 9,
   "outputs": [
    {
     "name": "stderr",
     "output_type": "stream",
     "text": [
      "/Users/yunchoi/opt/anaconda3/lib/python3.8/site-packages/statsmodels/tsa/tsatools.py:142: FutureWarning: In a future version of pandas all arguments of concat except for the argument 'objs' will be keyword-only\n",
      "  x = pd.concat(x[::order], 1)\n"
     ]
    },
    {
     "data": {
      "text/plain": "<class 'statsmodels.iolib.summary.Summary'>\n\"\"\"\n                            OLS Regression Results                            \n==============================================================================\nDep. Variable:                   medv   R-squared:                       0.748\nModel:                            OLS   Adj. R-squared:                  0.739\nMethod:                 Least Squares   F-statistic:                     83.38\nDate:                Sun, 10 Oct 2021   Prob (F-statistic):          1.15e-100\nTime:                        19:53:48   Log-Likelihood:                -1126.4\nNo. Observations:                 379   AIC:                             2281.\nDf Residuals:                     365   BIC:                             2336.\nDf Model:                          13                                         \nCovariance Type:            nonrobust                                         \n==============================================================================\n                 coef    std err          t      P>|t|      [0.025      0.975]\n------------------------------------------------------------------------------\nconst         29.8364      5.861      5.090      0.000      18.310      41.363\ncrim          -0.1283      0.039     -3.262      0.001      -0.206      -0.051\nzn             0.0296      0.017      1.772      0.077      -0.003       0.062\nindus          0.0489      0.069      0.706      0.481      -0.087       0.185\nchas           2.7735      0.974      2.848      0.005       0.859       4.688\nnox          -16.2388      4.432     -3.664      0.000     -24.955      -7.523\nrm             4.3688      0.481      9.091      0.000       3.424       5.314\nage           -0.0092      0.015     -0.599      0.550      -0.040       0.021\ndis           -1.4009      0.237     -5.915      0.000      -1.867      -0.935\nrad            0.2578      0.079      3.279      0.001       0.103       0.412\ntax           -0.0100      0.004     -2.277      0.023      -0.019      -0.001\nptratio       -0.9231      0.150     -6.164      0.000      -1.218      -0.629\nblack          0.0132      0.003      4.143      0.000       0.007       0.019\nlstat         -0.5176      0.058     -8.995      0.000      -0.631      -0.404\n==============================================================================\nOmnibus:                      125.754   Durbin-Watson:                   2.093\nProb(Omnibus):                  0.000   Jarque-Bera (JB):              529.968\nSkew:                           1.392   Prob(JB):                    8.30e-116\nKurtosis:                       8.081   Cond. No.                     1.48e+04\n==============================================================================\n\nNotes:\n[1] Standard Errors assume that the covariance matrix of the errors is correctly specified.\n[2] The condition number is large, 1.48e+04. This might indicate that there are\nstrong multicollinearity or other numerical problems.\n\"\"\"",
      "text/html": "<table class=\"simpletable\">\n<caption>OLS Regression Results</caption>\n<tr>\n  <th>Dep. Variable:</th>          <td>medv</td>       <th>  R-squared:         </th> <td>   0.748</td> \n</tr>\n<tr>\n  <th>Model:</th>                   <td>OLS</td>       <th>  Adj. R-squared:    </th> <td>   0.739</td> \n</tr>\n<tr>\n  <th>Method:</th>             <td>Least Squares</td>  <th>  F-statistic:       </th> <td>   83.38</td> \n</tr>\n<tr>\n  <th>Date:</th>             <td>Sun, 10 Oct 2021</td> <th>  Prob (F-statistic):</th> <td>1.15e-100</td>\n</tr>\n<tr>\n  <th>Time:</th>                 <td>19:53:48</td>     <th>  Log-Likelihood:    </th> <td> -1126.4</td> \n</tr>\n<tr>\n  <th>No. Observations:</th>      <td>   379</td>      <th>  AIC:               </th> <td>   2281.</td> \n</tr>\n<tr>\n  <th>Df Residuals:</th>          <td>   365</td>      <th>  BIC:               </th> <td>   2336.</td> \n</tr>\n<tr>\n  <th>Df Model:</th>              <td>    13</td>      <th>                     </th>     <td> </td>    \n</tr>\n<tr>\n  <th>Covariance Type:</th>      <td>nonrobust</td>    <th>                     </th>     <td> </td>    \n</tr>\n</table>\n<table class=\"simpletable\">\n<tr>\n     <td></td>        <th>coef</th>     <th>std err</th>      <th>t</th>      <th>P>|t|</th>  <th>[0.025</th>    <th>0.975]</th>  \n</tr>\n<tr>\n  <th>const</th>   <td>   29.8364</td> <td>    5.861</td> <td>    5.090</td> <td> 0.000</td> <td>   18.310</td> <td>   41.363</td>\n</tr>\n<tr>\n  <th>crim</th>    <td>   -0.1283</td> <td>    0.039</td> <td>   -3.262</td> <td> 0.001</td> <td>   -0.206</td> <td>   -0.051</td>\n</tr>\n<tr>\n  <th>zn</th>      <td>    0.0296</td> <td>    0.017</td> <td>    1.772</td> <td> 0.077</td> <td>   -0.003</td> <td>    0.062</td>\n</tr>\n<tr>\n  <th>indus</th>   <td>    0.0489</td> <td>    0.069</td> <td>    0.706</td> <td> 0.481</td> <td>   -0.087</td> <td>    0.185</td>\n</tr>\n<tr>\n  <th>chas</th>    <td>    2.7735</td> <td>    0.974</td> <td>    2.848</td> <td> 0.005</td> <td>    0.859</td> <td>    4.688</td>\n</tr>\n<tr>\n  <th>nox</th>     <td>  -16.2388</td> <td>    4.432</td> <td>   -3.664</td> <td> 0.000</td> <td>  -24.955</td> <td>   -7.523</td>\n</tr>\n<tr>\n  <th>rm</th>      <td>    4.3688</td> <td>    0.481</td> <td>    9.091</td> <td> 0.000</td> <td>    3.424</td> <td>    5.314</td>\n</tr>\n<tr>\n  <th>age</th>     <td>   -0.0092</td> <td>    0.015</td> <td>   -0.599</td> <td> 0.550</td> <td>   -0.040</td> <td>    0.021</td>\n</tr>\n<tr>\n  <th>dis</th>     <td>   -1.4009</td> <td>    0.237</td> <td>   -5.915</td> <td> 0.000</td> <td>   -1.867</td> <td>   -0.935</td>\n</tr>\n<tr>\n  <th>rad</th>     <td>    0.2578</td> <td>    0.079</td> <td>    3.279</td> <td> 0.001</td> <td>    0.103</td> <td>    0.412</td>\n</tr>\n<tr>\n  <th>tax</th>     <td>   -0.0100</td> <td>    0.004</td> <td>   -2.277</td> <td> 0.023</td> <td>   -0.019</td> <td>   -0.001</td>\n</tr>\n<tr>\n  <th>ptratio</th> <td>   -0.9231</td> <td>    0.150</td> <td>   -6.164</td> <td> 0.000</td> <td>   -1.218</td> <td>   -0.629</td>\n</tr>\n<tr>\n  <th>black</th>   <td>    0.0132</td> <td>    0.003</td> <td>    4.143</td> <td> 0.000</td> <td>    0.007</td> <td>    0.019</td>\n</tr>\n<tr>\n  <th>lstat</th>   <td>   -0.5176</td> <td>    0.058</td> <td>   -8.995</td> <td> 0.000</td> <td>   -0.631</td> <td>   -0.404</td>\n</tr>\n</table>\n<table class=\"simpletable\">\n<tr>\n  <th>Omnibus:</th>       <td>125.754</td> <th>  Durbin-Watson:     </th> <td>   2.093</td> \n</tr>\n<tr>\n  <th>Prob(Omnibus):</th> <td> 0.000</td>  <th>  Jarque-Bera (JB):  </th> <td> 529.968</td> \n</tr>\n<tr>\n  <th>Skew:</th>          <td> 1.392</td>  <th>  Prob(JB):          </th> <td>8.30e-116</td>\n</tr>\n<tr>\n  <th>Kurtosis:</th>      <td> 8.081</td>  <th>  Cond. No.          </th> <td>1.48e+04</td> \n</tr>\n</table><br/><br/>Notes:<br/>[1] Standard Errors assume that the covariance matrix of the errors is correctly specified.<br/>[2] The condition number is large, 1.48e+04. This might indicate that there are<br/>strong multicollinearity or other numerical problems."
     },
     "execution_count": 9,
     "metadata": {},
     "output_type": "execute_result"
    }
   ]
  },
  {
   "cell_type": "markdown",
   "metadata": {
    "id": "nfWdpNs5IeQx"
   },
   "source": [
    "## Ridge regression\n",
    "Note: We haven't scaled variables here, but we should.  We'll see how to do this when we learn how to preprocess data."
   ]
  },
  {
   "cell_type": "code",
   "metadata": {
    "id": "HOE7fh2ZIeQ0",
    "colab": {
     "base_uri": "https://localhost:8080/"
    },
    "executionInfo": {
     "status": "ok",
     "timestamp": 1633107515944,
     "user_tz": 240,
     "elapsed": 198,
     "user": {
      "displayName": "Michael D. Parrott",
      "photoUrl": "https://lh3.googleusercontent.com/a/default-user=s64",
      "userId": "13070067452828357902"
     }
    },
    "outputId": "5c60e832-9ed4-4f64-9f98-58d3d63666d8"
   },
   "source": [
    "from sklearn.linear_model import Ridge\n",
    "ridge = Ridge().fit(X_train, y_train)\n",
    "print(\"Training set score: {:.2f}\".format(ridge.score(X_train, y_train)))\n",
    "print(\"Test set score: {:.2f}\".format(ridge.score(X_test, y_test)))"
   ],
   "execution_count": 11,
   "outputs": [
    {
     "name": "stdout",
     "output_type": "stream",
     "text": [
      "Training set score: 0.75\n",
      "Test set score: 0.68\n"
     ]
    }
   ]
  },
  {
   "cell_type": "code",
   "metadata": {
    "id": "WGbRjdhtIeQ_",
    "colab": {
     "base_uri": "https://localhost:8080/"
    },
    "executionInfo": {
     "status": "ok",
     "timestamp": 1633107564555,
     "user_tz": 240,
     "elapsed": 137,
     "user": {
      "displayName": "Michael D. Parrott",
      "photoUrl": "https://lh3.googleusercontent.com/a/default-user=s64",
      "userId": "13070067452828357902"
     }
    },
    "outputId": "f661ea9a-d7d1-40b3-abd3-d72c3757eb0e"
   },
   "source": [
    "ridge10 = Ridge(alpha=10).fit(X_train, y_train)\n",
    "print(\"Training set score: {:.2f}\".format(ridge10.score(X_train, y_train)))\n",
    "print(\"Test set score: {:.2f}\".format(ridge10.score(X_test, y_test)))"
   ],
   "execution_count": 12,
   "outputs": [
    {
     "name": "stdout",
     "output_type": "stream",
     "text": [
      "Training set score: 0.74\n",
      "Test set score: 0.67\n"
     ]
    }
   ]
  },
  {
   "cell_type": "code",
   "metadata": {
    "id": "tKCQ7Jg3IeRL",
    "colab": {
     "base_uri": "https://localhost:8080/"
    },
    "executionInfo": {
     "status": "ok",
     "timestamp": 1633107566218,
     "user_tz": 240,
     "elapsed": 181,
     "user": {
      "displayName": "Michael D. Parrott",
      "photoUrl": "https://lh3.googleusercontent.com/a/default-user=s64",
      "userId": "13070067452828357902"
     }
    },
    "outputId": "4be82053-0280-4fae-f701-1c057cdb42ea"
   },
   "source": [
    "ridge01 = Ridge(alpha=0.1).fit(X_train, y_train)\n",
    "print(\"Training set score: {:.2f}\".format(ridge01.score(X_train, y_train)))\n",
    "print(\"Test set score: {:.2f}\".format(ridge01.score(X_test, y_test)))"
   ],
   "execution_count": 13,
   "outputs": [
    {
     "name": "stdout",
     "output_type": "stream",
     "text": [
      "Training set score: 0.75\n",
      "Test set score: 0.68\n"
     ]
    }
   ]
  },
  {
   "cell_type": "markdown",
   "metadata": {
    "id": "VXMNOnXdIeRX"
   },
   "source": [
    "## Lasso Regression"
   ]
  },
  {
   "cell_type": "code",
   "metadata": {
    "id": "3rlFwSozIeRc",
    "colab": {
     "base_uri": "https://localhost:8080/"
    },
    "executionInfo": {
     "status": "ok",
     "timestamp": 1633107567907,
     "user_tz": 240,
     "elapsed": 133,
     "user": {
      "displayName": "Michael D. Parrott",
      "photoUrl": "https://lh3.googleusercontent.com/a/default-user=s64",
      "userId": "13070067452828357902"
     }
    },
    "outputId": "0a89b803-812c-475d-9ec2-bbc97c8f1d52"
   },
   "source": [
    "from sklearn.linear_model import Lasso\n",
    "lasso = Lasso().fit(X_train, y_train)\n",
    "print(\"Training set score: {:.2f}\".format(lasso.score(X_train, y_train)))\n",
    "print(\"Test set score: {:.2f}\".format(lasso.score(X_test, y_test)))\n",
    "print(\"Number of features used: {}\".format(np.sum(lasso.coef_ != 0)))\n",
    "\n",
    "print(\"lasso.coef_: {}\".format(lasso.coef_))\n"
   ],
   "execution_count": 14,
   "outputs": [
    {
     "name": "stdout",
     "output_type": "stream",
     "text": [
      "Training set score: 0.69\n",
      "Test set score: 0.65\n",
      "Number of features used: 10\n",
      "lasso.coef_: [-0.0838981   0.02646051 -0.          0.         -0.          1.54544951\n",
      "  0.01345772 -0.58282853  0.20738089 -0.01121302 -0.70500625  0.01198848\n",
      " -0.75783702]\n"
     ]
    }
   ]
  },
  {
   "cell_type": "code",
   "metadata": {
    "id": "UE_qlatFIeR6",
    "colab": {
     "base_uri": "https://localhost:8080/",
     "height": 69
    },
    "outputId": "94b84597-6db8-4bdb-e6c9-4302ef179d32"
   },
   "source": [
    "# Lower alpha to fit a more complex model\n",
    "# we increase the default setting of \"max_iter\",\n",
    "# otherwise the model would warn us that we should increase max_iter.\n",
    "\n",
    "lasso001 = Lasso(alpha=0.001, max_iter=100000).fit(X_train, y_train)\n",
    "print(\"Training set score: {:.2f}\".format(lasso001.score(X_train, y_train)))\n",
    "print(\"Test set score: {:.2f}\".format(lasso001.score(X_test, y_test)))\n",
    "print(\"Number of features used: {}\".format(np.sum(lasso001.coef_ != 0)))\n"
   ],
   "execution_count": 19,
   "outputs": [
    {
     "name": "stdout",
     "output_type": "stream",
     "text": [
      "Training set score: 0.75\n",
      "Test set score: 0.68\n",
      "Number of features used: 13\n"
     ]
    }
   ]
  },
  {
   "cell_type": "code",
   "execution_count": 18,
   "outputs": [
    {
     "name": "stdout",
     "output_type": "stream",
     "text": [
      "Training set score: 0.69\n",
      "Test set score: 0.65\n",
      "Number of features used: 10\n"
     ]
    }
   ],
   "source": [
    "lasso10 = Lasso(alpha=1, max_iter=100000).fit(X_train, y_train)\n",
    "print(\"Training set score: {:.2f}\".format(lasso10.score(X_train, y_train)))\n",
    "print(\"Test set score: {:.2f}\".format(lasso10.score(X_test, y_test)))\n",
    "print(\"Number of features used: {}\".format(np.sum(lasso10.coef_ != 0)))"
   ],
   "metadata": {
    "collapsed": false,
    "pycharm": {
     "name": "#%%\n"
    }
   }
  },
  {
   "cell_type": "code",
   "metadata": {
    "id": "6jRyd33iIeSD",
    "colab": {
     "base_uri": "https://localhost:8080/",
     "height": 69
    },
    "outputId": "a38ed64e-9c12-488d-c0a0-b0541c51a54c"
   },
   "source": [
    "# Fit an even more complex model... \n",
    "\n",
    "lasso00001 = Lasso(alpha=100, max_iter=100000).fit(X_train, y_train)\n",
    "print(\"Training set score: {:.2f}\".format(lasso00001.score(X_train, y_train)))\n",
    "print(\"Test set score: {:.2f}\".format(lasso00001.score(X_test, y_test)))\n",
    "print(\"Number of features used: {}\".format(np.sum(lasso00001.coef_ != 0)))\n"
   ],
   "execution_count": 16,
   "outputs": [
    {
     "name": "stdout",
     "output_type": "stream",
     "text": [
      "Training set score: 0.21\n",
      "Test set score: 0.26\n",
      "Number of features used: 2\n"
     ]
    }
   ]
  },
  {
   "cell_type": "markdown",
   "metadata": {
    "id": "30aLx60RIeSN"
   },
   "source": [
    "Questions:\n",
    "Can you tune these models using GridSearchCV?\n",
    "Can you re-run the models using new data? (e.g.- the mtcars dataset, https://vincentarelbundock.github.io/Rdatasets/csv/datasets/mtcars.csv)"
   ]
  },
  {
   "cell_type": "code",
   "execution_count": null,
   "outputs": [],
   "source": [
    "from sklearn.model_selection import GridSearchCV\n",
    "\n",
    "a = 0.0001\n",
    "r = 10\n",
    "length = 8\n",
    "alpha_geometric = [a * r ** (n - 1) for n in range(1, length + 1)]\n",
    "\n",
    "# the models that you want to compare\n",
    "models = {\n",
    "    'KNeighboursClassifier': KNeighborsClassifier(),\n",
    "}\n",
    "\n",
    "\n",
    "\n",
    "param_grid = {'alpha': alpha_geometric} #np.arange creates sequence of numbers for each k value\n",
    "grid = GridSearchCV(KNeighborsClassifier(), param_grid=param_grid, cv=10)\n",
    "\n",
    "#use meta model methods to fit score and predict model:\n",
    "grid.fit(X_train, y_train)\n",
    "\n",
    "#extract best score and parameter by calling objects \"best_score_\" and \"best_params_\"\n",
    "print(\"best mean cross-validation score: {:.3f}\".format(grid.best_score_))\n",
    "print(\"best parameters: {}\".format(grid.best_params_))\n",
    "print(\"test-set score: {:.3f}\".format(grid.score(X_test, y_test)))"
   ],
   "metadata": {
    "collapsed": false,
    "pycharm": {
     "name": "#%%\n"
    }
   }
  },
  {
   "cell_type": "code",
   "execution_count": 29,
   "outputs": [
    {
     "name": "stdout",
     "output_type": "stream",
     "text": [
      "{'alpha': [0.0001, 0.001, 0.01, 0.1, 1.0, 10.0, 100.0, 1000.0]}\n"
     ]
    }
   ],
   "source": [],
   "metadata": {
    "collapsed": false,
    "pycharm": {
     "name": "#%%\n"
    }
   }
  }
 ]
}