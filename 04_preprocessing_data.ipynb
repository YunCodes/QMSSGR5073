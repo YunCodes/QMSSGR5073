{
 "nbformat": 4,
 "nbformat_minor": 0,
 "metadata": {
  "kernelspec": {
   "display_name": "Python 3",
   "language": "python",
   "name": "python3"
  },
  "language_info": {
   "codemirror_mode": {
    "name": "ipython",
    "version": 3
   },
   "file_extension": ".py",
   "mimetype": "text/x-python",
   "name": "python",
   "nbconvert_exporter": "python",
   "pygments_lexer": "ipython3",
   "version": "3.6.5"
  },
  "colab": {
   "name": "Preprocessing Data.ipynb",
   "provenance": [],
   "collapsed_sections": []
  }
 },
 "cells": [
  {
   "cell_type": "markdown",
   "metadata": {
    "id": "bxt4c9351wcK"
   },
   "source": [
    "# Standard Scaler \n",
    "(centering mean on zero and std dev on 1 for each variable)"
   ]
  },
  {
   "cell_type": "code",
   "metadata": {
    "id": "1M3_CKp91wcO",
    "colab": {
     "base_uri": "https://localhost:8080/",
     "height": 69
    },
    "outputId": "2886503e-e78c-49aa-9f95-4374eb664685"
   },
   "source": [
    "#The function scale provides a quick and easy way to perform this operation on a single array-like dataset:\n",
    "\n",
    "from sklearn import preprocessing\n",
    "import numpy as np\n",
    "\n",
    "#Build dataset with three columns and three rows\n",
    "#Structure is visually the same as a typical dataframe (i.e.-columns are up and down and rows side to side)\n",
    "\n",
    "X_train = np.array([[ 1., -1.,  2.],\n",
    "                    [ 2.,  0.,  0.],\n",
    "                    [ 0.,  1., -1.]])\n",
    "X_scaled = preprocessing.scale(X_train)\n",
    "\n",
    "X_scaled"
   ],
   "execution_count": null,
   "outputs": [
    {
     "output_type": "execute_result",
     "data": {
      "text/plain": [
       "array([[ 0.        , -1.22474487,  1.33630621],\n",
       "       [ 1.22474487,  0.        , -0.26726124],\n",
       "       [-1.22474487,  1.22474487, -1.06904497]])"
      ]
     },
     "metadata": {
      "tags": []
     },
     "execution_count": 8
    }
   ]
  },
  {
   "cell_type": "markdown",
   "metadata": {
    "id": "75Yzq0oO1wcb"
   },
   "source": [
    "To calculate the standard scaler subtract the column mean from observation value and divide result by column standard deviation.\n",
    "Scaled data has zero mean and unit variance:"
   ]
  },
  {
   "cell_type": "code",
   "metadata": {
    "id": "Mb3oK6_z1wcd",
    "colab": {
     "base_uri": "https://localhost:8080/",
     "height": 52
    },
    "outputId": "8a78c8cd-db86-4fce-bb51-ecc105c25c53"
   },
   "source": [
    "print(X_scaled.mean(axis=0)) # axis=0 refers to columns\n",
    "print(X_scaled.std(axis=0))\n",
    "\n"
   ],
   "execution_count": null,
   "outputs": [
    {
     "output_type": "stream",
     "text": [
      "[0. 0. 0.]\n",
      "[1. 1. 1.]\n"
     ],
     "name": "stdout"
    }
   ]
  },
  {
   "cell_type": "markdown",
   "metadata": {
    "id": "ShA654gK1wcm"
   },
   "source": [
    "# Using StandardScaler()\n",
    "The preprocessing module further provides a utility class StandardScaler that implements the Transformer API to compute the mean and standard deviation on a training set so as to be able to later reapply the same transformation on the testing set. This class is hence suitable for use in the early steps of a sklearn.pipeline.Pipeline:"
   ]
  },
  {
   "cell_type": "code",
   "metadata": {
    "id": "bGGKqNw61wcp",
    "colab": {
     "base_uri": "https://localhost:8080/",
     "height": 87
    },
    "outputId": "0e4520e8-b51e-4906-d317-d1a468500e33"
   },
   "source": [
    "#Here we set up the the standard scaler to the X_train data using fit()\n",
    "from sklearn.preprocessing import StandardScaler\n",
    "\n",
    "scaler = StandardScaler().fit(X_train)\n",
    "print(scaler) # show details of scaler object\n",
    "\n",
    "\n",
    "\n",
    "\n",
    "#Here we apply the fit standard scaler to the X_train data using transform()\n",
    "\n",
    "scaler.transform(X_train)                         \n",
    "\n",
    "# print(scaler.mean_) #print the means  per column                           \n",
    "\n",
    "     "
   ],
   "execution_count": null,
   "outputs": [
    {
     "output_type": "stream",
     "text": [
      "StandardScaler(copy=True, with_mean=True, with_std=True)\n"
     ],
     "name": "stdout"
    },
    {
     "output_type": "execute_result",
     "data": {
      "text/plain": [
       "array([[ 0.        , -1.22474487,  1.33630621],\n",
       "       [ 1.22474487,  0.        , -0.26726124],\n",
       "       [-1.22474487,  1.22474487, -1.06904497]])"
      ]
     },
     "metadata": {
      "tags": []
     },
     "execution_count": 11
    }
   ]
  },
  {
   "cell_type": "code",
   "metadata": {
    "id": "JbBLEk6z1wcw",
    "colab": {
     "base_uri": "https://localhost:8080/",
     "height": 35
    },
    "outputId": "3881f7db-061b-44f9-8ba8-bddfc5f2d9dd"
   },
   "source": [
    "#The scaler instance can then be used on new data to transform it the same way it did on the training set:\n",
    "#Note that we are scaling new data to the scale built from the training data.  \n",
    "\n",
    "X_test = [[-1., 1., 0.]]\n",
    "scaler.transform(X_test) # Transform x_test before running a model, for example        \n",
    "\n",
    "#It is also possible to disable either centering or scaling by either passing with_mean=False or with_std=False\n",
    "#to the constructor of StandardScaler."
   ],
   "execution_count": null,
   "outputs": [
    {
     "output_type": "execute_result",
     "data": {
      "text/plain": [
       "array([[-2.44948974,  1.22474487, -0.26726124]])"
      ]
     },
     "metadata": {
      "tags": []
     },
     "execution_count": 12
    }
   ]
  },
  {
   "cell_type": "code",
   "metadata": {
    "id": "MgdjWUfO1wc4",
    "colab": {
     "base_uri": "https://localhost:8080/",
     "height": 35
    },
    "outputId": "3adb57a6-c085-4cce-fe26-3f6917eebbe7"
   },
   "source": [
    "# Use transformed data with a model:\n",
    "\n",
    "from sklearn.datasets import load_boston\n",
    "from sklearn.model_selection import train_test_split\n",
    "from sklearn.linear_model import Ridge\n",
    "\n",
    "boston = load_boston()\n",
    "X, y = boston.data, boston.target\n",
    "\n",
    "X_train, X_test, y_train, y_test = train_test_split(X, y)\n",
    "\n",
    "scaler = preprocessing.StandardScaler()\n",
    "scaler.fit(X_train)\n",
    "X_train_scaled = scaler.transform(X_train)\n",
    "ridge = Ridge().fit(X_train_scaled, y_train)\n",
    "\n",
    "\n",
    "X_test_scaled = scaler.transform(X_test)\n",
    "ridge.score(X_test_scaled, y_test)\n"
   ],
   "execution_count": null,
   "outputs": [
    {
     "output_type": "execute_result",
     "data": {
      "text/plain": [
       "0.7437580388633919"
      ]
     },
     "metadata": {
      "tags": []
     },
     "execution_count": 13
    }
   ]
  },
  {
   "cell_type": "markdown",
   "metadata": {
    "id": "P9Ue8Llc1wdA"
   },
   "source": [
    "# Using MinMaxScaler\n",
    "An alternative standardization is scaling features to lie between a given minimum and maximum value, often between zero and one, or so that the maximum absolute value of each feature is scaled to unit size. This can be achieved using MinMaxScaler."
   ]
  },
  {
   "cell_type": "code",
   "metadata": {
    "id": "JDTY8pVR1wdC",
    "colab": {
     "base_uri": "https://localhost:8080/",
     "height": 69
    },
    "outputId": "04ce0ab7-5f21-4505-bc82-6d06a9ac0a40"
   },
   "source": [
    "# Here is an example to scale an example data matrix to the [0, 1] range:\n",
    "\n",
    "X_train = np.array([[ 1., -1.,  2.],\n",
    "                    [ 2.,  0.,  0.],\n",
    "                    [ 0.,  1., -1.]])\n",
    "\n",
    "min_max_scaler = preprocessing.MinMaxScaler()\n",
    "X_train_minmax = min_max_scaler.fit_transform(X_train) # fit_transform does both at once.  It's a little faster.\n",
    "X_train_minmax"
   ],
   "execution_count": null,
   "outputs": [
    {
     "output_type": "execute_result",
     "data": {
      "text/plain": [
       "array([[0.5       , 0.        , 1.        ],\n",
       "       [1.        , 0.5       , 0.33333333],\n",
       "       [0.        , 1.        , 0.        ]])"
      ]
     },
     "metadata": {
      "tags": []
     },
     "execution_count": 15
    }
   ]
  },
  {
   "cell_type": "code",
   "metadata": {
    "id": "E6aOxAhf1wdK",
    "colab": {
     "base_uri": "https://localhost:8080/",
     "height": 35
    },
    "outputId": "b6307075-831a-4d24-d4b6-8f99f951781b"
   },
   "source": [
    "# And again we can then use the scaler to transform new data.\n",
    "#Note once more that we are scaling new data to the scale built from the training data.  \n",
    "\n",
    "X_test = np.array([[ -3., -1.,  4.]])\n",
    "X_test_minmax = min_max_scaler.transform(X_test)\n",
    "X_test_minmax"
   ],
   "execution_count": null,
   "outputs": [
    {
     "output_type": "execute_result",
     "data": {
      "text/plain": [
       "array([[-1.5       ,  0.        ,  1.66666667]])"
      ]
     },
     "metadata": {
      "tags": []
     },
     "execution_count": 16
    }
   ]
  },
  {
   "cell_type": "markdown",
   "metadata": {
    "id": "DarDDtLH1wdS"
   },
   "source": [
    "The formula for a min-max transformation is as follows:\n"
   ]
  },
  {
   "cell_type": "markdown",
   "metadata": {
    "id": "9DCKXdBr1wdU"
   },
   "source": [
    "For each value in a column of X, subtract the minimium value of the column and divide result by the the result of the maximum value minus the minimum value of the column\n",
    "(X observation value - X.min(axis=0)) / (X.max(axis=0) - X.min(axis=0))"
   ]
  },
  {
   "cell_type": "code",
   "metadata": {
    "id": "hl9fSgmu1wdW",
    "colab": {
     "base_uri": "https://localhost:8080/",
     "height": 35
    },
    "outputId": "3e45a4b0-b228-4557-d475-d9416fa97940"
   },
   "source": [
    "# Use transformed data with a model:\n",
    "from sklearn.linear_model import Ridge\n",
    "from sklearn.datasets import load_boston\n",
    "from sklearn.model_selection import train_test_split\n",
    "\n",
    "boston = load_boston()\n",
    "X, y = boston.data, boston.target\n",
    "\n",
    "X_train, X_test, y_train, y_test = train_test_split(X, y)\n",
    "scaler = preprocessing.MinMaxScaler()\n",
    "scaler.fit(X_train)\n",
    "X_train_scaled = scaler.transform(X_train)\n",
    "ridge = Ridge().fit(X_train_scaled, y_train)\n",
    "X_test_scaled = scaler.transform(X_test)\n",
    "ridge.score(X_test_scaled, y_test)"
   ],
   "execution_count": null,
   "outputs": [
    {
     "output_type": "execute_result",
     "data": {
      "text/plain": [
       "0.7392743260539419"
      ]
     },
     "metadata": {
      "tags": []
     },
     "execution_count": 17
    }
   ]
  },
  {
   "cell_type": "markdown",
   "metadata": {
    "id": "c5J3y6tR1wde"
   },
   "source": [
    "# Using scikit-learn Pipelines"
   ]
  },
  {
   "cell_type": "code",
   "metadata": {
    "id": "Xb4S0D311wdg",
    "colab": {
     "base_uri": "https://localhost:8080/",
     "height": 34
    },
    "outputId": "09ab16a8-6713-4c38-9a1b-01706f737c4f"
   },
   "source": [
    "#Here is the code for a ridge model with the standard transformation...\n",
    "\n",
    "from sklearn.linear_model import Ridge\n",
    "from sklearn.preprocessing import StandardScaler #now we don't need to add preprocessing. before calls to StandardScaler()\n",
    "\n",
    "X, y = boston.data, boston.target\n",
    "X_train, X_test, y_train, y_test = train_test_split(X, y, random_state=0)\n",
    "scaler = StandardScaler()\n",
    "scaler.fit(X_train)\n",
    "X_train_scaled = scaler.transform(X_train)\n",
    "ridge = Ridge().fit(X_train_scaled, y_train)\n",
    "X_test_scaled = scaler.transform(X_test)\n",
    "ridge.score(X_test_scaled, y_test)\n"
   ],
   "execution_count": null,
   "outputs": [
    {
     "output_type": "execute_result",
     "data": {
      "text/plain": [
       "0.6345884564889054"
      ]
     },
     "metadata": {
      "tags": []
     },
     "execution_count": 11
    }
   ]
  },
  {
   "cell_type": "code",
   "metadata": {
    "id": "4oRC7Lqx1wdo",
    "colab": {
     "base_uri": "https://localhost:8080/",
     "height": 34
    },
    "outputId": "e91b89cc-a5ab-4d11-f8c4-fb8e942258ce"
   },
   "source": [
    "# Here is the much cleaner pipeline version:\n",
    "\n",
    "from sklearn.pipeline import make_pipeline\n",
    "\n",
    "pipe = make_pipeline(StandardScaler(), Ridge())\n",
    "pipe.fit(X_train, y_train)\n",
    "pipe.score(X_test, y_test)"
   ],
   "execution_count": null,
   "outputs": [
    {
     "output_type": "execute_result",
     "data": {
      "text/plain": [
       "0.6345884564889054"
      ]
     },
     "metadata": {
      "tags": []
     },
     "execution_count": 12
    }
   ]
  },
  {
   "cell_type": "markdown",
   "metadata": {
    "id": "UnJ662Hr1wdw"
   },
   "source": [
    "# Pipeline and GridSearchCV\n"
   ]
  },
  {
   "cell_type": "code",
   "metadata": {
    "id": "e1M6S05A1wdy"
   },
   "source": [
    "# We need to pay attention to names of pipeline steps when we use GridSearchCV"
   ],
   "execution_count": null,
   "outputs": []
  },
  {
   "cell_type": "code",
   "metadata": {
    "id": "a2WYDy1R1wd5",
    "colab": {
     "base_uri": "https://localhost:8080/",
     "height": 89
    },
    "outputId": "4acd8584-9bc6-449c-88fe-8cf9ce023dd4"
   },
   "source": [
    "from sklearn.pipeline import make_pipeline\n",
    "from sklearn.neighbors import KNeighborsRegressor\n",
    "\n",
    "knn_pipe = make_pipeline(StandardScaler(), KNeighborsRegressor())\n",
    "print(knn_pipe.steps) # names in single quotes (i.e.-'standardscaler' and 'kneighborsregressor')"
   ],
   "execution_count": null,
   "outputs": [
    {
     "output_type": "stream",
     "text": [
      "[('standardscaler', StandardScaler(copy=True, with_mean=True, with_std=True)), ('kneighborsregressor', KNeighborsRegressor(algorithm='auto', leaf_size=30, metric='minkowski',\n",
      "                    metric_params=None, n_jobs=None, n_neighbors=5, p=2,\n",
      "                    weights='uniform'))]\n"
     ],
     "name": "stdout"
    }
   ]
  },
  {
   "cell_type": "code",
   "metadata": {
    "id": "9b9tmtm-1weA",
    "colab": {
     "base_uri": "https://localhost:8080/",
     "height": 52
    },
    "outputId": "2d14e6c5-2cce-4b7a-abe3-43e75de1582d"
   },
   "source": [
    "from sklearn.model_selection import GridSearchCV\n",
    "\n",
    "knn_pipe = make_pipeline(StandardScaler(), KNeighborsRegressor())\n",
    "\n",
    "#refer to step name with two underscores before argument name when...\n",
    "#you build a parameter grid\n",
    "\n",
    "param_grid = {'kneighborsregressor__n_neighbors': range(1, 10)}\n",
    "grid = GridSearchCV(knn_pipe, param_grid, cv=10)\n",
    "grid.fit(X_train, y_train)\n",
    "print(grid.best_params_)\n",
    "print(grid.score(X_test, y_test))"
   ],
   "execution_count": null,
   "outputs": [
    {
     "output_type": "stream",
     "text": [
      "{'kneighborsregressor__n_neighbors': 3}\n",
      "0.8244817507327029\n"
     ],
     "name": "stdout"
    }
   ]
  },
  {
   "cell_type": "code",
   "metadata": {
    "id": "xO84U3lv1weH"
   },
   "source": [
    ""
   ],
   "execution_count": null,
   "outputs": []
  }
 ]
}