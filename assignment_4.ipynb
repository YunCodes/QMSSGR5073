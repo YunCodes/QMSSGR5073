{
 "cells": [
  {
   "cell_type": "markdown",
   "metadata": {
    "collapsed": true,
    "pycharm": {
     "name": "#%% md\n"
    }
   },
   "source": [
    "# Assignment 4: a) Models fit to text data and b) Neural Networks\n",
    "Machine Learning for the Social Sciences\n",
    "Prof. Michael Parrot\n",
    "10 December 2021\n",
    "Yun Choi"
   ]
  },
  {
   "cell_type": "markdown",
   "source": [
    "## Part 1: Build a classification model using text data"
   ],
   "metadata": {
    "collapsed": false
   }
  },
  {
   "cell_type": "code",
   "execution_count": 3,
   "outputs": [],
   "source": [
    "# Import packages and functions to use\n",
    "import aimodelshare as ai\n",
    "import pandas as pd\n",
    "import numpy as np\n",
    "from nltk import word_tokenize\n",
    "from sklearn.feature_extraction.text import CountVectorizer\n",
    "from nltk.stem import WordNetLemmatizer\n",
    "from sklearn.feature_extraction.text import TfidfVectorizer, TfidfTransformer\n",
    "from sklearn.linear_model import LogisticRegression\n",
    "from sklearn.model_selection import GridSearchCV\n",
    "from sklearn.model_selection import cross_val_score\n",
    "import nltk\n",
    "import matplotlib.pyplot as plt\n",
    "from sklearn.preprocessing import StandardScaler\n",
    "from sklearn.metrics import f1_score"
   ],
   "metadata": {
    "collapsed": false,
    "pycharm": {
     "name": "#%%\n"
    }
   }
  },
  {
   "cell_type": "code",
   "execution_count": 4,
   "outputs": [
    {
     "name": "stdout",
     "output_type": "stream",
     "text": [
      "Downloading [==============================================>  ]=============>                                 ]================>                                ]===>                               ]========================>                        ]===============>                    ]==================================>              ]====================================>            ]===================================>          ]========================================>        ]=========>       ]===========================================>     ]============================================>    ]=============================================>   ]\n",
      "\n",
      "Data downloaded successfully.\n",
      "\n",
      "Preparing downloaded files for use...\n",
      "\n",
      "Success! Your Quick Start materials have been downloaded. \n",
      "You are now ready to run the tutorial.\n"
     ]
    }
   ],
   "source": [
    "# Import text data\n",
    "X_train, X_test, y_train_labels, y_test_labels, example_data, lstm_model, lstm_model2 = ai.import_quickstart_data(\"clickbait\")"
   ],
   "metadata": {
    "collapsed": false,
    "pycharm": {
     "name": "#%%\n"
    }
   }
  },
  {
   "cell_type": "code",
   "execution_count": 5,
   "outputs": [
    {
     "name": "stdout",
     "output_type": "stream",
     "text": [
      "['MyBook Disk Drive Handles Lots of Easy Backups'\n",
      " 'CIT Posts Eighth Loss in a Row'\n",
      " 'Candy Carson Singing The \"National Anthem\" Is The Only Thing You Need Today'\n",
      " ... \"38 Hilarious Vines We Couldn't Stop Watching In 2015\"\n",
      " 'Political Swing at Tennis Player Sours Dubai Tournament for All'\n",
      " 'United States military death toll in Iraq reaches 4,000']\n",
      "[0 0 1 ... 1 0 0]\n"
     ]
    }
   ],
   "source": [
    "# Preprocess data\n",
    "X_train_array=np.array(X_train)\n",
    "X_test_array=np.array(X_test)\n",
    "y_train_labels_encoded_array=np.array(pd.get_dummies(y_train_labels)['clickbait'])\n",
    "y_test_labels_encoded_array=np.array(pd.get_dummies(y_test_labels)['clickbait'])\n",
    "\n",
    "# Print first elements of X_train data\n",
    "print(X_train_array)\n",
    "# Print first elements of Y_train data\n",
    "print(y_train_labels_encoded_array)"
   ],
   "metadata": {
    "collapsed": false,
    "pycharm": {
     "name": "#%%\n"
    }
   }
  },
  {
   "cell_type": "code",
   "execution_count": 6,
   "outputs": [
    {
     "data": {
      "text/plain": "0    12778\n1    12201\nName: clickbait, dtype: int64"
     },
     "execution_count": 6,
     "metadata": {},
     "output_type": "execute_result"
    }
   ],
   "source": [
    "# Check the balance between clickbaits and non-clickbaits\n",
    "pd.get_dummies(y_train_labels)['clickbait'].value_counts()"
   ],
   "metadata": {
    "collapsed": false,
    "pycharm": {
     "name": "#%%\n"
    }
   }
  },
  {
   "cell_type": "code",
   "execution_count": 7,
   "outputs": [
    {
     "name": "stdout",
     "output_type": "stream",
     "text": [
      "['MyBook Disk Drive Handles Lots of Easy Backups'\n",
      " 'CIT Posts Eighth Loss in a Row'\n",
      " 'Candy Carson Singing The \"National Anthem\" Is The Only Thing You Need Today'\n",
      " ... \"38 Hilarious Vines We Couldn't Stop Watching In 2015\"\n",
      " 'Political Swing at Tennis Player Sours Dubai Tournament for All'\n",
      " 'United States military death toll in Iraq reaches 4,000']\n",
      "[0 0 1 ... 1 0 0]\n"
     ]
    }
   ],
   "source": [
    "# Print the first elements of X_train data\n",
    "print(X_train_array)\n",
    "# Print the first elements of y_train data\n",
    "print(y_train_labels_encoded_array)"
   ],
   "metadata": {
    "collapsed": false,
    "pycharm": {
     "name": "#%%\n"
    }
   }
  },
  {
   "cell_type": "code",
   "execution_count": 8,
   "outputs": [],
   "source": [
    "# Create a stopwords list\n",
    "from sklearn.feature_extraction.text import ENGLISH_STOP_WORDS\n",
    "stopwords=list(ENGLISH_STOP_WORDS)\n",
    "\n",
    "# Create LemmaTokenizer\n",
    "class LemmaTokenizer(object):\n",
    "    def __init__(self):\n",
    "        self.wnl = WordNetLemmatizer()\n",
    "    def __call__(self, doc):\n",
    "        return [self.wnl.lemmatize(t) for t in word_tokenize(doc) if t not in stopwords]"
   ],
   "metadata": {
    "collapsed": false,
    "pycharm": {
     "name": "#%%\n"
    }
   }
  },
  {
   "cell_type": "code",
   "execution_count": 9,
   "outputs": [
    {
     "name": "stderr",
     "output_type": "stream",
     "text": [
      "/Users/yunchoi/opt/anaconda3/lib/python3.8/site-packages/sklearn/feature_extraction/text.py:489: UserWarning: The parameter 'token_pattern' will not be used since 'tokenizer' is not None'\n",
      "  warnings.warn(\"The parameter 'token_pattern' will not be used\"\n"
     ]
    }
   ],
   "source": [
    "# Create 3 tokenizers to compare\n",
    "# vect1 - lowercased unigram without stopwords\n",
    "vect1=CountVectorizer(lowercase=True, stop_words='english').fit(X_train_array)\n",
    "# vect2 - lemmatizated and lowercased uni- and bi-grams without stopwords\n",
    "vect2=CountVectorizer(tokenizer=LemmaTokenizer(), lowercase=True, stop_words='english').fit(X_train_array)\n",
    "# vect3 - lowercased uni- and bi-grams without stopwords\n",
    "vect3=TfidfVectorizer(lowercase=True, norm=None, stop_words='english').fit(X_train_array)"
   ],
   "metadata": {
    "collapsed": false,
    "pycharm": {
     "name": "#%%\n"
    }
   }
  },
  {
   "cell_type": "markdown",
   "source": [
    "I tried three different vectorizers:\n",
    "1. CountVectorizer(lowercase=True, stop_words='english')\n",
    "2. CountVectorizer(tokenizer=LemmaTokenizer(), lowercase=True, stop_words='english')\n",
    "3. TfidfVectorizer(lowercase=True, norm=None, stop_words='english')\n",
    "\n",
    "All three vectorizers lowercase words and exclude stopwords. But the second vectorizer is different from the first one in that it also lemmatizes words. The third vectorizer is different from the first two in that it penalizes common words. The others only count the number of times a word appears in the document without penalizing common words."
   ],
   "metadata": {
    "collapsed": false,
    "pycharm": {
     "name": "#%% md\n"
    }
   }
  },
  {
   "cell_type": "code",
   "execution_count": 10,
   "outputs": [],
   "source": [
    "# helper function to plot top positive and negative coefficients\n",
    "\n",
    "def visualize_coefficients(coefficients, feature_names, n_top_features=25):\n",
    "    coefficients = coefficients.squeeze()\n",
    "    if coefficients.ndim > 1:\n",
    "        # this is not a row or column vector\n",
    "        raise ValueError(\"coeffients must be 1d array or column vector, got\"\n",
    "                         \" shape {}\".format(coefficients.shape))\n",
    "    coefficients = coefficients.ravel()\n",
    "\n",
    "    if len(coefficients) != len(feature_names):\n",
    "        raise ValueError(\"Number of coefficients {} doesn't match number of\"\n",
    "                         \"feature names {}.\".format(len(coefficients),\n",
    "                                                    len(feature_names)))\n",
    "    # get coefficients with large absolute values\n",
    "    coef = coefficients.ravel()\n",
    "    positive_coefficients = np.argsort(coef)[-n_top_features:]\n",
    "    negative_coefficients = np.argsort(coef)[:n_top_features]\n",
    "    interesting_coefficients = np.hstack([negative_coefficients,\n",
    "                                          positive_coefficients])\n",
    "    # plot them\n",
    "    plt.figure(figsize=(15, 5))\n",
    "    colors = ['#ff2020' if c < 0 else '#0000aa'\n",
    "              for c in coef[interesting_coefficients]]\n",
    "    plt.bar(np.arange(2 * n_top_features), coef[interesting_coefficients],\n",
    "            color=colors)\n",
    "    feature_names = np.array(feature_names)\n",
    "    plt.subplots_adjust(bottom=0.3)\n",
    "    plt.xticks(np.arange(1, 1 + 2 * n_top_features),\n",
    "               feature_names[interesting_coefficients], rotation=60,\n",
    "               ha=\"right\")\n",
    "    plt.ylabel(\"Coefficient magnitude\")\n",
    "    plt.xlabel(\"Feature\")\n"
   ],
   "metadata": {
    "collapsed": false,
    "pycharm": {
     "name": "#%%\n"
    }
   }
  },
  {
   "cell_type": "code",
   "execution_count": 13,
   "outputs": [
    {
     "name": "stdout",
     "output_type": "stream",
     "text": [
      "Vectorizer: CountVectorizer(stop_words='english')\n",
      "  cross-validation score: 0.949\n",
      "  test score: 0.953\n"
     ]
    },
    {
     "data": {
      "text/plain": "None"
     },
     "metadata": {},
     "output_type": "display_data"
    },
    {
     "name": "stdout",
     "output_type": "stream",
     "text": [
      "Vectorizer: CountVectorizer(stop_words='english',\n",
      "                tokenizer=<__main__.LemmaTokenizer object at 0x7f9aab871be0>)\n",
      "  cross-validation score: 0.953\n",
      "  test score: 0.960\n"
     ]
    },
    {
     "data": {
      "text/plain": "None"
     },
     "metadata": {},
     "output_type": "display_data"
    },
    {
     "name": "stdout",
     "output_type": "stream",
     "text": [
      "Vectorizer: TfidfVectorizer(norm=None, stop_words='english')\n",
      "  cross-validation score: 0.950\n",
      "  test score: 0.954\n"
     ]
    },
    {
     "data": {
      "text/plain": "None"
     },
     "metadata": {},
     "output_type": "display_data"
    },
    {
     "data": {
      "text/plain": "<Figure size 1080x360 with 1 Axes>",
      "image/png": "[encoded data removed]"
     },
     "metadata": {
      "needs_background": "light"
     },
     "output_type": "display_data"
    },
    {
     "data": {
      "text/plain": "<Figure size 1080x360 with 1 Axes>",
      "image/png": "[encoded data removed]"
     },
     "metadata": {
      "needs_background": "light"
     },
     "output_type": "display_data"
    },
    {
     "data": {
      "text/plain": "<Figure size 1080x360 with 1 Axes>",
      "image/png": "[encoded data removed]"
     },
     "metadata": {
      "needs_background": "light"
     },
     "output_type": "display_data"
    }
   ],
   "source": [
    "# Create a list of the vectorizers to feed into a for loop\n",
    "vectorizers=[vect1, vect2, vect3]\n",
    "\n",
    "for vect in vectorizers:\n",
    "    X=vect.transform(X_train_array)\n",
    "    X_test=vect.transform(X_test_array)\n",
    "    scores=cross_val_score(LogisticRegression(), X, y_train_labels_encoded_array, scoring='f1')\n",
    "    print(\"Vectorizer:\", vect)\n",
    "    print(\"  cross-validation score: {:.3f}\".format(np.mean(scores)))\n",
    "    # Get the predictions\n",
    "    lr=LogisticRegression().fit(X, y_train_labels_encoded_array)\n",
    "    y_pred = lr.predict(X_test)\n",
    "    print(\"  test score: {:.3f}\".format(f1_score(y_test_labels_encoded_array, y_pred)))\n",
    "    coefs=lr.coef_\n",
    "    feature_names=vect.get_feature_names()\n",
    "    display(visualize_coefficients(coefs, feature_names, n_top_features=15))"
   ],
   "metadata": {
    "collapsed": false,
    "pycharm": {
     "name": "#%%\n"
    }
   }
  },
  {
   "cell_type": "markdown",
   "source": [
    "The results above show the cross-validation and test scores, and 30 words most helpful determining a clickbait, for each vectorization approach.\n",
    "\n",
    "**[Vectorizer #1]**\n",
    "The first vectorizer, lowercasing all words and excluding stop words, produced the cross-validation score of 0.949, and the test score of 0.953.\n",
    "\n",
    "The most important predictor words for a clickbait in a logistic regression model using the first vectorizer are 'actually', 'guess', and '2015', and the most important predictor words for a non-clickbait are 'dies', 'kills', and 'wins'.\n",
    "\n",
    "The verbs remain singular because neither stemming or lemmatization has been applied.\n",
    "\n",
    "**[Vectorizer #2]**\n",
    "The second vectorizer, lemmatizing, lowercasing all words and excluding stop words, produced the cross-validation score of 0.953, and the test score of 0.960. Those are the highest among the results from the three vectorization approaches I tried.\n",
    "\n",
    "The most important predictor words for a clickbait in a logistic regression model using the second vectorizer are same as those from the first one. But the most important predictor words for a non-clickbait are different, and they are 'dy', 'iraq', and 'u.s.' Thanks to lemmatization, the predictor 'dy' encompasses all forms of the verb 'die', and that includes 'dies', which is one of the most important predictor words from the first vectorization approach.\n",
    "\n",
    "**[Vectorizer #3]**\n",
    "The last vectorizer, lowercasing all words, excluding stop words, and penalizing common words, produced the cross-validation score of 0.95, and the test score of 0.954. Those are the second highest among the results from the three vectorization approaches.\n",
    "\n",
    "The most important predictor words for a clickbait in a logistic regression model using the third vectorizer are 'know', 'guess', and 'actually'. The most important predictor words for a non-clickbait are 'dies', 'kills', and 'prices'. When comparing to the results from the first vectorization approach, I can notice that the word 'wins' has been dropped. That implies that the word 'wins' may be too common across the document to be one of the greatest predictors for a non-clickbait.\n",
    "\n",
    "I would ultimately choose the second vectorizer not only because it produces the highest cross-validation and test scores, but also it seems most theoretically sound. Lemmatization groups together many forms of a word so they can be analyzed as a single item as they should."
   ],
   "metadata": {
    "collapsed": false,
    "pycharm": {
     "name": "#%% md\n"
    }
   }
  },
  {
   "cell_type": "markdown",
   "source": [
    "## Part 2: Build a predictive neural network using Keras"
   ],
   "metadata": {
    "collapsed": false
   }
  },
  {
   "cell_type": "code",
   "execution_count": 42,
   "outputs": [],
   "source": [
    "# Import packages\n",
    "from sklearn.model_selection import train_test_split\n",
    "import tensorflow.keras as keras\n",
    "from tensorflow.keras.models import Sequential\n",
    "from tensorflow.keras.layers import Dense, Activation\n",
    "from tensorflow.keras.optimizers import SGD\n",
    "from tensorflow.keras.wrappers.scikit_learn import KerasClassifier\n",
    "import tensorflow as tf"
   ],
   "metadata": {
    "collapsed": false,
    "pycharm": {
     "name": "#%%\n"
    }
   }
  },
  {
   "cell_type": "code",
   "execution_count": 23,
   "outputs": [],
   "source": [
    "# fix random seed for reproducibility\n",
    "np.random.seed(42)"
   ],
   "metadata": {
    "collapsed": false,
    "pycharm": {
     "name": "#%%\n"
    }
   }
  },
  {
   "cell_type": "code",
   "execution_count": 24,
   "outputs": [
    {
     "data": {
      "text/plain": "   Sepal.Length  Sepal.Width  Petal.Length  Petal.Width Species\n1           5.1          3.5           1.4          0.2  setosa\n2           4.9          3.0           1.4          0.2  setosa\n3           4.7          3.2           1.3          0.2  setosa\n4           4.6          3.1           1.5          0.2  setosa\n5           5.0          3.6           1.4          0.2  setosa",
      "text/html": "<div>\n<style scoped>\n    .dataframe tbody tr th:only-of-type {\n        vertical-align: middle;\n    }\n\n    .dataframe tbody tr th {\n        vertical-align: top;\n    }\n\n    .dataframe thead th {\n        text-align: right;\n    }\n</style>\n<table border=\"1\" class=\"dataframe\">\n  <thead>\n    <tr style=\"text-align: right;\">\n      <th></th>\n      <th>Sepal.Length</th>\n      <th>Sepal.Width</th>\n      <th>Petal.Length</th>\n      <th>Petal.Width</th>\n      <th>Species</th>\n    </tr>\n  </thead>\n  <tbody>\n    <tr>\n      <th>1</th>\n      <td>5.1</td>\n      <td>3.5</td>\n      <td>1.4</td>\n      <td>0.2</td>\n      <td>setosa</td>\n    </tr>\n    <tr>\n      <th>2</th>\n      <td>4.9</td>\n      <td>3.0</td>\n      <td>1.4</td>\n      <td>0.2</td>\n      <td>setosa</td>\n    </tr>\n    <tr>\n      <th>3</th>\n      <td>4.7</td>\n      <td>3.2</td>\n      <td>1.3</td>\n      <td>0.2</td>\n      <td>setosa</td>\n    </tr>\n    <tr>\n      <th>4</th>\n      <td>4.6</td>\n      <td>3.1</td>\n      <td>1.5</td>\n      <td>0.2</td>\n      <td>setosa</td>\n    </tr>\n    <tr>\n      <th>5</th>\n      <td>5.0</td>\n      <td>3.6</td>\n      <td>1.4</td>\n      <td>0.2</td>\n      <td>setosa</td>\n    </tr>\n  </tbody>\n</table>\n</div>"
     },
     "execution_count": 24,
     "metadata": {},
     "output_type": "execute_result"
    }
   ],
   "source": [
    "# Import data\n",
    "df=pd.read_csv(\"http://vincentarelbundock.github.io/Rdatasets/csv/datasets/iris.csv\", index_col=0)\n",
    "df.head()"
   ],
   "metadata": {
    "collapsed": false,
    "pycharm": {
     "name": "#%%\n"
    }
   }
  },
  {
   "cell_type": "code",
   "execution_count": 25,
   "outputs": [
    {
     "name": "stdout",
     "output_type": "stream",
     "text": [
      "Unique Species:  ['setosa' 'versicolor' 'virginica']\n"
     ]
    }
   ],
   "source": [
    "print(\"Unique Species: \", df['Species'].unique())"
   ],
   "metadata": {
    "collapsed": false,
    "pycharm": {
     "name": "#%%\n"
    }
   }
  },
  {
   "cell_type": "code",
   "execution_count": 26,
   "outputs": [],
   "source": [
    "# Recode dependent variable\n",
    "df.loc[df[\"Species\"]==\"setosa\",\"Species\"]=0\n",
    "df.loc[df[\"Species\"]==\"versicolor\",\"Species\"]=1\n",
    "df.loc[df[\"Species\"]==\"virginica\",\"Species\"]=2"
   ],
   "metadata": {
    "collapsed": false,
    "pycharm": {
     "name": "#%%\n"
    }
   }
  },
  {
   "cell_type": "code",
   "execution_count": 27,
   "outputs": [],
   "source": [
    "# Create X and y data\n",
    "y = df['Species']\n",
    "X = df.loc[:, df.columns != 'Species']\n",
    "\n",
    "# Split data into training and test sets\n",
    "X_train, X_test, y_train, y_test = train_test_split(X, y, random_state=42)"
   ],
   "metadata": {
    "collapsed": false,
    "pycharm": {
     "name": "#%%\n"
    }
   }
  },
  {
   "cell_type": "code",
   "execution_count": 28,
   "outputs": [],
   "source": [
    "# Standardize data with StandardScaler()\n",
    "scaler = StandardScaler()\n",
    "scaler.fit(X_train)\n",
    "X_train_scaled = scaler.transform(X_train)\n",
    "X_test_scaled = scaler.transform(X_test)\n"
   ],
   "metadata": {
    "collapsed": false,
    "pycharm": {
     "name": "#%%\n"
    }
   }
  },
  {
   "cell_type": "code",
   "execution_count": 33,
   "outputs": [
    {
     "name": "stderr",
     "output_type": "stream",
     "text": [
      "/var/folders/h9/0f45b_ds7dl174n175hjm_sm0000gn/T/ipykernel_31931/1264335439.py:16: DeprecationWarning: KerasClassifier is deprecated, use Sci-Keras (https://github.com/adriangb/scikeras) instead.\n",
      "  model = KerasClassifier(build_fn=create_model)\n"
     ]
    },
    {
     "name": "stdout",
     "output_type": "stream",
     "text": [
      "3/3 [==============================] - 2s 10ms/step - loss: 1.0802 - accuracy: 0.5393\n",
      "1/1 [==============================] - 0s 231ms/step - loss: 1.0675 - accuracy: 0.5652\n",
      "3/3 [==============================] - 1s 5ms/step - loss: 1.0432 - accuracy: 0.6292\n",
      "1/1 [==============================] - 0s 283ms/step - loss: 1.0457 - accuracy: 0.6087\n",
      "3/3 [==============================] - 1s 3ms/step - loss: 1.0724 - accuracy: 0.4000\n",
      "1/1 [==============================] - 0s 279ms/step - loss: 1.0153 - accuracy: 0.5455\n",
      "3/3 [==============================] - 1s 7ms/step - loss: 1.1324 - accuracy: 0.3111\n",
      "1/1 [==============================] - 0s 353ms/step - loss: 1.1030 - accuracy: 0.4091\n",
      "3/3 [==============================] - 0s 6ms/step - loss: 1.1273 - accuracy: 0.3556\n",
      "1/1 [==============================] - 0s 281ms/step - loss: 1.1042 - accuracy: 0.5000\n",
      "3/3 [==============================] - 1s 4ms/step - loss: 1.1034 - accuracy: 0.3034\n",
      "1/1 [==============================] - 0s 233ms/step - loss: 1.0993 - accuracy: 0.3478\n",
      "3/3 [==============================] - 1s 9ms/step - loss: 1.0958 - accuracy: 0.2921\n",
      "1/1 [==============================] - 0s 287ms/step - loss: 1.0588 - accuracy: 0.3913\n",
      "3/3 [==============================] - 1s 10ms/step - loss: 1.1267 - accuracy: 0.1778\n",
      "1/1 [==============================] - 0s 209ms/step - loss: 1.1194 - accuracy: 0.0909\n",
      "3/3 [==============================] - 1s 7ms/step - loss: 1.1160 - accuracy: 0.4000\n",
      "1/1 [==============================] - 0s 202ms/step - loss: 1.1314 - accuracy: 0.3182\n",
      "3/3 [==============================] - 1s 10ms/step - loss: 1.0743 - accuracy: 0.5444\n",
      "1/1 [==============================] - 0s 329ms/step - loss: 1.0953 - accuracy: 0.3636\n",
      "3/3 [==============================] - 1s 9ms/step - loss: 1.1157 - accuracy: 0.1348\n",
      "1/1 [==============================] - 0s 244ms/step - loss: 1.1281 - accuracy: 0.0435\n",
      "3/3 [==============================] - 1s 5ms/step - loss: 1.0999 - accuracy: 0.0337\n",
      "1/1 [==============================] - 0s 195ms/step - loss: 1.0893 - accuracy: 0.1739\n",
      "3/3 [==============================] - 0s 3ms/step - loss: 1.1218 - accuracy: 0.3111\n",
      "1/1 [==============================] - 0s 194ms/step - loss: 1.1386 - accuracy: 0.2273\n",
      "3/3 [==============================] - 0s 5ms/step - loss: 1.1096 - accuracy: 0.2556\n",
      "1/1 [==============================] - 0s 205ms/step - loss: 1.1218 - accuracy: 0.2273\n",
      "3/3 [==============================] - 1s 3ms/step - loss: 1.1816 - accuracy: 0.1778\n",
      "1/1 [==============================] - 0s 191ms/step - loss: 1.1909 - accuracy: 0.0909\n",
      "3/3 [==============================] - 0s 4ms/step - loss: 1.1372 - accuracy: 0.0562\n",
      "1/1 [==============================] - 0s 205ms/step - loss: 1.1478 - accuracy: 0.0000e+00\n",
      "3/3 [==============================] - 1s 5ms/step - loss: 1.1133 - accuracy: 0.3034\n",
      "1/1 [==============================] - 0s 293ms/step - loss: 1.1266 - accuracy: 0.1304\n",
      "3/3 [==============================] - 1s 5ms/step - loss: 1.0504 - accuracy: 0.4111\n",
      "1/1 [==============================] - 0s 436ms/step - loss: 1.0242 - accuracy: 0.5455\n",
      "3/3 [==============================] - 1s 7ms/step - loss: 1.0608 - accuracy: 0.5556\n",
      "1/1 [==============================] - 0s 263ms/step - loss: 1.0894 - accuracy: 0.2727\n",
      "3/3 [==============================] - 1s 5ms/step - loss: 1.1299 - accuracy: 0.2333\n",
      "1/1 [==============================] - 0s 193ms/step - loss: 1.1179 - accuracy: 0.1818\n",
      "3/3 [==============================] - 0s 6ms/step - loss: 1.1035 - accuracy: 0.3933\n",
      "1/1 [==============================] - 0s 209ms/step - loss: 1.0918 - accuracy: 0.5217\n",
      "3/3 [==============================] - 1s 9ms/step - loss: 1.1329 - accuracy: 0.0899\n",
      "1/1 [==============================] - 0s 220ms/step - loss: 1.1298 - accuracy: 0.0870\n",
      "3/3 [==============================] - 1s 7ms/step - loss: 1.1354 - accuracy: 0.2778\n",
      "1/1 [==============================] - 0s 328ms/step - loss: 1.1455 - accuracy: 0.2727\n",
      "3/3 [==============================] - 1s 7ms/step - loss: 1.0848 - accuracy: 0.3444\n",
      "1/1 [==============================] - 0s 222ms/step - loss: 1.0887 - accuracy: 0.2273\n",
      "3/3 [==============================] - 1s 10ms/step - loss: 1.1322 - accuracy: 0.2778\n",
      "1/1 [==============================] - 0s 286ms/step - loss: 1.1154 - accuracy: 0.2273\n",
      "4/4 [==============================] - 1s 4ms/step - loss: 1.0316 - accuracy: 0.5893\n",
      " Tuning Parameters: {'hiddennodes': 200}\n",
      "   best mean cross-validation score: 0.526\n",
      "2/2 [==============================] - 0s 12ms/step - loss: 1.0283 - accuracy: 0.6053\n",
      "   test-set score: 0.605\n"
     ]
    }
   ],
   "source": [
    "# Create a model\n",
    "def create_model(hiddennodes=200):\n",
    "    # create model\n",
    "    model=Sequential()\n",
    "    model.add(Dense(hiddennodes, input_dim=4, activation='relu'))\n",
    "    model.add(Dense(hiddennodes, activation='relu'))\n",
    "    model.add(Dense(3, activation='softmax'))\n",
    "\n",
    "    sgd = SGD(learning_rate=0.001)\n",
    "\n",
    "    # Compile model\n",
    "    model.compile(loss='categorical_crossentropy', optimizer=sgd, metrics=['accuracy'])\n",
    "    return model\n",
    "\n",
    "# KerasClassifier\n",
    "model = KerasClassifier(build_fn=create_model)\n",
    "\n",
    "# Building a simple search grid that adjusts epochs\n",
    "param_grid = dict(hiddennodes=[200, 250, 300, 350, 400])\n",
    "grid = GridSearchCV(estimator=model, param_grid=param_grid)\n",
    "grid_result = grid.fit(X_train_scaled, y_train)\n",
    "print(\" Tuning Parameters: {}\".format(grid.best_params_))\n",
    "print(\"   best mean cross-validation score: {:.3f}\".format(grid.best_score_))\n",
    "print(\"   test-set score: {:.3f}\".format(grid.score(X_test_scaled, y_test)))"
   ],
   "metadata": {
    "collapsed": false,
    "pycharm": {
     "name": "#%%\n"
    }
   }
  },
  {
   "cell_type": "markdown",
   "source": [
    "The result above shows that among the five values I tried for the number of hidden nodes in each layer - 200, 250, 300, 350, and 400 - the value of 200 produces the best mean cross-validation score of 0.526. The test score of 0.605, which is higher than the mean cross-validation score, implies a low risk of overfitting.\n",
    "\n",
    "I took a closer look at:"
   ],
   "metadata": {
    "collapsed": false,
    "pycharm": {
     "name": "#%% md\n"
    }
   }
  },
  {
   "cell_type": "code",
   "execution_count": 46,
   "outputs": [
    {
     "name": "stderr",
     "output_type": "stream",
     "text": [
      "/var/folders/h9/0f45b_ds7dl174n175hjm_sm0000gn/T/ipykernel_31931/2245650403.py:3: DeprecationWarning: `np.int` is a deprecated alias for the builtin `int`. To silence this warning, use `int` by itself. Doing this will not modify any behavior and is safe. When replacing `np.int`, you may wish to use e.g. `np.int64` or `np.int32` to specify the precision. If you wish to review your current use, check the release note link for additional information.\n",
      "Deprecated in NumPy 1.20; for more details and guidance: https://numpy.org/devdocs/release/1.20.0-notes.html#deprecations\n",
      "  y_train=np.asarray(y_train).astype(np.int)\n",
      "/var/folders/h9/0f45b_ds7dl174n175hjm_sm0000gn/T/ipykernel_31931/2245650403.py:4: DeprecationWarning: `np.int` is a deprecated alias for the builtin `int`. To silence this warning, use `int` by itself. Doing this will not modify any behavior and is safe. When replacing `np.int`, you may wish to use e.g. `np.int64` or `np.int32` to specify the precision. If you wish to review your current use, check the release note link for additional information.\n",
      "Deprecated in NumPy 1.20; for more details and guidance: https://numpy.org/devdocs/release/1.20.0-notes.html#deprecations\n",
      "  y_test=np.asarray(y_test).astype(np.int)\n"
     ]
    },
    {
     "ename": "ValueError",
     "evalue": "in user code:\n\n    File \"/Users/yunchoi/opt/anaconda3/lib/python3.8/site-packages/keras/engine/training.py\", line 878, in train_function  *\n        return step_function(self, iterator)\n    File \"/Users/yunchoi/opt/anaconda3/lib/python3.8/site-packages/keras/engine/training.py\", line 867, in step_function  **\n        outputs = model.distribute_strategy.run(run_step, args=(data,))\n    File \"/Users/yunchoi/opt/anaconda3/lib/python3.8/site-packages/keras/engine/training.py\", line 860, in run_step  **\n        outputs = model.train_step(data)\n    File \"/Users/yunchoi/opt/anaconda3/lib/python3.8/site-packages/keras/engine/training.py\", line 809, in train_step\n        loss = self.compiled_loss(\n    File \"/Users/yunchoi/opt/anaconda3/lib/python3.8/site-packages/keras/engine/compile_utils.py\", line 201, in __call__\n        loss_value = loss_obj(y_t, y_p, sample_weight=sw)\n    File \"/Users/yunchoi/opt/anaconda3/lib/python3.8/site-packages/keras/losses.py\", line 141, in __call__\n        losses = call_fn(y_true, y_pred)\n    File \"/Users/yunchoi/opt/anaconda3/lib/python3.8/site-packages/keras/losses.py\", line 245, in call  **\n        return ag_fn(y_true, y_pred, **self._fn_kwargs)\n    File \"/Users/yunchoi/opt/anaconda3/lib/python3.8/site-packages/keras/losses.py\", line 1664, in categorical_crossentropy\n        return backend.categorical_crossentropy(\n    File \"/Users/yunchoi/opt/anaconda3/lib/python3.8/site-packages/keras/backend.py\", line 4994, in categorical_crossentropy\n        target.shape.assert_is_compatible_with(output.shape)\n\n    ValueError: Shapes (None, 1) and (None, 3) are incompatible\n",
     "output_type": "error",
     "traceback": [
      "\u001B[0;31m---------------------------------------------------------------------------\u001B[0m",
      "\u001B[0;31mValueError\u001B[0m                                Traceback (most recent call last)",
      "\u001B[0;32m/var/folders/h9/0f45b_ds7dl174n175hjm_sm0000gn/T/ipykernel_31931/2245650403.py\u001B[0m in \u001B[0;36m<module>\u001B[0;34m\u001B[0m\n\u001B[1;32m     10\u001B[0m \u001B[0msgd\u001B[0m \u001B[0;34m=\u001B[0m \u001B[0mSGD\u001B[0m\u001B[0;34m(\u001B[0m\u001B[0mlearning_rate\u001B[0m\u001B[0;34m=\u001B[0m\u001B[0;36m0.001\u001B[0m\u001B[0;34m)\u001B[0m\u001B[0;34m\u001B[0m\u001B[0;34m\u001B[0m\u001B[0m\n\u001B[1;32m     11\u001B[0m \u001B[0mmodel1\u001B[0m\u001B[0;34m.\u001B[0m\u001B[0mcompile\u001B[0m\u001B[0;34m(\u001B[0m\u001B[0mloss\u001B[0m\u001B[0;34m=\u001B[0m\u001B[0;34m'categorical_crossentropy'\u001B[0m\u001B[0;34m,\u001B[0m \u001B[0moptimizer\u001B[0m\u001B[0;34m=\u001B[0m\u001B[0msgd\u001B[0m\u001B[0;34m,\u001B[0m \u001B[0mmetrics\u001B[0m\u001B[0;34m=\u001B[0m\u001B[0;34m[\u001B[0m\u001B[0;34m'accuracy'\u001B[0m\u001B[0;34m]\u001B[0m\u001B[0;34m)\u001B[0m\u001B[0;34m\u001B[0m\u001B[0;34m\u001B[0m\u001B[0m\n\u001B[0;32m---> 12\u001B[0;31m \u001B[0mmodel1\u001B[0m\u001B[0;34m.\u001B[0m\u001B[0mfit\u001B[0m\u001B[0;34m(\u001B[0m\u001B[0mX_train_scaled\u001B[0m\u001B[0;34m,\u001B[0m \u001B[0my_train\u001B[0m\u001B[0;34m)\u001B[0m\u001B[0;34m\u001B[0m\u001B[0;34m\u001B[0m\u001B[0m\n\u001B[0m\u001B[1;32m     13\u001B[0m     \u001B[0;31m#core = model.evaluate(X_test_scaled, y_test)\u001B[0m\u001B[0;34m\u001B[0m\u001B[0;34m\u001B[0m\u001B[0;34m\u001B[0m\u001B[0m\n\u001B[1;32m     14\u001B[0m     \u001B[0;31m#print(\"Number of nodes in each hidden layer:\", i)\u001B[0m\u001B[0;34m\u001B[0m\u001B[0;34m\u001B[0m\u001B[0;34m\u001B[0m\u001B[0m\n",
      "\u001B[0;32m~/opt/anaconda3/lib/python3.8/site-packages/keras/utils/traceback_utils.py\u001B[0m in \u001B[0;36merror_handler\u001B[0;34m(*args, **kwargs)\u001B[0m\n\u001B[1;32m     65\u001B[0m     \u001B[0;32mexcept\u001B[0m \u001B[0mException\u001B[0m \u001B[0;32mas\u001B[0m \u001B[0me\u001B[0m\u001B[0;34m:\u001B[0m  \u001B[0;31m# pylint: disable=broad-except\u001B[0m\u001B[0;34m\u001B[0m\u001B[0;34m\u001B[0m\u001B[0m\n\u001B[1;32m     66\u001B[0m       \u001B[0mfiltered_tb\u001B[0m \u001B[0;34m=\u001B[0m \u001B[0m_process_traceback_frames\u001B[0m\u001B[0;34m(\u001B[0m\u001B[0me\u001B[0m\u001B[0;34m.\u001B[0m\u001B[0m__traceback__\u001B[0m\u001B[0;34m)\u001B[0m\u001B[0;34m\u001B[0m\u001B[0;34m\u001B[0m\u001B[0m\n\u001B[0;32m---> 67\u001B[0;31m       \u001B[0;32mraise\u001B[0m \u001B[0me\u001B[0m\u001B[0;34m.\u001B[0m\u001B[0mwith_traceback\u001B[0m\u001B[0;34m(\u001B[0m\u001B[0mfiltered_tb\u001B[0m\u001B[0;34m)\u001B[0m \u001B[0;32mfrom\u001B[0m \u001B[0;32mNone\u001B[0m\u001B[0;34m\u001B[0m\u001B[0;34m\u001B[0m\u001B[0m\n\u001B[0m\u001B[1;32m     68\u001B[0m     \u001B[0;32mfinally\u001B[0m\u001B[0;34m:\u001B[0m\u001B[0;34m\u001B[0m\u001B[0;34m\u001B[0m\u001B[0m\n\u001B[1;32m     69\u001B[0m       \u001B[0;32mdel\u001B[0m \u001B[0mfiltered_tb\u001B[0m\u001B[0;34m\u001B[0m\u001B[0;34m\u001B[0m\u001B[0m\n",
      "\u001B[0;32m~/opt/anaconda3/lib/python3.8/site-packages/tensorflow/python/framework/func_graph.py\u001B[0m in \u001B[0;36mautograph_handler\u001B[0;34m(*args, **kwargs)\u001B[0m\n\u001B[1;32m   1127\u001B[0m           \u001B[0;32mexcept\u001B[0m \u001B[0mException\u001B[0m \u001B[0;32mas\u001B[0m \u001B[0me\u001B[0m\u001B[0;34m:\u001B[0m  \u001B[0;31m# pylint:disable=broad-except\u001B[0m\u001B[0;34m\u001B[0m\u001B[0;34m\u001B[0m\u001B[0m\n\u001B[1;32m   1128\u001B[0m             \u001B[0;32mif\u001B[0m \u001B[0mhasattr\u001B[0m\u001B[0;34m(\u001B[0m\u001B[0me\u001B[0m\u001B[0;34m,\u001B[0m \u001B[0;34m\"ag_error_metadata\"\u001B[0m\u001B[0;34m)\u001B[0m\u001B[0;34m:\u001B[0m\u001B[0;34m\u001B[0m\u001B[0;34m\u001B[0m\u001B[0m\n\u001B[0;32m-> 1129\u001B[0;31m               \u001B[0;32mraise\u001B[0m \u001B[0me\u001B[0m\u001B[0;34m.\u001B[0m\u001B[0mag_error_metadata\u001B[0m\u001B[0;34m.\u001B[0m\u001B[0mto_exception\u001B[0m\u001B[0;34m(\u001B[0m\u001B[0me\u001B[0m\u001B[0;34m)\u001B[0m\u001B[0;34m\u001B[0m\u001B[0;34m\u001B[0m\u001B[0m\n\u001B[0m\u001B[1;32m   1130\u001B[0m             \u001B[0;32melse\u001B[0m\u001B[0;34m:\u001B[0m\u001B[0;34m\u001B[0m\u001B[0;34m\u001B[0m\u001B[0m\n\u001B[1;32m   1131\u001B[0m               \u001B[0;32mraise\u001B[0m\u001B[0;34m\u001B[0m\u001B[0;34m\u001B[0m\u001B[0m\n",
      "\u001B[0;31mValueError\u001B[0m: in user code:\n\n    File \"/Users/yunchoi/opt/anaconda3/lib/python3.8/site-packages/keras/engine/training.py\", line 878, in train_function  *\n        return step_function(self, iterator)\n    File \"/Users/yunchoi/opt/anaconda3/lib/python3.8/site-packages/keras/engine/training.py\", line 867, in step_function  **\n        outputs = model.distribute_strategy.run(run_step, args=(data,))\n    File \"/Users/yunchoi/opt/anaconda3/lib/python3.8/site-packages/keras/engine/training.py\", line 860, in run_step  **\n        outputs = model.train_step(data)\n    File \"/Users/yunchoi/opt/anaconda3/lib/python3.8/site-packages/keras/engine/training.py\", line 809, in train_step\n        loss = self.compiled_loss(\n    File \"/Users/yunchoi/opt/anaconda3/lib/python3.8/site-packages/keras/engine/compile_utils.py\", line 201, in __call__\n        loss_value = loss_obj(y_t, y_p, sample_weight=sw)\n    File \"/Users/yunchoi/opt/anaconda3/lib/python3.8/site-packages/keras/losses.py\", line 141, in __call__\n        losses = call_fn(y_true, y_pred)\n    File \"/Users/yunchoi/opt/anaconda3/lib/python3.8/site-packages/keras/losses.py\", line 245, in call  **\n        return ag_fn(y_true, y_pred, **self._fn_kwargs)\n    File \"/Users/yunchoi/opt/anaconda3/lib/python3.8/site-packages/keras/losses.py\", line 1664, in categorical_crossentropy\n        return backend.categorical_crossentropy(\n    File \"/Users/yunchoi/opt/anaconda3/lib/python3.8/site-packages/keras/backend.py\", line 4994, in categorical_crossentropy\n        target.shape.assert_is_compatible_with(output.shape)\n\n    ValueError: Shapes (None, 1) and (None, 3) are incompatible\n"
     ]
    }
   ],
   "source": [
    "X_train_scaled_nparray=np.asarray(X_train_scaled).astype(np.int64)\n",
    "X_test_scaled_nparray=np.asarray(X_test_scaled).astype(np.int64)\n",
    "y_train=np.asarray(y_train).astype(np.int)\n",
    "y_test=np.asarray(y_test).astype(np.int)\n",
    "\n",
    "model1=Sequential()\n",
    "model1.add(Dense(200, input_dim=4, activation='relu'))\n",
    "model1.add(Dense(200, activation='relu'))\n",
    "model1.add(Dense(3, activation='softmax'))\n",
    "sgd = SGD(learning_rate=0.001)\n",
    "model1.compile(loss='categorical_crossentropy', optimizer=sgd, metrics=['accuracy'])\n",
    "model1.fit(X_train_scaled, y_train)\n",
    "    #core = model.evaluate(X_test_scaled, y_test)\n",
    "    #print(\"Number of nodes in each hidden layer:\", i)\n",
    "    #print(\"   test-set score: {:.3f}\", score)"
   ],
   "metadata": {
    "collapsed": false,
    "pycharm": {
     "name": "#%%\n"
    }
   }
  },
  {
   "cell_type": "code",
   "execution_count": null,
   "outputs": [],
   "source": [],
   "metadata": {
    "collapsed": false,
    "pycharm": {
     "name": "#%%\n"
    }
   }
  }
 ],
 "metadata": {
  "kernelspec": {
   "display_name": "Python 3",
   "language": "python",
   "name": "python3"
  },
  "language_info": {
   "codemirror_mode": {
    "name": "ipython",
    "version": 2
   },
   "file_extension": ".py",
   "mimetype": "text/x-python",
   "name": "python",
   "nbconvert_exporter": "python",
   "pygments_lexer": "ipython2",
   "version": "2.7.6"
  }
 },
 "nbformat": 4,
 "nbformat_minor": 0
}