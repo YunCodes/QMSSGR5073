{
 "cells": [
  {
   "cell_type": "markdown",
   "source": [
    "# Assignment #2\n",
    "Machine Learning for the Social Sciences\n",
    "Prof. Michael Parrot\n",
    "18 October 2021\n",
    "Yun Choi"
   ],
   "metadata": {
    "collapsed": false
   }
  },
  {
   "cell_type": "markdown",
   "source": [
    "## PART 1: Regression on California Test Scores"
   ],
   "metadata": {
    "collapsed": false
   }
  },
  {
   "cell_type": "markdown",
   "source": [
    "### 1. Find the url for the California Test Score Data Set from the following website: https://vincetarelbundock.github.io/Rdatasets/datasets.html"
   ],
   "metadata": {
    "collapsed": false
   }
  },
  {
   "cell_type": "code",
   "execution_count": 106,
   "outputs": [
    {
     "data": {
      "text/plain": "   Unnamed: 0  distcod   county                         district grspan  \\\n0           1    75119  Alameda               Sunol Glen Unified  KK-08   \n1           2    61499    Butte             Manzanita Elementary  KK-08   \n2           3    61549    Butte      Thermalito Union Elementary  KK-08   \n3           4    61457    Butte  Golden Feather Union Elementary  KK-08   \n4           5    61523    Butte         Palermo Union Elementary  KK-08   \n\n   enrltot   teachers    calwpct    mealpct  computer     testscr   compstu  \\\n0      195  10.900000   0.510200   2.040800        67  690.799988  0.343590   \n1      240  11.150000  15.416700  47.916698       101  661.200012  0.420833   \n2     1550  82.900002  55.032299  76.322601       169  643.599976  0.109032   \n3      243  14.000000  36.475399  77.049202        85  647.700012  0.349794   \n4     1335  71.500000  33.108601  78.427002       171  640.849976  0.128090   \n\n       expnstu        str     avginc      elpct     readscr     mathscr  \n0  6384.911133  17.889910  22.690001   0.000000  691.599976  690.000000  \n1  5099.380859  21.524664   9.824000   4.583333  660.500000  661.900024  \n2  5501.954590  18.697226   8.978000  30.000002  636.299988  650.900024  \n3  7101.831055  17.357143   8.978000   0.000000  651.900024  643.500000  \n4  5235.987793  18.671329   9.080333  13.857677  641.799988  639.900024  ",
      "text/html": "<div>\n<style scoped>\n    .dataframe tbody tr th:only-of-type {\n        vertical-align: middle;\n    }\n\n    .dataframe tbody tr th {\n        vertical-align: top;\n    }\n\n    .dataframe thead th {\n        text-align: right;\n    }\n</style>\n<table border=\"1\" class=\"dataframe\">\n  <thead>\n    <tr style=\"text-align: right;\">\n      <th></th>\n      <th>Unnamed: 0</th>\n      <th>distcod</th>\n      <th>county</th>\n      <th>district</th>\n      <th>grspan</th>\n      <th>enrltot</th>\n      <th>teachers</th>\n      <th>calwpct</th>\n      <th>mealpct</th>\n      <th>computer</th>\n      <th>testscr</th>\n      <th>compstu</th>\n      <th>expnstu</th>\n      <th>str</th>\n      <th>avginc</th>\n      <th>elpct</th>\n      <th>readscr</th>\n      <th>mathscr</th>\n    </tr>\n  </thead>\n  <tbody>\n    <tr>\n      <th>0</th>\n      <td>1</td>\n      <td>75119</td>\n      <td>Alameda</td>\n      <td>Sunol Glen Unified</td>\n      <td>KK-08</td>\n      <td>195</td>\n      <td>10.900000</td>\n      <td>0.510200</td>\n      <td>2.040800</td>\n      <td>67</td>\n      <td>690.799988</td>\n      <td>0.343590</td>\n      <td>6384.911133</td>\n      <td>17.889910</td>\n      <td>22.690001</td>\n      <td>0.000000</td>\n      <td>691.599976</td>\n      <td>690.000000</td>\n    </tr>\n    <tr>\n      <th>1</th>\n      <td>2</td>\n      <td>61499</td>\n      <td>Butte</td>\n      <td>Manzanita Elementary</td>\n      <td>KK-08</td>\n      <td>240</td>\n      <td>11.150000</td>\n      <td>15.416700</td>\n      <td>47.916698</td>\n      <td>101</td>\n      <td>661.200012</td>\n      <td>0.420833</td>\n      <td>5099.380859</td>\n      <td>21.524664</td>\n      <td>9.824000</td>\n      <td>4.583333</td>\n      <td>660.500000</td>\n      <td>661.900024</td>\n    </tr>\n    <tr>\n      <th>2</th>\n      <td>3</td>\n      <td>61549</td>\n      <td>Butte</td>\n      <td>Thermalito Union Elementary</td>\n      <td>KK-08</td>\n      <td>1550</td>\n      <td>82.900002</td>\n      <td>55.032299</td>\n      <td>76.322601</td>\n      <td>169</td>\n      <td>643.599976</td>\n      <td>0.109032</td>\n      <td>5501.954590</td>\n      <td>18.697226</td>\n      <td>8.978000</td>\n      <td>30.000002</td>\n      <td>636.299988</td>\n      <td>650.900024</td>\n    </tr>\n    <tr>\n      <th>3</th>\n      <td>4</td>\n      <td>61457</td>\n      <td>Butte</td>\n      <td>Golden Feather Union Elementary</td>\n      <td>KK-08</td>\n      <td>243</td>\n      <td>14.000000</td>\n      <td>36.475399</td>\n      <td>77.049202</td>\n      <td>85</td>\n      <td>647.700012</td>\n      <td>0.349794</td>\n      <td>7101.831055</td>\n      <td>17.357143</td>\n      <td>8.978000</td>\n      <td>0.000000</td>\n      <td>651.900024</td>\n      <td>643.500000</td>\n    </tr>\n    <tr>\n      <th>4</th>\n      <td>5</td>\n      <td>61523</td>\n      <td>Butte</td>\n      <td>Palermo Union Elementary</td>\n      <td>KK-08</td>\n      <td>1335</td>\n      <td>71.500000</td>\n      <td>33.108601</td>\n      <td>78.427002</td>\n      <td>171</td>\n      <td>640.849976</td>\n      <td>0.128090</td>\n      <td>5235.987793</td>\n      <td>18.671329</td>\n      <td>9.080333</td>\n      <td>13.857677</td>\n      <td>641.799988</td>\n      <td>639.900024</td>\n    </tr>\n  </tbody>\n</table>\n</div>"
     },
     "execution_count": 106,
     "metadata": {},
     "output_type": "execute_result"
    }
   ],
   "source": [
    "# Import libraries\n",
    "import pandas as pd\n",
    "import numpy as np\n",
    "import matplotlib.pyplot as plt\n",
    "import seaborn as sns\n",
    "\n",
    "# Import data\n",
    "raw_data = pd.read_csv(\"https://vincentarelbundock.github.io/Rdatasets/csv/Ecdat/Caschool.csv\")\n",
    "raw_data.head()"
   ],
   "metadata": {
    "collapsed": false,
    "pycharm": {
     "name": "#%%\n"
    }
   }
  },
  {
   "cell_type": "code",
   "execution_count": 107,
   "outputs": [
    {
     "data": {
      "text/plain": "   enrltot   teachers    calwpct    mealpct  computer     testscr   compstu  \\\n0      195  10.900000   0.510200   2.040800        67  690.799988  0.343590   \n1      240  11.150000  15.416700  47.916698       101  661.200012  0.420833   \n2     1550  82.900002  55.032299  76.322601       169  643.599976  0.109032   \n3      243  14.000000  36.475399  77.049202        85  647.700012  0.349794   \n4     1335  71.500000  33.108601  78.427002       171  640.849976  0.128090   \n\n       expnstu        str     avginc      elpct  \n0  6384.911133  17.889910  22.690001   0.000000  \n1  5099.380859  21.524664   9.824000   4.583333  \n2  5501.954590  18.697226   8.978000  30.000002  \n3  7101.831055  17.357143   8.978000   0.000000  \n4  5235.987793  18.671329   9.080333  13.857677  ",
      "text/html": "<div>\n<style scoped>\n    .dataframe tbody tr th:only-of-type {\n        vertical-align: middle;\n    }\n\n    .dataframe tbody tr th {\n        vertical-align: top;\n    }\n\n    .dataframe thead th {\n        text-align: right;\n    }\n</style>\n<table border=\"1\" class=\"dataframe\">\n  <thead>\n    <tr style=\"text-align: right;\">\n      <th></th>\n      <th>enrltot</th>\n      <th>teachers</th>\n      <th>calwpct</th>\n      <th>mealpct</th>\n      <th>computer</th>\n      <th>testscr</th>\n      <th>compstu</th>\n      <th>expnstu</th>\n      <th>str</th>\n      <th>avginc</th>\n      <th>elpct</th>\n    </tr>\n  </thead>\n  <tbody>\n    <tr>\n      <th>0</th>\n      <td>195</td>\n      <td>10.900000</td>\n      <td>0.510200</td>\n      <td>2.040800</td>\n      <td>67</td>\n      <td>690.799988</td>\n      <td>0.343590</td>\n      <td>6384.911133</td>\n      <td>17.889910</td>\n      <td>22.690001</td>\n      <td>0.000000</td>\n    </tr>\n    <tr>\n      <th>1</th>\n      <td>240</td>\n      <td>11.150000</td>\n      <td>15.416700</td>\n      <td>47.916698</td>\n      <td>101</td>\n      <td>661.200012</td>\n      <td>0.420833</td>\n      <td>5099.380859</td>\n      <td>21.524664</td>\n      <td>9.824000</td>\n      <td>4.583333</td>\n    </tr>\n    <tr>\n      <th>2</th>\n      <td>1550</td>\n      <td>82.900002</td>\n      <td>55.032299</td>\n      <td>76.322601</td>\n      <td>169</td>\n      <td>643.599976</td>\n      <td>0.109032</td>\n      <td>5501.954590</td>\n      <td>18.697226</td>\n      <td>8.978000</td>\n      <td>30.000002</td>\n    </tr>\n    <tr>\n      <th>3</th>\n      <td>243</td>\n      <td>14.000000</td>\n      <td>36.475399</td>\n      <td>77.049202</td>\n      <td>85</td>\n      <td>647.700012</td>\n      <td>0.349794</td>\n      <td>7101.831055</td>\n      <td>17.357143</td>\n      <td>8.978000</td>\n      <td>0.000000</td>\n    </tr>\n    <tr>\n      <th>4</th>\n      <td>1335</td>\n      <td>71.500000</td>\n      <td>33.108601</td>\n      <td>78.427002</td>\n      <td>171</td>\n      <td>640.849976</td>\n      <td>0.128090</td>\n      <td>5235.987793</td>\n      <td>18.671329</td>\n      <td>9.080333</td>\n      <td>13.857677</td>\n    </tr>\n  </tbody>\n</table>\n</div>"
     },
     "execution_count": 107,
     "metadata": {},
     "output_type": "execute_result"
    }
   ],
   "source": [
    "# Delete first column\n",
    "raw_data = raw_data.iloc[:, 1:]\n",
    "\n",
    "# Delete variables that are not continuous and that are used to generate dependant variable\n",
    "categorial_variables = ['distcod', 'county', 'district', 'grspan']\n",
    "DV_related_variables = ['readscr', 'mathscr']\n",
    "\n",
    "data = raw_data.drop(categorial_variables + DV_related_variables, axis = 1)\n",
    "data.head()"
   ],
   "metadata": {
    "collapsed": false,
    "pycharm": {
     "name": "#%%\n"
    }
   }
  },
  {
   "cell_type": "code",
   "source": [
    "# Separate X and y data\n",
    "y = data['testscr']\n",
    "X = data.loc[:, data.columns != 'testscr']\n",
    "\n",
    "print(y[0:5])\n",
    "X.head()"
   ],
   "metadata": {
    "collapsed": false,
    "pycharm": {
     "name": "#%%\n"
    }
   },
   "execution_count": 108,
   "outputs": [
    {
     "name": "stdout",
     "output_type": "stream",
     "text": [
      "0    690.799988\n",
      "1    661.200012\n",
      "2    643.599976\n",
      "3    647.700012\n",
      "4    640.849976\n",
      "Name: testscr, dtype: float64\n"
     ]
    },
    {
     "data": {
      "text/plain": "   enrltot   teachers    calwpct    mealpct  computer   compstu      expnstu  \\\n0      195  10.900000   0.510200   2.040800        67  0.343590  6384.911133   \n1      240  11.150000  15.416700  47.916698       101  0.420833  5099.380859   \n2     1550  82.900002  55.032299  76.322601       169  0.109032  5501.954590   \n3      243  14.000000  36.475399  77.049202        85  0.349794  7101.831055   \n4     1335  71.500000  33.108601  78.427002       171  0.128090  5235.987793   \n\n         str     avginc      elpct  \n0  17.889910  22.690001   0.000000  \n1  21.524664   9.824000   4.583333  \n2  18.697226   8.978000  30.000002  \n3  17.357143   8.978000   0.000000  \n4  18.671329   9.080333  13.857677  ",
      "text/html": "<div>\n<style scoped>\n    .dataframe tbody tr th:only-of-type {\n        vertical-align: middle;\n    }\n\n    .dataframe tbody tr th {\n        vertical-align: top;\n    }\n\n    .dataframe thead th {\n        text-align: right;\n    }\n</style>\n<table border=\"1\" class=\"dataframe\">\n  <thead>\n    <tr style=\"text-align: right;\">\n      <th></th>\n      <th>enrltot</th>\n      <th>teachers</th>\n      <th>calwpct</th>\n      <th>mealpct</th>\n      <th>computer</th>\n      <th>compstu</th>\n      <th>expnstu</th>\n      <th>str</th>\n      <th>avginc</th>\n      <th>elpct</th>\n    </tr>\n  </thead>\n  <tbody>\n    <tr>\n      <th>0</th>\n      <td>195</td>\n      <td>10.900000</td>\n      <td>0.510200</td>\n      <td>2.040800</td>\n      <td>67</td>\n      <td>0.343590</td>\n      <td>6384.911133</td>\n      <td>17.889910</td>\n      <td>22.690001</td>\n      <td>0.000000</td>\n    </tr>\n    <tr>\n      <th>1</th>\n      <td>240</td>\n      <td>11.150000</td>\n      <td>15.416700</td>\n      <td>47.916698</td>\n      <td>101</td>\n      <td>0.420833</td>\n      <td>5099.380859</td>\n      <td>21.524664</td>\n      <td>9.824000</td>\n      <td>4.583333</td>\n    </tr>\n    <tr>\n      <th>2</th>\n      <td>1550</td>\n      <td>82.900002</td>\n      <td>55.032299</td>\n      <td>76.322601</td>\n      <td>169</td>\n      <td>0.109032</td>\n      <td>5501.954590</td>\n      <td>18.697226</td>\n      <td>8.978000</td>\n      <td>30.000002</td>\n    </tr>\n    <tr>\n      <th>3</th>\n      <td>243</td>\n      <td>14.000000</td>\n      <td>36.475399</td>\n      <td>77.049202</td>\n      <td>85</td>\n      <td>0.349794</td>\n      <td>7101.831055</td>\n      <td>17.357143</td>\n      <td>8.978000</td>\n      <td>0.000000</td>\n    </tr>\n    <tr>\n      <th>4</th>\n      <td>1335</td>\n      <td>71.500000</td>\n      <td>33.108601</td>\n      <td>78.427002</td>\n      <td>171</td>\n      <td>0.128090</td>\n      <td>5235.987793</td>\n      <td>18.671329</td>\n      <td>9.080333</td>\n      <td>13.857677</td>\n    </tr>\n  </tbody>\n</table>\n</div>"
     },
     "execution_count": 108,
     "metadata": {},
     "output_type": "execute_result"
    }
   ]
  },
  {
   "cell_type": "markdown",
   "source": [
    "### 1.1 Visualize the univariate distribution of the target feature and each of the three continuous explanatory variables that you think are likely to have a relationship with the target feature."
   ],
   "metadata": {
    "collapsed": false,
    "pycharm": {
     "name": "#%% md\n"
    }
   }
  },
  {
   "cell_type": "code",
   "execution_count": 109,
   "outputs": [
    {
     "data": {
      "text/plain": "<Figure size 432x288 with 1 Axes>",
      "image/png": "[encoded data removed]"
     },
     "metadata": {
      "needs_background": "light"
     },
     "output_type": "display_data"
    }
   ],
   "source": [
    "# Create a histogram of target feature\n",
    "sns.histplot(y)\n",
    "plt.title(\"Test Score Distribution\")\n",
    "plt.ylabel(\"Count\")\n",
    "plt.xlabel(\"Test Score\");"
   ],
   "metadata": {
    "collapsed": false,
    "pycharm": {
     "name": "#%%\n"
    }
   }
  },
  {
   "cell_type": "code",
   "execution_count": 110,
   "outputs": [
    {
     "data": {
      "text/plain": "<Figure size 432x288 with 1 Axes>",
      "image/png": "[encoded data removed]"
     },
     "metadata": {
      "needs_background": "light"
     },
     "output_type": "display_data"
    }
   ],
   "source": [
    "# Create a histogram of potential explanatory variable #1\n",
    "sns.histplot(X['avginc'])\n",
    "plt.title(\"Income Distribution\")\n",
    "plt.ylabel(\"Count\")\n",
    "plt.xlabel(\"District Average Income\");"
   ],
   "metadata": {
    "collapsed": false,
    "pycharm": {
     "name": "#%%\n"
    }
   }
  },
  {
   "cell_type": "code",
   "execution_count": 111,
   "outputs": [
    {
     "data": {
      "text/plain": "<Figure size 432x288 with 1 Axes>",
      "image/png": "[encoded data removed]"
     },
     "metadata": {
      "needs_background": "light"
     },
     "output_type": "display_data"
    }
   ],
   "source": [
    "# Create a histogram of potential explanatory variable #2\n",
    "sns.histplot(X['str'])\n",
    "plt.title(\"Student-Teacher Ratio Distribution\")\n",
    "plt.ylabel(\"Count\")\n",
    "plt.xlabel(\"Student-Teacher Ratio\");"
   ],
   "metadata": {
    "collapsed": false,
    "pycharm": {
     "name": "#%%\n"
    }
   }
  },
  {
   "cell_type": "code",
   "source": [
    "# Create a histogram of potential explanatory variable #3\n",
    "sns.histplot(X['expnstu'])\n",
    "plt.title(\"Expenditure Per Student Distribution\")\n",
    "plt.ylabel(\"Count\")\n",
    "plt.xlabel(\"Expenditure Per Student ($)\");"
   ],
   "metadata": {
    "collapsed": false,
    "pycharm": {
     "name": "#%%\n"
    }
   },
   "execution_count": 112,
   "outputs": [
    {
     "data": {
      "text/plain": "<Figure size 432x288 with 1 Axes>",
      "image/png": "[encoded data removed]"
     },
     "metadata": {
      "needs_background": "light"
     },
     "output_type": "display_data"
    }
   ]
  },
  {
   "cell_type": "markdown",
   "source": [],
   "metadata": {
    "collapsed": false
   }
  },
  {
   "cell_type": "code",
   "execution_count": 113,
   "outputs": [
    {
     "data": {
      "text/plain": "<Figure size 432x288 with 1 Axes>",
      "image/png": "[encoded data removed]"
     },
     "metadata": {
      "needs_background": "light"
     },
     "output_type": "display_data"
    }
   ],
   "source": [
    "# Create a scatter plot with target and #1 possible explanatory variables\n",
    "sns.scatterplot(x='avginc', y='testscr', data=data)\n",
    "plt.title(\"Test Score vs District Average Income\")\n",
    "plt.ylabel(\"Test Score\")\n",
    "plt.xlabel(\"District Average Income\");"
   ],
   "metadata": {
    "collapsed": false,
    "pycharm": {
     "name": "#%%\n"
    }
   }
  },
  {
   "cell_type": "code",
   "source": [
    "# Create a scatter plot with target and #2 possible explanatory variables\n",
    "sns.scatterplot(x='str', y='testscr', data=data)\n",
    "plt.title(\"Test Score vs Student-Teacher Ratio\")\n",
    "plt.ylabel(\"Test Score\")\n",
    "plt.xlabel(\"Student-Teacher Ratio\");"
   ],
   "metadata": {
    "collapsed": false,
    "pycharm": {
     "name": "#%%\n"
    }
   },
   "execution_count": 114,
   "outputs": [
    {
     "data": {
      "text/plain": "<Figure size 432x288 with 1 Axes>",
      "image/png": "[encoded data removed]"
     },
     "metadata": {
      "needs_background": "light"
     },
     "output_type": "display_data"
    }
   ]
  },
  {
   "cell_type": "code",
   "execution_count": 115,
   "outputs": [
    {
     "data": {
      "text/plain": "<Figure size 432x288 with 1 Axes>",
      "image/png": "[encoded data removed]"
     },
     "metadata": {
      "needs_background": "light"
     },
     "output_type": "display_data"
    }
   ],
   "source": [
    "# Create a scatter plot with target and #3 possible explanatory variables\n",
    "sns.scatterplot(x='expnstu', y='testscr', data=data)\n",
    "plt.title(\"Test Score vs Expenditure Per Student\")\n",
    "plt.ylabel(\"Test Score\")\n",
    "plt.xlabel(\"Expenditure Per Student\");"
   ],
   "metadata": {
    "collapsed": false,
    "pycharm": {
     "name": "#%%\n"
    }
   }
  },
  {
   "cell_type": "markdown",
   "source": [
    "The scatter plots above show that only one of the three variables of my preliminary choice seems to have a solid partial effect on the target feature."
   ],
   "metadata": {
    "collapsed": false
   }
  },
  {
   "cell_type": "markdown",
   "source": [
    "### 1.3 Split data in training and test set. Build models that evaluate the relationship between all available X variables in the California test dataset and the target variable. Evaluate KNN for regression, Linear Regression (OLS), Ridge, and Lasso using cross-validation with the default parameters. Does scaling the data with the StandardScaler help?"
   ],
   "metadata": {
    "collapsed": false
   }
  },
  {
   "cell_type": "code",
   "execution_count": 116,
   "outputs": [],
   "source": [
    "from sklearn.model_selection import train_test_split\n",
    "\n",
    "# Split data in training and test sets\n",
    "X_train, X_test, y_train, y_test = train_test_split(X, y, random_state=42)\n",
    "\n",
    "# Import models, preprocessor, cross-validation score, and pipeline\n",
    "from sklearn.neighbors import KNeighborsRegressor\n",
    "from sklearn.linear_model import LinearRegression\n",
    "from sklearn.linear_model import Ridge\n",
    "from sklearn.linear_model import Lasso\n",
    "from sklearn.preprocessing import StandardScaler\n",
    "from sklearn.model_selection import cross_val_score"
   ],
   "metadata": {
    "collapsed": false,
    "pycharm": {
     "name": "#%%\n"
    }
   }
  },
  {
   "cell_type": "code",
   "execution_count": 117,
   "outputs": [],
   "source": [
    "knn_regressor = KNeighborsRegressor()\n",
    "linear_regression = LinearRegression()\n",
    "# Increase tol for Ridge and Lasso to allow converging\n",
    "ridge = Ridge(tol=0.1)\n",
    "lasso = Lasso(tol=0.1)"
   ],
   "metadata": {
    "collapsed": false,
    "pycharm": {
     "name": "#%%\n"
    }
   }
  },
  {
   "cell_type": "code",
   "execution_count": 118,
   "outputs": [
    {
     "name": "stdout",
     "output_type": "stream",
     "text": [
      "Model: KNeighborsRegressor()\n",
      "  pre-scaling cross-validation score: -0.054\n",
      "  pre-scaling test-set score: 0.085\n",
      "Model: LinearRegression()\n",
      "  pre-scaling cross-validation score: 0.781\n",
      "  pre-scaling test-set score: 0.807\n",
      "Model: Ridge(tol=0.1)\n",
      "  pre-scaling cross-validation score: 0.783\n",
      "  pre-scaling test-set score: 0.807\n",
      "Model: Lasso(tol=0.1)\n",
      "  pre-scaling cross-validation score: 0.790\n",
      "  pre-scaling test-set score: 0.807\n"
     ]
    }
   ],
   "source": [
    "# Compare four models with raw data\n",
    "regression_models = [knn_regressor, linear_regression, ridge, lasso]\n",
    "for i in regression_models:\n",
    "    print(\"Model:\", i)\n",
    "    print(\"  pre-scaling cross-validation score: {:.3f}\".format(cross_val_score(i, X_train, y_train).mean()))\n",
    "    print(\"  pre-scaling test-set score: {:.3f}\".format(i.fit(X_train, y_train).score(X_test, y_test)))"
   ],
   "metadata": {
    "collapsed": false,
    "pycharm": {
     "name": "#%%\n"
    }
   }
  },
  {
   "cell_type": "code",
   "execution_count": 119,
   "outputs": [
    {
     "name": "stdout",
     "output_type": "stream",
     "text": [
      "Model: KNeighborsRegressor()\n",
      "  post-scaling score: 0.711\n",
      "  post-scaling test-set score: 0.769\n",
      "Model: LinearRegression()\n",
      "  post-scaling score: 0.781\n",
      "  post-scaling test-set score: 0.807\n",
      "Model: Ridge(tol=0.1)\n",
      "  post-scaling score: 0.783\n",
      "  post-scaling test-set score: 0.807\n",
      "Model: Lasso(tol=0.1)\n",
      "  post-scaling score: 0.787\n",
      "  post-scaling test-set score: 0.787\n"
     ]
    }
   ],
   "source": [
    "# Scale data with StandardScaler()\n",
    "scaler = StandardScaler()\n",
    "scaler.fit(X_train)\n",
    "X_train_scaled = scaler.transform(X_train)\n",
    "X_test_scaled = scaler.transform(X_test)\n",
    "\n",
    "# Re-compare models with standardized data\n",
    "models = [knn_regressor, linear_regression, ridge, lasso]\n",
    "for i in models:\n",
    "    print(\"Model:\", i)\n",
    "    print(\"  post-scaling score: {:.3f}\".format(cross_val_score(i, X_train_scaled, y_train).mean()))\n",
    "    print(\"  post-scaling test-set score: {:.3f}\".format(i.fit(X_train_scaled, y_train).score(X_test_scaled, y_test)))"
   ],
   "metadata": {
    "collapsed": false,
    "pycharm": {
     "name": "#%%\n"
    }
   }
  },
  {
   "cell_type": "markdown",
   "source": [
    "Standardizing the data has greatly improved the cross-validation and test-set scores of KNeighborRegressor, but the other models did not benefit much. The cross-validation score of KNeighborRegressor has improved from -0.054 to 0.711, and the test-set score has improved from 0.085 to 0.769. This implies that KNeighborRegressor is less effective in dealing with unstandardized data compared to the other models."
   ],
   "metadata": {
    "collapsed": false
   }
  },
  {
   "cell_type": "markdown",
   "source": [
    "### 1.4 Tune the parameters of the models where possible using GridSearchCV. Do the results improve?"
   ],
   "metadata": {
    "collapsed": false
   }
  },
  {
   "cell_type": "code",
   "execution_count": 120,
   "outputs": [
    {
     "data": {
      "text/plain": "[0.0001, 0.001, 0.01, 0.1, 1.0, 10.0, 100.0, 1000.0]"
     },
     "execution_count": 120,
     "metadata": {},
     "output_type": "execute_result"
    }
   ],
   "source": [
    "# Create a geometric progression to feed in as alphas\n",
    "a = 0.0001\n",
    "r = 10\n",
    "length = 8\n",
    "alpha_geometric = [a * r ** (n - 1) for n in range(1, length + 1)]\n",
    "alpha_geometric"
   ],
   "metadata": {
    "collapsed": false,
    "pycharm": {
     "name": "#%%\n"
    }
   }
  },
  {
   "cell_type": "code",
   "execution_count": 121,
   "outputs": [],
   "source": [
    "from sklearn.model_selection import GridSearchCV\n",
    "\n",
    "# Models to compare\n",
    "models_for_gridsearch = {\n",
    "    'KNeighborsRegressor': knn_regressor,\n",
    "    'LinearRegression': linear_regression,\n",
    "    'Ridge': ridge,\n",
    "    'Lasso': lasso\n",
    "}\n",
    "\n",
    "# Optimisation parameters for each of above models\n",
    "params_for_gridsearch = {\n",
    "    'KNeighborsRegressor':{\n",
    "        'n_neighbors': np.arange(1, 15, 2),\n",
    "        'weights': ['uniform', 'distance']\n",
    "    },\n",
    "    'LinearRegression': {\n",
    "    },\n",
    "    'Ridge': {\n",
    "        'alpha': alpha_geometric\n",
    "    },\n",
    "    'Lasso': {\n",
    "        'alpha': alpha_geometric\n",
    "    }\n",
    "}\n",
    "\n",
    "def fit(X_train_scaled, y_train, X_test_scaled, y_test):\n",
    "    for name in models_for_gridsearch.keys():\n",
    "        est = models_for_gridsearch[name]\n",
    "        est_params = params_for_gridsearch[name]\n",
    "        gscv = GridSearchCV(estimator=est, param_grid=est_params, cv=5)\n",
    "        gscv.fit(X_train_scaled, y_train)\n",
    "        print(\"Model:\", est)\n",
    "        print(\"  best parameters: {}\".format(gscv.best_params_))\n",
    "        print(\"  best mean cross-validation score: {:.3f}\".format(gscv.best_score_))\n",
    "        print(\"  test-set score: {:.3f}\".format(gscv.score(X_test_scaled, y_test)))"
   ],
   "metadata": {
    "collapsed": false,
    "pycharm": {
     "name": "#%%\n"
    }
   }
  },
  {
   "cell_type": "code",
   "execution_count": 122,
   "outputs": [
    {
     "name": "stdout",
     "output_type": "stream",
     "text": [
      "Model: KNeighborsRegressor()\n",
      "  best parameters: {'n_neighbors': 11, 'weights': 'distance'}\n",
      "  best mean cross-validation score: 0.726\n",
      "  test-set score: 0.775\n",
      "Model: LinearRegression()\n",
      "  best parameters: {}\n",
      "  best mean cross-validation score: 0.781\n",
      "  test-set score: 0.807\n",
      "Model: Ridge(tol=0.1)\n",
      "  best parameters: {'alpha': 10.0}\n",
      "  best mean cross-validation score: 0.786\n",
      "  test-set score: 0.804\n",
      "Model: Lasso(tol=0.1)\n",
      "  best parameters: {'alpha': 0.1}\n",
      "  best mean cross-validation score: 0.788\n",
      "  test-set score: 0.806\n"
     ]
    }
   ],
   "source": [
    "# Identify best parameters for each of above models\n",
    "fit(X_train_scaled, y_train, X_test_scaled, y_test)"
   ],
   "metadata": {
    "collapsed": false,
    "pycharm": {
     "name": "#%%\n"
    }
   }
  },
  {
   "cell_type": "markdown",
   "source": [
    "**[KNeighborRegressor]** Increasing 'n_neighbors' and changing 'weights' to 'distance' has improved KNeighborRegressor's cross-validation and test-set scores from 0.711 to 0.726, and 0.769 to 0.775, respectively.\n",
    "\n",
    "**[Linear Regression (OLS)]** Not applied.\n",
    "\n",
    "**[Ridge]** The default 'alpha' value of 10 has turned out to be the best hyperparameters among the ones I fed in.\n",
    "\n",
    "**[Lasso]** Lowering 'alpha' to 0.1 has improved Lasso's cross-validation and test-set scores from 0.787 to 0.788, and 0.787 to 0.806, respectively."
   ],
   "metadata": {
    "collapsed": false
   }
  },
  {
   "cell_type": "markdown",
   "source": [
    "### 1.5 Compare the coefficients of your two best linear models (not knn), do they agree on which features are important?"
   ],
   "metadata": {
    "collapsed": false
   }
  },
  {
   "cell_type": "code",
   "execution_count": 123,
   "outputs": [
    {
     "name": "stdout",
     "output_type": "stream",
     "text": [
      "Model: Linear Regression (OLS)\n",
      "  Number of features used: 10\n",
      "  Coefficients: [('enrltot', 0.9906880342456076), ('teachers', -1.936396144105509), ('calwpct', -1.1733305160353475), ('mealpct', -9.776462238396006), ('computer', 1.041836685475211), ('compstu', -0.09712146082210388), ('expnstu', 1.1538060457170978), ('str', -0.678849629861075), ('avginc', 3.719601988926351), ('elpct', -3.4784803042898313)]\n"
     ]
    }
   ],
   "source": [
    "# Best linear model #1: Linear Regression (OLS)\n",
    "linear_regression.fit(X_train_scaled, y_train)\n",
    "print(\"Model: Linear Regression (OLS)\")\n",
    "print(\"  Number of features used: {}\".format(np.sum(linear_regression.coef_ != 0)))\n",
    "print(\"  Coefficients: {}\".format(list(zip(X.columns.values, linear_regression.coef_))))"
   ],
   "metadata": {
    "collapsed": false,
    "pycharm": {
     "name": "#%%\n"
    }
   }
  },
  {
   "cell_type": "code",
   "execution_count": 124,
   "outputs": [
    {
     "name": "stdout",
     "output_type": "stream",
     "text": [
      "Model: Lasso\n",
      "  Number of features used: 9\n",
      "  Coefficients: [('enrltot', -0.8380766472038648), ('teachers', -0.001227901619292275), ('calwpct', -1.1620198414285863), ('mealpct', -10.485716694062612), ('computer', 0.7910366605693915), ('compstu', -0.0), ('expnstu', 1.228291645534172), ('str', -0.5904316850145157), ('avginc', 3.279250790129653), ('elpct', -2.979257660907094)]\n"
     ]
    }
   ],
   "source": [
    "# Best linear model #2: Lasso\n",
    "lasso01 = Lasso(tol=0.1, alpha=0.1).fit(X_train_scaled, y_train)\n",
    "print(\"Model: Lasso\")\n",
    "print(\"  Number of features used: {}\".format(np.sum(lasso01.coef_ != 0)))\n",
    "print(\"  Coefficients: {}\".format(list(zip(X.columns.values, lasso01.coef_))))"
   ],
   "metadata": {
    "collapsed": false,
    "pycharm": {
     "name": "#%%\n"
    }
   }
  },
  {
   "cell_type": "markdown",
   "source": [
    "My two best linear models are OLS and Lasso.\n",
    "\n",
    "Both models agree that 'mealpct(% qualifying for reduced-price lunch)', 'avg_inc(district average income)', and 'elpct(% of English learners)' are the most important predictors in that order.\n",
    "\n",
    "However, Lasso has one fewer predictors than OLS. It has zeroed out 'compstu(computer per student)' feature, possibly because of its high collinearity with 'computer(number of computers)' feature. Considering the number of computers per student is a more intuitive metric for student digital access, the model would have been more informative if 'computer' was zeroed out instead of 'compstu'."
   ],
   "metadata": {
    "collapsed": false
   }
  },
  {
   "cell_type": "markdown",
   "source": [
    "### 1.6 Discuss which final model you would choose to predict new data."
   ],
   "metadata": {
    "collapsed": false
   }
  },
  {
   "cell_type": "markdown",
   "source": [
    "Although the two models' cross-validation and test-set scores are equally high, I would choose Lasso as it has successfully removed one of the two features that basically mean the same thing: Student digital access. Keeping both features in the model poses a risk of multicollinearity."
   ],
   "metadata": {
    "collapsed": false
   }
  },
  {
   "cell_type": "markdown",
   "source": [
    "## PART 2: Classification"
   ],
   "metadata": {
    "collapsed": false
   }
  },
  {
   "cell_type": "code",
   "source": [
    "# Import white wine data\n",
    "raw_ww_data = pd.read_csv(\"https://archive.ics.uci.edu/ml/machine-learning-databases/wine-quality/winequality-white.csv\", sep=';')\n",
    "raw_ww_data['winetype'] = 0\n",
    "raw_ww_data.head()\n",
    "\n",
    "# Import red wine data\n",
    "raw_rw_data = pd.read_csv(\"https://archive.ics.uci.edu/ml/machine-learning-databases/wine-quality/winequality-red.csv\", sep=';')\n",
    "raw_rw_data['winetype'] = 1\n",
    "raw_rw_data.head()\n",
    "\n",
    "# rbind white and red wine data sets\n",
    "w_data = pd.concat([raw_ww_data, raw_rw_data], ignore_index=True)\n",
    "w_data.head()"
   ],
   "metadata": {
    "collapsed": false,
    "pycharm": {
     "name": "#%%\n"
    }
   },
   "execution_count": 125,
   "outputs": [
    {
     "data": {
      "text/plain": "   fixed acidity  volatile acidity  citric acid  residual sugar  chlorides  \\\n0            7.0              0.27         0.36            20.7      0.045   \n1            6.3              0.30         0.34             1.6      0.049   \n2            8.1              0.28         0.40             6.9      0.050   \n3            7.2              0.23         0.32             8.5      0.058   \n4            7.2              0.23         0.32             8.5      0.058   \n\n   free sulfur dioxide  total sulfur dioxide  density    pH  sulphates  \\\n0                 45.0                 170.0   1.0010  3.00       0.45   \n1                 14.0                 132.0   0.9940  3.30       0.49   \n2                 30.0                  97.0   0.9951  3.26       0.44   \n3                 47.0                 186.0   0.9956  3.19       0.40   \n4                 47.0                 186.0   0.9956  3.19       0.40   \n\n   alcohol  quality  winetype  \n0      8.8        6         0  \n1      9.5        6         0  \n2     10.1        6         0  \n3      9.9        6         0  \n4      9.9        6         0  ",
      "text/html": "<div>\n<style scoped>\n    .dataframe tbody tr th:only-of-type {\n        vertical-align: middle;\n    }\n\n    .dataframe tbody tr th {\n        vertical-align: top;\n    }\n\n    .dataframe thead th {\n        text-align: right;\n    }\n</style>\n<table border=\"1\" class=\"dataframe\">\n  <thead>\n    <tr style=\"text-align: right;\">\n      <th></th>\n      <th>fixed acidity</th>\n      <th>volatile acidity</th>\n      <th>citric acid</th>\n      <th>residual sugar</th>\n      <th>chlorides</th>\n      <th>free sulfur dioxide</th>\n      <th>total sulfur dioxide</th>\n      <th>density</th>\n      <th>pH</th>\n      <th>sulphates</th>\n      <th>alcohol</th>\n      <th>quality</th>\n      <th>winetype</th>\n    </tr>\n  </thead>\n  <tbody>\n    <tr>\n      <th>0</th>\n      <td>7.0</td>\n      <td>0.27</td>\n      <td>0.36</td>\n      <td>20.7</td>\n      <td>0.045</td>\n      <td>45.0</td>\n      <td>170.0</td>\n      <td>1.0010</td>\n      <td>3.00</td>\n      <td>0.45</td>\n      <td>8.8</td>\n      <td>6</td>\n      <td>0</td>\n    </tr>\n    <tr>\n      <th>1</th>\n      <td>6.3</td>\n      <td>0.30</td>\n      <td>0.34</td>\n      <td>1.6</td>\n      <td>0.049</td>\n      <td>14.0</td>\n      <td>132.0</td>\n      <td>0.9940</td>\n      <td>3.30</td>\n      <td>0.49</td>\n      <td>9.5</td>\n      <td>6</td>\n      <td>0</td>\n    </tr>\n    <tr>\n      <th>2</th>\n      <td>8.1</td>\n      <td>0.28</td>\n      <td>0.40</td>\n      <td>6.9</td>\n      <td>0.050</td>\n      <td>30.0</td>\n      <td>97.0</td>\n      <td>0.9951</td>\n      <td>3.26</td>\n      <td>0.44</td>\n      <td>10.1</td>\n      <td>6</td>\n      <td>0</td>\n    </tr>\n    <tr>\n      <th>3</th>\n      <td>7.2</td>\n      <td>0.23</td>\n      <td>0.32</td>\n      <td>8.5</td>\n      <td>0.058</td>\n      <td>47.0</td>\n      <td>186.0</td>\n      <td>0.9956</td>\n      <td>3.19</td>\n      <td>0.40</td>\n      <td>9.9</td>\n      <td>6</td>\n      <td>0</td>\n    </tr>\n    <tr>\n      <th>4</th>\n      <td>7.2</td>\n      <td>0.23</td>\n      <td>0.32</td>\n      <td>8.5</td>\n      <td>0.058</td>\n      <td>47.0</td>\n      <td>186.0</td>\n      <td>0.9956</td>\n      <td>3.19</td>\n      <td>0.40</td>\n      <td>9.9</td>\n      <td>6</td>\n      <td>0</td>\n    </tr>\n  </tbody>\n</table>\n</div>"
     },
     "execution_count": 125,
     "metadata": {},
     "output_type": "execute_result"
    }
   ]
  },
  {
   "cell_type": "code",
   "source": [
    "# Separate X and y data\n",
    "y = w_data['winetype']\n",
    "X = w_data.loc[:, w_data.columns != 'winetype']\n",
    "\n",
    "print(y[0:5])\n",
    "X.head()"
   ],
   "metadata": {
    "collapsed": false,
    "pycharm": {
     "name": "#%%\n"
    }
   },
   "execution_count": 126,
   "outputs": [
    {
     "name": "stdout",
     "output_type": "stream",
     "text": [
      "0    0\n",
      "1    0\n",
      "2    0\n",
      "3    0\n",
      "4    0\n",
      "Name: winetype, dtype: int64\n"
     ]
    },
    {
     "data": {
      "text/plain": "   fixed acidity  volatile acidity  citric acid  residual sugar  chlorides  \\\n0            7.0              0.27         0.36            20.7      0.045   \n1            6.3              0.30         0.34             1.6      0.049   \n2            8.1              0.28         0.40             6.9      0.050   \n3            7.2              0.23         0.32             8.5      0.058   \n4            7.2              0.23         0.32             8.5      0.058   \n\n   free sulfur dioxide  total sulfur dioxide  density    pH  sulphates  \\\n0                 45.0                 170.0   1.0010  3.00       0.45   \n1                 14.0                 132.0   0.9940  3.30       0.49   \n2                 30.0                  97.0   0.9951  3.26       0.44   \n3                 47.0                 186.0   0.9956  3.19       0.40   \n4                 47.0                 186.0   0.9956  3.19       0.40   \n\n   alcohol  quality  \n0      8.8        6  \n1      9.5        6  \n2     10.1        6  \n3      9.9        6  \n4      9.9        6  ",
      "text/html": "<div>\n<style scoped>\n    .dataframe tbody tr th:only-of-type {\n        vertical-align: middle;\n    }\n\n    .dataframe tbody tr th {\n        vertical-align: top;\n    }\n\n    .dataframe thead th {\n        text-align: right;\n    }\n</style>\n<table border=\"1\" class=\"dataframe\">\n  <thead>\n    <tr style=\"text-align: right;\">\n      <th></th>\n      <th>fixed acidity</th>\n      <th>volatile acidity</th>\n      <th>citric acid</th>\n      <th>residual sugar</th>\n      <th>chlorides</th>\n      <th>free sulfur dioxide</th>\n      <th>total sulfur dioxide</th>\n      <th>density</th>\n      <th>pH</th>\n      <th>sulphates</th>\n      <th>alcohol</th>\n      <th>quality</th>\n    </tr>\n  </thead>\n  <tbody>\n    <tr>\n      <th>0</th>\n      <td>7.0</td>\n      <td>0.27</td>\n      <td>0.36</td>\n      <td>20.7</td>\n      <td>0.045</td>\n      <td>45.0</td>\n      <td>170.0</td>\n      <td>1.0010</td>\n      <td>3.00</td>\n      <td>0.45</td>\n      <td>8.8</td>\n      <td>6</td>\n    </tr>\n    <tr>\n      <th>1</th>\n      <td>6.3</td>\n      <td>0.30</td>\n      <td>0.34</td>\n      <td>1.6</td>\n      <td>0.049</td>\n      <td>14.0</td>\n      <td>132.0</td>\n      <td>0.9940</td>\n      <td>3.30</td>\n      <td>0.49</td>\n      <td>9.5</td>\n      <td>6</td>\n    </tr>\n    <tr>\n      <th>2</th>\n      <td>8.1</td>\n      <td>0.28</td>\n      <td>0.40</td>\n      <td>6.9</td>\n      <td>0.050</td>\n      <td>30.0</td>\n      <td>97.0</td>\n      <td>0.9951</td>\n      <td>3.26</td>\n      <td>0.44</td>\n      <td>10.1</td>\n      <td>6</td>\n    </tr>\n    <tr>\n      <th>3</th>\n      <td>7.2</td>\n      <td>0.23</td>\n      <td>0.32</td>\n      <td>8.5</td>\n      <td>0.058</td>\n      <td>47.0</td>\n      <td>186.0</td>\n      <td>0.9956</td>\n      <td>3.19</td>\n      <td>0.40</td>\n      <td>9.9</td>\n      <td>6</td>\n    </tr>\n    <tr>\n      <th>4</th>\n      <td>7.2</td>\n      <td>0.23</td>\n      <td>0.32</td>\n      <td>8.5</td>\n      <td>0.058</td>\n      <td>47.0</td>\n      <td>186.0</td>\n      <td>0.9956</td>\n      <td>3.19</td>\n      <td>0.40</td>\n      <td>9.9</td>\n      <td>6</td>\n    </tr>\n  </tbody>\n</table>\n</div>"
     },
     "execution_count": 126,
     "metadata": {},
     "output_type": "execute_result"
    }
   ]
  },
  {
   "cell_type": "markdown",
   "source": [
    "### 2.1 Visualize the univariate distribution of the target feature and each of the three explanatory variables that you think are likely to have a relationship with the target feature."
   ],
   "metadata": {
    "collapsed": false
   }
  },
  {
   "cell_type": "code",
   "execution_count": 127,
   "outputs": [
    {
     "data": {
      "text/plain": "<Figure size 432x288 with 1 Axes>",
      "image/png": "[encoded data removed]"
     },
     "metadata": {
      "needs_background": "light"
     },
     "output_type": "display_data"
    }
   ],
   "source": [
    "# Create a histogram of target feature\n",
    "sns.histplot(y, discrete=True)\n",
    "plt.title(\"Wine Distribution\")\n",
    "plt.ylabel(\"Count\")\n",
    "plt.xlabel(\"Wine Type (0 = White, 1 = Red)\");"
   ],
   "metadata": {
    "collapsed": false,
    "pycharm": {
     "name": "#%%\n"
    }
   }
  },
  {
   "cell_type": "code",
   "execution_count": 128,
   "outputs": [
    {
     "data": {
      "text/plain": "<Figure size 432x288 with 1 Axes>",
      "image/png": "[encoded data removed]"
     },
     "metadata": {
      "needs_background": "light"
     },
     "output_type": "display_data"
    }
   ],
   "source": [
    "# Create a histogram of potential explanatory variable #1\n",
    "sns.histplot(X['citric acid'])\n",
    "plt.title(\"Citric Acid Distribution\")\n",
    "plt.ylabel(\"Count\")\n",
    "plt.xlabel(\"Citric Acid\");"
   ],
   "metadata": {
    "collapsed": false,
    "pycharm": {
     "name": "#%%\n"
    }
   }
  },
  {
   "cell_type": "code",
   "execution_count": 129,
   "outputs": [
    {
     "data": {
      "text/plain": "<Figure size 432x288 with 1 Axes>",
      "image/png": "[encoded data removed]"
     },
     "metadata": {
      "needs_background": "light"
     },
     "output_type": "display_data"
    }
   ],
   "source": [
    "# Create a histogram of potential explanatory variable #2\n",
    "sns.histplot(X['residual sugar'])\n",
    "plt.title(\"Residual Sugar Distribution\")\n",
    "plt.ylabel(\"Count\")\n",
    "plt.xlabel(\"Residual Sugar\");"
   ],
   "metadata": {
    "collapsed": false,
    "pycharm": {
     "name": "#%%\n"
    }
   }
  },
  {
   "cell_type": "code",
   "execution_count": 130,
   "outputs": [
    {
     "data": {
      "text/plain": "<Figure size 432x288 with 1 Axes>",
      "image/png": "[encoded data removed]"
     },
     "metadata": {
      "needs_background": "light"
     },
     "output_type": "display_data"
    }
   ],
   "source": [
    "# Create a histogram of potential explanatory variable #3\n",
    "sns.histplot(X['alcohol'])\n",
    "plt.title(\"Alcohol Distribution\")\n",
    "plt.ylabel(\"Count\")\n",
    "plt.xlabel(\"Alcohol\");"
   ],
   "metadata": {
    "collapsed": false,
    "pycharm": {
     "name": "#%%\n"
    }
   }
  },
  {
   "cell_type": "markdown",
   "source": [
    "### 2.2 Split data into training and test set. Build models that evaluate the relationship between all available X variables in the dataset and the target variable. Evaluate Logistic Regression, Penalized Logistic Regression, and KNN for classification using cross-validation. How different are the results? How does scaling the data with StandardScaler influence the results?"
   ],
   "metadata": {
    "collapsed": false
   }
  },
  {
   "cell_type": "code",
   "execution_count": 131,
   "outputs": [],
   "source": [
    "from sklearn.model_selection import train_test_split\n",
    "# Split data into training and test sets\n",
    "X_train, X_test, y_train, y_test = train_test_split(X, y, random_state=42)\n",
    "\n",
    "from sklearn.linear_model import LogisticRegression\n",
    "from sklearn.neighbors import KNeighborsClassifier\n",
    "\n"
   ],
   "metadata": {
    "collapsed": false,
    "pycharm": {
     "name": "#%%\n"
    }
   }
  },
  {
   "cell_type": "code",
   "execution_count": 132,
   "outputs": [
    {
     "name": "stdout",
     "output_type": "stream",
     "text": [
      "Model: LogisticRegression(max_iter=100000, penalty='none', solver='newton-cg', tol=0.1)\n",
      "  pre-scaling cross-validation score: 0.988\n",
      "  pre-scaling test-set score: 0.987\n",
      "Model: LogisticRegression(max_iter=100000, penalty='l1', solver='liblinear', tol=0.1)\n",
      "  pre-scaling cross-validation score: 0.974\n",
      "  pre-scaling test-set score: 0.967\n",
      "Model: LogisticRegression(max_iter=100000, solver='liblinear', tol=0.1)\n",
      "  pre-scaling cross-validation score: 0.935\n",
      "  pre-scaling test-set score: 0.924\n",
      "Model: KNeighborsClassifier()\n",
      "  pre-scaling cross-validation score: 0.942\n",
      "  pre-scaling test-set score: 0.936\n"
     ]
    }
   ],
   "source": [
    "# Compare four models with raw data\n",
    "classification_models = [logistic_regression, logistic_regression_l1, logistic_regression_l2,\n",
    "                         knn_classifier]\n",
    "for i in classification_models:\n",
    "    print(\"Model:\", i)\n",
    "    print(\"  pre-scaling cross-validation score: {:.3f}\".format(cross_val_score(i, X_train, y_train).mean()))\n",
    "    print(\"  pre-scaling test-set score: {:.3f}\".format(i.fit(X_train, y_train).score(X_test, y_test)))"
   ],
   "metadata": {
    "collapsed": false,
    "pycharm": {
     "name": "#%%\n"
    }
   }
  },
  {
   "cell_type": "code",
   "execution_count": 133,
   "outputs": [
    {
     "name": "stdout",
     "output_type": "stream",
     "text": [
      "Model: LogisticRegression(max_iter=100000, penalty='none', solver='newton-cg', tol=0.1)\n",
      "  post-scaling cross-validation score: 0.994\n",
      "  post-scaling test-set score: 0.993\n",
      "Model: LogisticRegression(max_iter=100000, penalty='l1', solver='liblinear', tol=0.1)\n",
      "  post-scaling cross-validation score: 0.991\n",
      "  post-scaling test-set score: 0.990\n",
      "Model: LogisticRegression(max_iter=100000, solver='liblinear', tol=0.1)\n",
      "  post-scaling cross-validation score: 0.993\n",
      "  post-scaling test-set score: 0.992\n",
      "Model: KNeighborsClassifier()\n",
      "  post-scaling cross-validation score: 0.993\n",
      "  post-scaling test-set score: 0.991\n"
     ]
    }
   ],
   "source": [
    "# Standardize data with StandardScaler()\n",
    "scaler = StandardScaler()\n",
    "scaler.fit(X_train)\n",
    "X_train_scaled = scaler.transform(X_train)\n",
    "X_test_scaled = scaler.transform(X_test)\n",
    "\n",
    "# Compare four models with standardized data\n",
    "for i in classification_models:\n",
    "    print(\"Model:\", i)\n",
    "    print(\"  post-scaling cross-validation score: {:.3f}\".format(cross_val_score(i, X_train_scaled, y_train).mean()))\n",
    "    print(\"  post-scaling test-set score: {:.3f}\".format(i.fit(X_train_scaled, y_train).score(X_test_scaled, y_test)))"
   ],
   "metadata": {
    "collapsed": false,
    "pycharm": {
     "name": "#%%\n"
    }
   }
  },
  {
   "cell_type": "markdown",
   "source": [
    "Standardizing the data has improved both cross-validation and test-set scores for all of the models above."
   ],
   "metadata": {
    "collapsed": false
   }
  },
  {
   "cell_type": "markdown",
   "source": [
    "### 2.3 Tune the parameters where possible using GridSearchCV. Do the results improve?"
   ],
   "metadata": {
    "collapsed": false
   }
  },
  {
   "cell_type": "code",
   "execution_count": 134,
   "outputs": [
    {
     "data": {
      "text/plain": "[0.0001, 0.001, 0.01, 0.1, 1.0, 10.0, 100.0, 1000.0]"
     },
     "execution_count": 134,
     "metadata": {},
     "output_type": "execute_result"
    }
   ],
   "source": [
    "# Create a geometric progression to feed in as Cs\n",
    "a = 0.0001\n",
    "r = 10\n",
    "length = 8\n",
    "C_geometric = [a * r ** (n - 1) for n in range(1, length + 1)]\n",
    "C_geometric"
   ],
   "metadata": {
    "collapsed": false,
    "pycharm": {
     "name": "#%%\n"
    }
   }
  },
  {
   "cell_type": "code",
   "execution_count": 135,
   "outputs": [],
   "source": [
    "from sklearn.model_selection import StratifiedKFold\n",
    "from sklearn.model_selection import KFold\n",
    "\n",
    "# models to compare\n",
    "models_for_gridsearch = {\n",
    "    'LogisticRegression': logistic_regression,\n",
    "    'LogisticRegression_L1': logistic_regression_l1,\n",
    "    'LogisticRegression_L2': logistic_regression_l2,\n",
    "    'KNeighborsClassifier': knn_classifier\n",
    "}\n",
    "\n",
    "# optimisation hyperparameters for each of the above models\n",
    "params_for_gridsearch = {\n",
    "    'LogisticRegression':{\n",
    "        'solver': ['newton-cg', 'lbfgs', 'sag', 'saga']\n",
    "    },\n",
    "    'LogisticRegression_L1':{\n",
    "        'C': C_geometric,\n",
    "        'solver': ['liblinear', 'saga']\n",
    "    },\n",
    "    'LogisticRegression_L2':{\n",
    "        'C': C_geometric,\n",
    "        'solver': ['newton-cg', 'lbfgs', 'liblinear', 'sag', 'saga']\n",
    "    },\n",
    "    'KNeighborsClassifier':{\n",
    "        'n_neighbors': np.arange(1, 15, 2),\n",
    "        'weights': ['uniform', 'distance']\n",
    "    }\n",
    "}\n",
    "\n",
    "def fit(X_train_scaled, y_train):\n",
    "    for name in models_for_gridsearch.keys():\n",
    "        est = models_for_gridsearch[name]\n",
    "        est_params = params_for_gridsearch[name]\n",
    "        gscv = GridSearchCV(estimator=est, param_grid=est_params)\n",
    "        gscv.fit(X_train_scaled, y_train)\n",
    "        print(\"Original model:\", est)\n",
    "        print(\"  new best hyperparameters: {}\".format(gscv.best_params_))\n",
    "        print(\"  best mean cross-validation score: {:.3f}\".format(gscv.best_score_))\n",
    "        print(\"  best test-set score: {:.3f}\".format(gscv.score(X_test_scaled, y_test)))"
   ],
   "metadata": {
    "collapsed": false,
    "pycharm": {
     "name": "#%%\n"
    }
   }
  },
  {
   "cell_type": "code",
   "execution_count": 136,
   "outputs": [
    {
     "name": "stdout",
     "output_type": "stream",
     "text": [
      "Original model: LogisticRegression(max_iter=100000, penalty='none', solver='newton-cg', tol=0.1)\n",
      "  new best hyperparameters: {'solver': 'newton-cg'}\n",
      "  best mean cross-validation score: 0.994\n",
      "  best test-set score: 0.993\n",
      "Original model: LogisticRegression(max_iter=100000, penalty='l1', solver='liblinear', tol=0.1)\n",
      "  new best hyperparameters: {'C': 1.0, 'solver': 'liblinear'}\n",
      "  best mean cross-validation score: 0.993\n",
      "  best test-set score: 0.990\n",
      "Original model: LogisticRegression(max_iter=100000, solver='liblinear', tol=0.1)\n",
      "  new best hyperparameters: {'C': 10.0, 'solver': 'lbfgs'}\n",
      "  best mean cross-validation score: 0.994\n",
      "  best test-set score: 0.993\n",
      "Original model: KNeighborsClassifier()\n",
      "  new best hyperparameters: {'n_neighbors': 13, 'weights': 'uniform'}\n",
      "  best mean cross-validation score: 0.993\n",
      "  best test-set score: 0.992\n"
     ]
    }
   ],
   "source": [
    "fit(X_train_scaled, y_train)"
   ],
   "metadata": {
    "collapsed": false,
    "pycharm": {
     "name": "#%%\n"
    }
   }
  },
  {
   "cell_type": "markdown",
   "source": [
    "**[Non-penalized Logistic Regression]** The solver I originally chose has turned out to be the best one.\n",
    "\n",
    "**[Penalized Logistic Regression(L1)]** Increasing C has slightly improved the scores.\n",
    "\n",
    "**[Penalized Logistic Regression(L2)]** Increasing C and choosing 'lbfgs' for solver has slightly increased both cross-validation and test-set scores by 0.001.\n",
    "\n",
    "**[KNeighborsClassifier]** Increasing n_neighbors to 13 has slightly increased the test-set score by 0.001."
   ],
   "metadata": {
    "collapsed": false
   }
  },
  {
   "cell_type": "markdown",
   "source": [
    "### 2.4 Change the cross-validation strategy in GridSearchCV from 'stratified k-fold' to 'kfold' with shuffling. Do the parameters for models that can be tuned change? Do they change if you change the random seed of the shuffling? Or if you change the random state of the split into training and test data?"
   ],
   "metadata": {
    "collapsed": false
   }
  },
  {
   "cell_type": "code",
   "execution_count": 137,
   "outputs": [
    {
     "name": "stdout",
     "output_type": "stream",
     "text": [
      "Original model: LogisticRegression(max_iter=100000, penalty='none', solver='newton-cg', tol=0.1)\n",
      "  best hyperparameters: {'solver': 'newton-cg'}\n",
      "  best mean cross-validation score: 0.994\n",
      "  test-set score: 0.993\n",
      "Original model: LogisticRegression(max_iter=100000, penalty='l1', solver='liblinear', tol=0.1)\n",
      "  best hyperparameters: {'C': 0.1, 'solver': 'liblinear'}\n",
      "  best mean cross-validation score: 0.992\n",
      "  test-set score: 0.988\n",
      "Original model: LogisticRegression(max_iter=100000, solver='liblinear', tol=0.1)\n",
      "  best hyperparameters: {'C': 10.0, 'solver': 'newton-cg'}\n",
      "  best mean cross-validation score: 0.994\n",
      "  test-set score: 0.993\n",
      "Original model: KNeighborsClassifier()\n",
      "  best hyperparameters: {'n_neighbors': 7, 'weights': 'distance'}\n",
      "  best mean cross-validation score: 0.994\n",
      "  test-set score: 0.995\n"
     ]
    }
   ],
   "source": [
    "# In GridSearchCV, for integer/None inputs, if the estimator is a classifier and y is either binary or multiclass, StratifiedKFold is used.\n",
    "# Change the cross-validation strategy in GridSearchCV to 'kfold' with shuffling\n",
    "def fit_kfold_rs1(X_train_scaled, y_train):\n",
    "    for name in models_for_gridsearch.keys():\n",
    "        est = models_for_gridsearch[name]\n",
    "        est_params = params_for_gridsearch[name]\n",
    "        gscv = GridSearchCV(estimator=est, param_grid=est_params, cv=KFold(n_splits=5, shuffle = True, random_state = 1))\n",
    "        gscv.fit(X_train_scaled, y_train)\n",
    "        print(\"Original model:\", est)\n",
    "        print(\"  best hyperparameters: {}\".format(gscv.best_params_))\n",
    "        print(\"  best mean cross-validation score: {:.3f}\".format(gscv.best_score_))\n",
    "        print(\"  test-set score: {:.3f}\".format(gscv.score(X_test_scaled, y_test)))\n",
    "fit_kfold_rs1(X_train_scaled, y_train)"
   ],
   "metadata": {
    "collapsed": false,
    "pycharm": {
     "name": "#%%\n"
    }
   }
  },
  {
   "cell_type": "markdown",
   "source": [
    "Changing the cross-validation strategy in GridSearchCV from StratifiedKfold to Kfold with shuffling has changed the best hyperparameters for some models. For example, the best C for L1 has decreased to 1.0. Moreover, the best solver for L2 has changed from 'lbfgs' to 'newton-cg'. Lastly, the best 'n_neighbors' and 'weights' hyperparameters have also changed to '7' and 'distance', respectively."
   ],
   "metadata": {
    "collapsed": false
   }
  },
  {
   "cell_type": "code",
   "execution_count": 138,
   "outputs": [
    {
     "name": "stdout",
     "output_type": "stream",
     "text": [
      "Model: LogisticRegression(max_iter=100000, penalty='none', solver='newton-cg', tol=0.1)\n",
      "  best hyperparameters: {'solver': 'newton-cg'}\n",
      "  best mean cross-validation score: 0.993\n",
      "  test-set score: 0.993\n",
      "Model: LogisticRegression(max_iter=100000, penalty='l1', solver='liblinear', tol=0.1)\n",
      "  best hyperparameters: {'C': 100.0, 'solver': 'liblinear'}\n",
      "  best mean cross-validation score: 0.993\n",
      "  test-set score: 0.991\n",
      "Model: LogisticRegression(max_iter=100000, solver='liblinear', tol=0.1)\n",
      "  best hyperparameters: {'C': 10.0, 'solver': 'liblinear'}\n",
      "  best mean cross-validation score: 0.994\n",
      "  test-set score: 0.992\n",
      "Model: KNeighborsClassifier()\n",
      "  best hyperparameters: {'n_neighbors': 3, 'weights': 'distance'}\n",
      "  best mean cross-validation score: 0.994\n",
      "  test-set score: 0.993\n"
     ]
    }
   ],
   "source": [
    "# Change the random seed of the shuffling from 1 to 2\n",
    "def fit_kfold_rs2(X_train_scaled, y_train):\n",
    "    for name in models_for_gridsearch.keys():\n",
    "        est = models_for_gridsearch[name]\n",
    "        est_params = params_for_gridsearch[name]\n",
    "        gscv = GridSearchCV(estimator=est, param_grid=est_params, cv=KFold(n_splits=5, shuffle = True, random_state = 2))\n",
    "        gscv.fit(X_train_scaled, y_train)\n",
    "        print(\"Model:\", est)\n",
    "        print(\"  best hyperparameters: {}\".format(gscv.best_params_))\n",
    "        print(\"  best mean cross-validation score: {:.3f}\".format(gscv.best_score_))\n",
    "        print(\"  test-set score: {:.3f}\".format(gscv.score(X_test_scaled, y_test)))\n",
    "\n",
    "fit_kfold_rs2(X_train_scaled, y_train)"
   ],
   "metadata": {
    "collapsed": false,
    "pycharm": {
     "name": "#%%\n"
    }
   }
  },
  {
   "cell_type": "markdown",
   "source": [
    "Changing the random seed of the suffling from 1 to 2 has also changed the best hyperparameters for some models."
   ],
   "metadata": {
    "collapsed": false
   }
  },
  {
   "cell_type": "code",
   "execution_count": 139,
   "outputs": [
    {
     "name": "stdout",
     "output_type": "stream",
     "text": [
      "Original model: LogisticRegression(max_iter=100000, penalty='none', solver='newton-cg', tol=0.1)\n",
      "  best hyperparameters: {'solver': 'newton-cg'}\n",
      "  best mean cross-validation score: 0.995\n",
      "  test-set score: 0.994\n",
      "Original model: LogisticRegression(max_iter=100000, penalty='l1', solver='liblinear', tol=0.1)\n",
      "  best hyperparameters: {'C': 1.0, 'solver': 'saga'}\n",
      "  best mean cross-validation score: 0.992\n",
      "  test-set score: 0.992\n",
      "Original model: LogisticRegression(max_iter=100000, solver='liblinear', tol=0.1)\n",
      "  best hyperparameters: {'C': 10.0, 'solver': 'liblinear'}\n",
      "  best mean cross-validation score: 0.995\n",
      "  test-set score: 0.993\n",
      "Original model: KNeighborsClassifier()\n",
      "  best hyperparameters: {'n_neighbors': 5, 'weights': 'uniform'}\n",
      "  best mean cross-validation score: 0.993\n",
      "  test-set score: 0.991\n"
     ]
    }
   ],
   "source": [
    "# Change the random state of the split into training and test data from 42 to 43\n",
    "X_train, X_test, y_train, y_test = train_test_split(X, y, random_state=43)\n",
    "\n",
    "# Preprocess the data again with StandardScaler()\n",
    "scaler = StandardScaler()\n",
    "scaler.fit(X_train)\n",
    "X_train_scaled = scaler.transform(X_train)\n",
    "X_test_scaled = scaler.transform(X_test)\n",
    "\n",
    "# Rerun with new random data\n",
    "fit_kfold_rs1(X_train_scaled, y_train)"
   ],
   "metadata": {
    "collapsed": false,
    "pycharm": {
     "name": "#%%\n"
    }
   }
  },
  {
   "cell_type": "markdown",
   "source": [
    "Changing state of the split into training and test data from 42 to 43 has also changed the best hyperparameters for some models."
   ],
   "metadata": {
    "collapsed": false
   }
  },
  {
   "cell_type": "markdown",
   "source": [
    "### 2.5 Lastly, compare the coefficients for Logistic Regression and Penalized Logistic Regression and discuss which final model you would choose to predict new data."
   ],
   "metadata": {
    "collapsed": false
   }
  },
  {
   "cell_type": "code",
   "execution_count": 140,
   "outputs": [],
   "source": [
    "# Returning to original split\n",
    "X_train, X_test, y_train, y_test = train_test_split(X, y, random_state=42)\n",
    "\n",
    "# Restandardize data\n",
    "scaler = StandardScaler()\n",
    "scaler.fit(X_train)\n",
    "X_train_scaled = scaler.transform(X_train)\n",
    "X_test_scaled = scaler.transform(X_test)\n",
    "\n",
    "# Choose the best non-penalized and penalized logistic regression models\n",
    "retrained_logistic_regression = LogisticRegression(max_iter=100000, penalty='none', solver='newton-cg', tol=0.1)\n",
    "retrained_logistic_regression_l1 = LogisticRegression(max_iter=100000, penalty='l1', solver='liblinear', tol=0.1, C=10)\n",
    "retrained_logistic_regression_l2 = LogisticRegression(max_iter=100000, penalty='l2', solver='lbfgs', tol=0.1, C=10)"
   ],
   "metadata": {
    "collapsed": false,
    "pycharm": {
     "name": "#%%\n"
    }
   }
  },
  {
   "cell_type": "code",
   "execution_count": 141,
   "outputs": [
    {
     "name": "stdout",
     "output_type": "stream",
     "text": [
      "Non-Penalized Logistic Regression\n",
      "  Number of features used: 12\n",
      "[[-0.39385897  1.15835212 -0.46419165 -5.60104612  0.76040191  1.43455079\n",
      "  -3.33588718  5.74100473 -0.2852445   0.44009941  2.31163117  0.18718105]]\n",
      "Index(['fixed acidity', 'volatile acidity', 'citric acid', 'residual sugar',\n",
      "       'chlorides', 'free sulfur dioxide', 'total sulfur dioxide', 'density',\n",
      "       'pH', 'sulphates', 'alcohol', 'quality'],\n",
      "      dtype='object')\n"
     ]
    }
   ],
   "source": [
    "# Non-penalized\n",
    "retrained_logistic_regression.fit(X_train_scaled, y_train)\n",
    "print(\"Non-Penalized Logistic Regression\")\n",
    "print(\"  Number of features used: {}\".format(np.sum(retrained_logistic_regression.coef_ != 0)))\n",
    "print(retrained_logistic_regression.coef_)\n",
    "print(X.columns)\n",
    "# density (positive), residual sugar(negative), total sulfur dioxide (positive) are important in that order"
   ],
   "metadata": {
    "collapsed": false,
    "pycharm": {
     "name": "#%%\n"
    }
   }
  },
  {
   "cell_type": "code",
   "execution_count": 142,
   "outputs": [
    {
     "name": "stdout",
     "output_type": "stream",
     "text": [
      "Logistic Regression (L1)\n",
      "  Number of features used: 12\n",
      "[[ 0.66972093  1.15832648 -0.31180332 -1.07252888  0.62804045  0.27467827\n",
      "  -2.03981842  1.56027612  0.51665569  0.74071141  0.18304415  0.2491499 ]]\n",
      "Index(['fixed acidity', 'volatile acidity', 'citric acid', 'residual sugar',\n",
      "       'chlorides', 'free sulfur dioxide', 'total sulfur dioxide', 'density',\n",
      "       'pH', 'sulphates', 'alcohol', 'quality'],\n",
      "      dtype='object')\n"
     ]
    }
   ],
   "source": [
    "# L1\n",
    "retrained_logistic_regression_l1.fit(X_train_scaled, y_train)\n",
    "print(\"Logistic Regression (L1)\")\n",
    "print(\"  Number of features used: {}\".format(np.sum(retrained_logistic_regression_l1.coef_ != 0)))\n",
    "print(retrained_logistic_regression_l1.coef_)\n",
    "print(X.columns)\n",
    "# total sulfur dioxide is the most important"
   ],
   "metadata": {
    "collapsed": false,
    "pycharm": {
     "name": "#%%\n"
    }
   }
  },
  {
   "cell_type": "code",
   "execution_count": 143,
   "outputs": [
    {
     "name": "stdout",
     "output_type": "stream",
     "text": [
      "Logistic Regression (L2)\n",
      "  Number of features used: 12\n",
      "[[-0.23862835  1.18565441 -0.43751328 -5.16950643  0.76225472  1.33886034\n",
      "  -3.24831862  5.2722352  -0.15828578  0.47566133  2.07932256  0.18200091]]\n",
      "Index(['fixed acidity', 'volatile acidity', 'citric acid', 'residual sugar',\n",
      "       'chlorides', 'free sulfur dioxide', 'total sulfur dioxide', 'density',\n",
      "       'pH', 'sulphates', 'alcohol', 'quality'],\n",
      "      dtype='object')\n"
     ]
    }
   ],
   "source": [
    "# L2\n",
    "retrained_logistic_regression_l2.fit(X_train_scaled, y_train)\n",
    "print(\"Logistic Regression (L2)\")\n",
    "print(\"  Number of features used: {}\".format(np.sum(retrained_logistic_regression_l2.coef_ != 0)))\n",
    "print(retrained_logistic_regression_l2.coef_)\n",
    "print(X.columns)\n",
    "# density(positive), residual sugar(negative), total sulfur dioxide (negative) are important in that order"
   ],
   "metadata": {
    "collapsed": false,
    "pycharm": {
     "name": "#%%\n"
    }
   }
  },
  {
   "cell_type": "markdown",
   "source": [
    "The non-penalized logistic regression would be my first choice for this particular classification task, as it has the highest test-set score.\n",
    "\n",
    "Ridge and Lasso regularizations are helpful when a regression model comprises a large number of features. They mitigate the issues of overfitting and multicollinearity by shrinking the coefficients in the model.\n",
    "\n",
    "The handling of this small and dense wine data set does not require the employment of any regularization techniques. In fact, even the stricter L1 regularization, which is often used for feature selection, had not zeroed out any feature in this model. All 12 features are still being used.\n",
    "\n",
    "Moreover, both Ridge and Lasso failed to increase the test score compared to the non-penalized model. Using regularization techniques requires the extra effort of setting additional parameters like C. In this task, where regularizations do not improve the model performance any better, it is not worth the effort."
   ],
   "metadata": {
    "collapsed": false
   }
  },
  {
   "cell_type": "markdown",
   "source": [],
   "metadata": {
    "collapsed": false
   }
  }
 ],
 "metadata": {
  "kernelspec": {
   "display_name": "Python 3",
   "language": "python",
   "name": "python3"
  },
  "language_info": {
   "codemirror_mode": {
    "name": "ipython",
    "version": 2
   },
   "file_extension": ".py",
   "mimetype": "text/x-python",
   "name": "python",
   "nbconvert_exporter": "python",
   "pygments_lexer": "ipython2",
   "version": "2.7.6"
  }
 },
 "nbformat": 4,
 "nbformat_minor": 0
}