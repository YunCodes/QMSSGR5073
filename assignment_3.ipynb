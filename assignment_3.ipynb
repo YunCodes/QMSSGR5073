{
 "cells": [
  {
   "cell_type": "markdown",
   "metadata": {
    "collapsed": true,
    "pycharm": {
     "name": "#%% md\n"
    }
   },
   "source": [
    "# Assignment 3: Unsupervised learning for red wine characteristics\n",
    "Machine Learning for the Social Sciences\n",
    "Prof. Michael Parrot\n",
    "19 November 2021\n",
    "Yun Choi"
   ]
  },
  {
   "cell_type": "code",
   "execution_count": 1,
   "outputs": [],
   "source": [
    "# Import packages\n",
    "import pandas as pd\n",
    "import numpy as np\n",
    "import matplotlib.pyplot as plt\n",
    "import seaborn as sns\n",
    "\n",
    "# Import all models we will use\n",
    "from sklearn.preprocessing import scale\n",
    "from sklearn.cluster import KMeans\n",
    "from scipy.stats import pearsonr\n",
    "from scipy.spatial.distance import pdist\n",
    "from scipy.cluster.hierarchy import linkage\n",
    "from scipy.cluster.hierarchy import dendrogram\n",
    "from sklearn.decomposition import PCA\n",
    "from sklearn.cluster import AgglomerativeClustering"
   ],
   "metadata": {
    "collapsed": false,
    "pycharm": {
     "name": "#%%\n"
    }
   }
  },
  {
   "cell_type": "code",
   "execution_count": 2,
   "outputs": [
    {
     "data": {
      "text/plain": "   fixed acidity  volatile acidity  citric acid  residual sugar  chlorides  \\\n0            7.4              0.70         0.00             1.9      0.076   \n1            7.8              0.88         0.00             2.6      0.098   \n2            7.8              0.76         0.04             2.3      0.092   \n3           11.2              0.28         0.56             1.9      0.075   \n4            7.4              0.70         0.00             1.9      0.076   \n\n   free sulfur dioxide  total sulfur dioxide  density    pH  sulphates  \\\n0                 11.0                  34.0   0.9978  3.51       0.56   \n1                 25.0                  67.0   0.9968  3.20       0.68   \n2                 15.0                  54.0   0.9970  3.26       0.65   \n3                 17.0                  60.0   0.9980  3.16       0.58   \n4                 11.0                  34.0   0.9978  3.51       0.56   \n\n   alcohol  quality  \n0      9.4        5  \n1      9.8        5  \n2      9.8        5  \n3      9.8        6  \n4      9.4        5  ",
      "text/html": "<div>\n<style scoped>\n    .dataframe tbody tr th:only-of-type {\n        vertical-align: middle;\n    }\n\n    .dataframe tbody tr th {\n        vertical-align: top;\n    }\n\n    .dataframe thead th {\n        text-align: right;\n    }\n</style>\n<table border=\"1\" class=\"dataframe\">\n  <thead>\n    <tr style=\"text-align: right;\">\n      <th></th>\n      <th>fixed acidity</th>\n      <th>volatile acidity</th>\n      <th>citric acid</th>\n      <th>residual sugar</th>\n      <th>chlorides</th>\n      <th>free sulfur dioxide</th>\n      <th>total sulfur dioxide</th>\n      <th>density</th>\n      <th>pH</th>\n      <th>sulphates</th>\n      <th>alcohol</th>\n      <th>quality</th>\n    </tr>\n  </thead>\n  <tbody>\n    <tr>\n      <th>0</th>\n      <td>7.4</td>\n      <td>0.70</td>\n      <td>0.00</td>\n      <td>1.9</td>\n      <td>0.076</td>\n      <td>11.0</td>\n      <td>34.0</td>\n      <td>0.9978</td>\n      <td>3.51</td>\n      <td>0.56</td>\n      <td>9.4</td>\n      <td>5</td>\n    </tr>\n    <tr>\n      <th>1</th>\n      <td>7.8</td>\n      <td>0.88</td>\n      <td>0.00</td>\n      <td>2.6</td>\n      <td>0.098</td>\n      <td>25.0</td>\n      <td>67.0</td>\n      <td>0.9968</td>\n      <td>3.20</td>\n      <td>0.68</td>\n      <td>9.8</td>\n      <td>5</td>\n    </tr>\n    <tr>\n      <th>2</th>\n      <td>7.8</td>\n      <td>0.76</td>\n      <td>0.04</td>\n      <td>2.3</td>\n      <td>0.092</td>\n      <td>15.0</td>\n      <td>54.0</td>\n      <td>0.9970</td>\n      <td>3.26</td>\n      <td>0.65</td>\n      <td>9.8</td>\n      <td>5</td>\n    </tr>\n    <tr>\n      <th>3</th>\n      <td>11.2</td>\n      <td>0.28</td>\n      <td>0.56</td>\n      <td>1.9</td>\n      <td>0.075</td>\n      <td>17.0</td>\n      <td>60.0</td>\n      <td>0.9980</td>\n      <td>3.16</td>\n      <td>0.58</td>\n      <td>9.8</td>\n      <td>6</td>\n    </tr>\n    <tr>\n      <th>4</th>\n      <td>7.4</td>\n      <td>0.70</td>\n      <td>0.00</td>\n      <td>1.9</td>\n      <td>0.076</td>\n      <td>11.0</td>\n      <td>34.0</td>\n      <td>0.9978</td>\n      <td>3.51</td>\n      <td>0.56</td>\n      <td>9.4</td>\n      <td>5</td>\n    </tr>\n  </tbody>\n</table>\n</div>"
     },
     "execution_count": 2,
     "metadata": {},
     "output_type": "execute_result"
    }
   ],
   "source": [
    "# Read red wine data\n",
    "df=pd.read_csv(\"https://archive.ics.uci.edu/ml/machine-learning-databases/wine-quality/winequality-red.csv\", sep=\";\")\n",
    "df.head()"
   ],
   "metadata": {
    "collapsed": false,
    "pycharm": {
     "name": "#%%\n"
    }
   }
  },
  {
   "cell_type": "markdown",
   "source": [
    "## 1. Use K Means Cluster Analysis to identify cluster(s) of observations that have high and low values of the wine quality. (Assume all variables are continuous.) Describe variables that cluster with higher values of wine quality. Describe variables that cluster with lower values of wine quality. If you want to make a good bottle of wine, then what characteristics are most important according to this analysis?"
   ],
   "metadata": {
    "collapsed": false
   }
  },
  {
   "cell_type": "code",
   "execution_count": 3,
   "outputs": [
    {
     "data": {
      "text/plain": "   fixed acidity  volatile acidity  citric acid  residual sugar  chlorides  \\\n0      -0.528360          0.961877    -1.391472       -0.453218  -0.243707   \n1      -0.298547          1.967442    -1.391472        0.043416   0.223875   \n2      -0.298547          1.297065    -1.186070       -0.169427   0.096353   \n3       1.654856         -1.384443     1.484154       -0.453218  -0.264960   \n4      -0.528360          0.961877    -1.391472       -0.453218  -0.243707   \n\n   free sulfur dioxide  total sulfur dioxide   density        pH  sulphates  \\\n0            -0.466193             -0.379133  0.558274  1.288643  -0.579207   \n1             0.872638              0.624363  0.028261 -0.719933   0.128950   \n2            -0.083669              0.229047  0.134264 -0.331177  -0.048089   \n3             0.107592              0.411500  0.664277 -0.979104  -0.461180   \n4            -0.466193             -0.379133  0.558274  1.288643  -0.579207   \n\n    alcohol   quality  \n0 -0.960246 -0.787823  \n1 -0.584777 -0.787823  \n2 -0.584777 -0.787823  \n3 -0.584777  0.450848  \n4 -0.960246 -0.787823  ",
      "text/html": "<div>\n<style scoped>\n    .dataframe tbody tr th:only-of-type {\n        vertical-align: middle;\n    }\n\n    .dataframe tbody tr th {\n        vertical-align: top;\n    }\n\n    .dataframe thead th {\n        text-align: right;\n    }\n</style>\n<table border=\"1\" class=\"dataframe\">\n  <thead>\n    <tr style=\"text-align: right;\">\n      <th></th>\n      <th>fixed acidity</th>\n      <th>volatile acidity</th>\n      <th>citric acid</th>\n      <th>residual sugar</th>\n      <th>chlorides</th>\n      <th>free sulfur dioxide</th>\n      <th>total sulfur dioxide</th>\n      <th>density</th>\n      <th>pH</th>\n      <th>sulphates</th>\n      <th>alcohol</th>\n      <th>quality</th>\n    </tr>\n  </thead>\n  <tbody>\n    <tr>\n      <th>0</th>\n      <td>-0.528360</td>\n      <td>0.961877</td>\n      <td>-1.391472</td>\n      <td>-0.453218</td>\n      <td>-0.243707</td>\n      <td>-0.466193</td>\n      <td>-0.379133</td>\n      <td>0.558274</td>\n      <td>1.288643</td>\n      <td>-0.579207</td>\n      <td>-0.960246</td>\n      <td>-0.787823</td>\n    </tr>\n    <tr>\n      <th>1</th>\n      <td>-0.298547</td>\n      <td>1.967442</td>\n      <td>-1.391472</td>\n      <td>0.043416</td>\n      <td>0.223875</td>\n      <td>0.872638</td>\n      <td>0.624363</td>\n      <td>0.028261</td>\n      <td>-0.719933</td>\n      <td>0.128950</td>\n      <td>-0.584777</td>\n      <td>-0.787823</td>\n    </tr>\n    <tr>\n      <th>2</th>\n      <td>-0.298547</td>\n      <td>1.297065</td>\n      <td>-1.186070</td>\n      <td>-0.169427</td>\n      <td>0.096353</td>\n      <td>-0.083669</td>\n      <td>0.229047</td>\n      <td>0.134264</td>\n      <td>-0.331177</td>\n      <td>-0.048089</td>\n      <td>-0.584777</td>\n      <td>-0.787823</td>\n    </tr>\n    <tr>\n      <th>3</th>\n      <td>1.654856</td>\n      <td>-1.384443</td>\n      <td>1.484154</td>\n      <td>-0.453218</td>\n      <td>-0.264960</td>\n      <td>0.107592</td>\n      <td>0.411500</td>\n      <td>0.664277</td>\n      <td>-0.979104</td>\n      <td>-0.461180</td>\n      <td>-0.584777</td>\n      <td>0.450848</td>\n    </tr>\n    <tr>\n      <th>4</th>\n      <td>-0.528360</td>\n      <td>0.961877</td>\n      <td>-1.391472</td>\n      <td>-0.453218</td>\n      <td>-0.243707</td>\n      <td>-0.466193</td>\n      <td>-0.379133</td>\n      <td>0.558274</td>\n      <td>1.288643</td>\n      <td>-0.579207</td>\n      <td>-0.960246</td>\n      <td>-0.787823</td>\n    </tr>\n  </tbody>\n</table>\n</div>"
     },
     "execution_count": 3,
     "metadata": {},
     "output_type": "execute_result"
    }
   ],
   "source": [
    "# Scale data\n",
    "X=pd.DataFrame(scale(df), index=df.index, columns=df.columns)\n",
    "X.head()"
   ],
   "metadata": {
    "collapsed": false,
    "pycharm": {
     "name": "#%%\n"
    }
   }
  },
  {
   "cell_type": "code",
   "execution_count": 4,
   "outputs": [
    {
     "data": {
      "text/plain": "<Figure size 1080x360 with 1 Axes>",
      "image/png": "[encoded data removed]"
     },
     "metadata": {
      "needs_background": "light"
     },
     "output_type": "display_data"
    }
   ],
   "source": [
    "# Create an elbow chart to determine the optimal number of clusters\n",
    "# Initiate empty list with no data\n",
    "within_cluster_variance = []\n",
    "\n",
    "# build models for range of ks from 2 to 10\n",
    "for k in range(2, 10):\n",
    "    kmeans = KMeans(n_clusters=k)\n",
    "    kmeans.fit(X)\n",
    "    within_cluster_variance.append(kmeans.inertia_)\n",
    "\n",
    "fig = plt.figure(figsize=(15, 5))\n",
    "plt.plot(range(2, 10), within_cluster_variance, marker='o')\n",
    "plt.grid(True)\n",
    "plt.xlabel('Number of clusters')\n",
    "plt.ylabel('Reduction in within cluster variation')\n",
    "plt.title('Elbow curve');"
   ],
   "metadata": {
    "collapsed": false,
    "pycharm": {
     "name": "#%%\n"
    }
   }
  },
  {
   "cell_type": "markdown",
   "source": [
    "The elbow chart above shows that the magnitude of within-cluster variation reduction drastically decreases as the number of clusters reaches seven. So I have decided to group wines into seven clusters."
   ],
   "metadata": {
    "collapsed": false
   }
  },
  {
   "cell_type": "code",
   "source": [
    "kmeans = KMeans(n_clusters=7, random_state=42)\n",
    "kmeans.fit(X)\n",
    "X['cluster'] = kmeans.labels_\n",
    "# Show the mean values of each column for each\n",
    "df_2 = X.groupby('cluster').mean().sort_values('quality', ascending=False)\n",
    "print(df_2)"
   ],
   "metadata": {
    "collapsed": false,
    "pycharm": {
     "name": "#%%\n"
    }
   },
   "execution_count": 5,
   "outputs": [
    {
     "name": "stdout",
     "output_type": "stream",
     "text": [
      "         fixed acidity  volatile acidity  citric acid  residual sugar  \\\n",
      "cluster                                                                 \n",
      "2             0.194068         -1.007902     0.720717       -0.109011   \n",
      "6            -1.066777          0.395514    -0.932008       -0.239024   \n",
      "0             1.662733         -0.581050     1.250385        0.129240   \n",
      "4            -0.085633         -0.034652     0.414856        4.961768   \n",
      "5             0.081831          0.017955     1.144178       -0.399396   \n",
      "3            -0.119049          0.020357     0.059254       -0.022704   \n",
      "1            -0.407518          0.646368    -0.756594       -0.213623   \n",
      "\n",
      "         chlorides  free sulfur dioxide  total sulfur dioxide   density  \\\n",
      "cluster                                                                   \n",
      "2        -0.286380            -0.313407             -0.538780 -0.568067   \n",
      "6        -0.402907             0.240109             -0.193204 -1.292710   \n",
      "0         0.076985            -0.497427             -0.442158  1.158985   \n",
      "4         0.296388             1.750191              1.695832  1.225001   \n",
      "5         5.604731            -0.070479              0.474416  0.185803   \n",
      "3        -0.041671             0.992743              1.223546  0.204028   \n",
      "1        -0.040699            -0.495534             -0.406652  0.027823   \n",
      "\n",
      "               pH  sulphates   alcohol   quality  \n",
      "cluster                                           \n",
      "2       -0.207918   0.452370  1.017933  1.055668  \n",
      "6        1.139620  -0.146444  1.138655  0.468544  \n",
      "0       -0.988249   0.272200 -0.036083  0.156165  \n",
      "4       -0.325460  -0.023789 -0.363913 -0.022761  \n",
      "5       -1.687357   3.720608 -0.882563 -0.360695  \n",
      "3       -0.099610  -0.175543 -0.572465 -0.425017  \n",
      "1        0.315413  -0.413872 -0.535742 -0.521662  \n"
     ]
    }
   ]
  },
  {
   "cell_type": "markdown",
   "source": [
    "The table above shows the mean values of all variables for each cluster, sorted by 'quality' in descending order. The table shows that variables are not equally associated with quality. Some variables - 'volatile acidity', 'total_sulfur_dioxide', 'density', and 'high alcohol', for example - have a stronger association than others. When the wine quality increases, they consistently increase or decrease.\n",
    "\n",
    "The characteristics strongly associated with high-quality wines seem to be:\n",
    "- low volatile acidity\n",
    "- low total sulfur dioxide\n",
    "- low density\n",
    "- high alcohol\n",
    "\n",
    "The characteristics strongly associated with low-quality wines seem to be:\n",
    "- high volatile acidity\n",
    "- high total sulfur dioxide\n",
    "- high density\n",
    "- low alcohol\n",
    "\n",
    "However, by looking at the mean values with the naked eye, it is hard to tell which variables are more important than others by how much."
   ],
   "metadata": {
    "collapsed": false,
    "pycharm": {
     "name": "#%% md\n"
    }
   }
  },
  {
   "cell_type": "code",
   "execution_count": 6,
   "outputs": [
    {
     "name": "stdout",
     "output_type": "stream",
     "text": [
      "Pearsons correlation b/w fixed acidity and quality: 0.066\n",
      "Pearsons correlation b/w volatile acidity and quality: -0.679\n",
      "Pearsons correlation b/w citric acid and quality: 0.126\n",
      "Pearsons correlation b/w residual sugar and quality: -0.040\n",
      "Pearsons correlation b/w chlorides and quality: -0.373\n",
      "Pearsons correlation b/w free sulfur dioxide and quality: -0.192\n",
      "Pearsons correlation b/w total sulfur dioxide and quality: -0.439\n",
      "Pearsons correlation b/w density and quality: -0.418\n",
      "Pearsons correlation b/w pH and quality: 0.243\n",
      "Pearsons correlation b/w sulphates and quality: -0.160\n",
      "Pearsons correlation b/w alcohol and quality: 0.905\n"
     ]
    }
   ],
   "source": [
    "for c in list(df_2.columns)[0:11]:\n",
    "    corr, _ = pearsonr(df_2[c], df_2['quality'])\n",
    "    print(\"Pearsons correlation b/w\", c, \"and quality: %.3f\" % corr)"
   ],
   "metadata": {
    "collapsed": false,
    "pycharm": {
     "name": "#%%\n"
    }
   }
  },
  {
   "cell_type": "markdown",
   "source": [
    "I calculate the Pearson correlation coefficient between each variable and 'quality' to see the strength of each correlation. The Pearson correlation coefficient returns a value between -1 and 1 that represents the limits of correlation from a full negative correlation to a full positive correlation. A value of 0 means no correlation.\n",
    "\n",
    "The coefficients above show that 'alcohol', 'volatile acidity', 'total sulfur dioxide', and 'density' are most strongly correlated with quality, in that order, although the direction varies by variables. 'Alcohol' is positively correlated with quality, while the others are negatively correlated, as shown from the signals of their correlation coefficients.\n",
    "\n",
    "Pearson correlation coefficients:\n",
    "- Alcohol and quality: 0.905\n",
    "- Volatile acidity and quality: -0.679\n",
    "- Total sulfur dioxide and quality: -0.439\n",
    "- Density and quality: -0.418\n",
    "\n",
    "The results align with the expectation I had above based on the mean values of variables per cluster, but they provide a clearer picture of which variables are more strongly correlated than others by how much. Based on these results, we can conclude that having high alcohol, low volatile acidity, low total sulfur dioxide, and low density are essential for wine to be high quality."
   ],
   "metadata": {
    "collapsed": false
   }
  },
  {
   "cell_type": "markdown",
   "source": [
    "## 2. Use Hierarchical Cluster Analysis to identify cluster(s) of observations that have high and low values of the wine quality. (Assume all variables are continuous.) Use complete linkage and the same number of groups that you found to be the most meaningful in question 1. Describe variables that cluster with higher values of wine quality. Describe variables that cluster with lower values of wine quality. If you want to make a good bottle of wine, then what characteristics are most important according to this analysis? Have your conclusions changed using Hierarchical clustering rather than k means clustering? Present any figures that assist you in your analysis."
   ],
   "metadata": {
    "collapsed": false
   }
  },
  {
   "cell_type": "code",
   "source": [
    "# Refresh the data\n",
    "X=pd.DataFrame(scale(df), index=df.index, columns=df.columns)\n",
    "# Create a distance matrix for hierarchical clustering\n",
    "row_clusters = linkage(pdist(df, metric='euclidean'), method='complete')"
   ],
   "metadata": {
    "collapsed": false,
    "pycharm": {
     "name": "#%%\n"
    }
   },
   "execution_count": 7,
   "outputs": []
  },
  {
   "cell_type": "code",
   "execution_count": 8,
   "outputs": [
    {
     "name": "stdout",
     "output_type": "stream",
     "text": [
      "         fixed acidity  volatile acidity  citric acid  residual sugar  \\\n",
      "cluster                                                                 \n",
      "4            -0.624115         -1.291336     1.364336        5.293553   \n",
      "5             2.482856         -0.657106     1.592896        0.192963   \n",
      "0            -1.097587          0.430947    -0.721546       -0.283762   \n",
      "6             0.284822         -0.598039     0.630946        6.832574   \n",
      "2             0.009946         -0.002846    -0.029360       -0.042682   \n",
      "1             0.012429         -0.100884     0.528057       -0.328215   \n",
      "3             0.074897         -0.350945     3.127368        0.043416   \n",
      "\n",
      "         chlorides  free sulfur dioxide  total sulfur dioxide   density  \\\n",
      "cluster                                                                   \n",
      "4        -0.675866             3.167777              5.956069 -1.185471   \n",
      "5        -0.056174            -0.471818             -0.452472  1.468131   \n",
      "0        -0.402129            -0.181139             -0.185685 -1.592195   \n",
      "6         0.639140             0.982981              0.505067  1.903286   \n",
      "2        -0.107648             0.023370             -0.003717  0.069548   \n",
      "1         2.707187            -0.106439              0.430325  0.260289   \n",
      "3        11.116408             0.394484              0.320274  0.770280   \n",
      "\n",
      "               pH  sulphates   alcohol   quality  \n",
      "cluster                                           \n",
      "4       -1.259873  -0.815259  1.136122  1.276629  \n",
      "5       -1.625762   0.646183  0.131191  0.669437  \n",
      "0        1.127159  -0.297306  1.529161  0.165001  \n",
      "6       -0.500635   0.115332 -0.599218  0.069719  \n",
      "2        0.012269  -0.125419 -0.114821 -0.027203  \n",
      "1       -1.022300   2.585018 -0.724833 -0.335609  \n",
      "3       -2.663717   5.735193 -0.960246 -1.407158  \n"
     ]
    }
   ],
   "source": [
    "from sklearn.cluster import AgglomerativeClustering\n",
    "np.random.RandomState(42)\n",
    "ac = AgglomerativeClustering(n_clusters=7,\n",
    "                             affinity='euclidean',\n",
    "                             linkage='complete')\n",
    "X['cluster'] = ac.fit_predict(X)\n",
    "# Show the mean values of each column for each\n",
    "df_2 = X.groupby('cluster').mean().sort_values('quality', ascending=False)\n",
    "print(df_2)"
   ],
   "metadata": {
    "collapsed": false,
    "pycharm": {
     "name": "#%%\n"
    }
   }
  },
  {
   "cell_type": "markdown",
   "source": [
    "The table above shows the mean values of all variables for each cluster, sorted by 'quality' in descending order. The table again shows that variables are not equally associated with quality. Here, 'alcohol', 'sulphates', and 'chlorides' seems to have a stronger association with 'quality' than the other variables. When the wine quality increases, they consistently increases or decreases.\n",
    "\n",
    "The characteristics strongly associated with high-quality wines seem to be:\n",
    "- high alcohol\n",
    "- low sulphates\n",
    "- low chlorides\n",
    "\n",
    "The characteristics strongly associated with low-quality wines seem to be:\n",
    "- low alcohol\n",
    "- high sulphates\n",
    "- high chlorides\n",
    "\n",
    "However, by looking at the mean values with the naked eye, it is hard to tell which variables are more important than others by how much."
   ],
   "metadata": {
    "collapsed": false
   }
  },
  {
   "cell_type": "code",
   "execution_count": 9,
   "outputs": [
    {
     "name": "stdout",
     "output_type": "stream",
     "text": [
      "Pearsons correlation b/w fixed acidity and quality: 0.093\n",
      "Pearsons correlation b/w volatile acidity and quality: -0.499\n",
      "Pearsons correlation b/w citric acid and quality: -0.356\n",
      "Pearsons correlation b/w residual sugar and quality: 0.439\n",
      "Pearsons correlation b/w chlorides and quality: -0.863\n",
      "Pearsons correlation b/w free sulfur dioxide and quality: 0.484\n",
      "Pearsons correlation b/w total sulfur dioxide and quality: 0.564\n",
      "Pearsons correlation b/w density and quality: -0.299\n",
      "Pearsons correlation b/w pH and quality: 0.311\n",
      "Pearsons correlation b/w sulphates and quality: -0.869\n",
      "Pearsons correlation b/w alcohol and quality: 0.697\n"
     ]
    }
   ],
   "source": [
    "for c in list(df_2.columns)[0:11]:\n",
    "    corr, _ = pearsonr(df_2[c], df_2['quality'])\n",
    "    print(\"Pearsons correlation b/w\", c, \"and quality: %.3f\" % corr)"
   ],
   "metadata": {
    "collapsed": false,
    "pycharm": {
     "name": "#%%\n"
    }
   }
  },
  {
   "cell_type": "markdown",
   "source": [
    "The Pearson correlation coefficients above show that 'sulphates', 'chlorides', 'alcohol', and 'volatile acidity' are most strongly correlated with 'quality', in that order. 'Alcohol' is positively correlated with quality, while the others are negatively correlated, as shown by the signals of the correlation coefficients.\n",
    "\n",
    "Pearson correlation coefficients:\n",
    "- Sulphates and quality: 0.869\n",
    "- Chlorides and quality: -0.863\n",
    "- Alcohol and quality: -0.697\n",
    "- Volatile acidity and quality: -0.499\n",
    "\n",
    "The result from Agglomerative Clustering vastly differs from that from K-means Clustering. The result from K-means Clustering is that 'alcohol', 'volatile acidity', 'total sulfur dioxide', and 'density' are most strongly correlated with quality, in that order, while that from Agglomerative Clustering is that 'sulphates', 'chlorides', 'alcohol', and 'volatile acidity' are most strongly correlated with quality, in that order. Such a disparity implies that clustering results can change significantly depending on which algorithm you choose.\n"
   ],
   "metadata": {
    "collapsed": false
   }
  },
  {
   "cell_type": "markdown",
   "source": [
    "## 3. Use Principal Components Analysis to reduce the dimensions of your data. How much of the variation in your data is explained by the first two principal components? How might you use the first two components to do supervised learning on some other variable tied to wine (e.g. - wine price)?"
   ],
   "metadata": {
    "collapsed": false,
    "pycharm": {
     "name": "#%% md\n"
    }
   }
  },
  {
   "cell_type": "code",
   "execution_count": 10,
   "outputs": [
    {
     "name": "stdout",
     "output_type": "stream",
     "text": [
      "[0.26009731 0.1868235  0.14024331 0.10125174]\n"
     ]
    }
   ],
   "source": [
    "# Reset data\n",
    "X=pd.DataFrame(scale(df), index=df.index, columns=df.columns)\n",
    "X_pca = PCA(n_components=4, random_state=42)\n",
    "X_pca.fit(X)\n",
    "print(X_pca.explained_variance_ratio_)"
   ],
   "metadata": {
    "collapsed": false,
    "pycharm": {
     "name": "#%%\n"
    }
   }
  },
  {
   "cell_type": "code",
   "execution_count": 11,
   "outputs": [
    {
     "data": {
      "text/plain": "<Figure size 432x288 with 1 Axes>",
      "image/png": "[encoded data removed]"
     },
     "metadata": {
      "needs_background": "light"
     },
     "output_type": "display_data"
    }
   ],
   "source": [
    "plt.plot(np.cumsum(X_pca.explained_variance_ratio_))\n",
    "plt.xlabel('number of components')\n",
    "plt.ylabel('cumulative explained variance');"
   ],
   "metadata": {
    "collapsed": false,
    "pycharm": {
     "name": "#%%\n"
    }
   }
  },
  {
   "cell_type": "markdown",
   "source": [
    "The table and chart above show that the first and second principal components explain 26% and 17% of variance in the red wine dataset, respectively. In total, they explain 43% of variance."
   ],
   "metadata": {
    "collapsed": false,
    "pycharm": {
     "name": "#%% md\n"
    }
   }
  },
  {
   "cell_type": "code",
   "source": [
    "# The loading vectors\n",
    "pca_loadings = pd.DataFrame(X_pca.fit(X).components_.T, index=X.columns, columns=['V1', 'V2', 'V3', 'V4'])\n",
    "pca_loadings.sort_values('V1', ascending=False)"
   ],
   "metadata": {
    "collapsed": false,
    "pycharm": {
     "name": "#%%\n"
    }
   },
   "execution_count": 14,
   "outputs": [
    {
     "data": {
      "text/plain": "                            V1        V2        V3        V4\nfixed acidity         0.487883 -0.004173 -0.164829 -0.231098\ncitric acid           0.473335 -0.137358  0.100229 -0.056736\ndensity               0.370301  0.330781 -0.168723 -0.200693\nsulphates             0.254535 -0.109334  0.212913  0.560502\nchlorides             0.197427  0.189788 -0.026608  0.654778\nresidual sugar        0.139154  0.167736  0.243620 -0.383038\nquality               0.112489 -0.473166  0.223369 -0.036669\ntotal sulfur dioxide  0.004067  0.363971  0.540732 -0.028460\nfree sulfur dioxide  -0.045881  0.259483  0.616111 -0.033711\nalcohol              -0.073177 -0.502709  0.224971 -0.091701\nvolatile acidity     -0.265129  0.338968 -0.227089  0.041858\npH                   -0.432721 -0.065440  0.069771 -0.005466",
      "text/html": "<div>\n<style scoped>\n    .dataframe tbody tr th:only-of-type {\n        vertical-align: middle;\n    }\n\n    .dataframe tbody tr th {\n        vertical-align: top;\n    }\n\n    .dataframe thead th {\n        text-align: right;\n    }\n</style>\n<table border=\"1\" class=\"dataframe\">\n  <thead>\n    <tr style=\"text-align: right;\">\n      <th></th>\n      <th>V1</th>\n      <th>V2</th>\n      <th>V3</th>\n      <th>V4</th>\n    </tr>\n  </thead>\n  <tbody>\n    <tr>\n      <th>fixed acidity</th>\n      <td>0.487883</td>\n      <td>-0.004173</td>\n      <td>-0.164829</td>\n      <td>-0.231098</td>\n    </tr>\n    <tr>\n      <th>citric acid</th>\n      <td>0.473335</td>\n      <td>-0.137358</td>\n      <td>0.100229</td>\n      <td>-0.056736</td>\n    </tr>\n    <tr>\n      <th>density</th>\n      <td>0.370301</td>\n      <td>0.330781</td>\n      <td>-0.168723</td>\n      <td>-0.200693</td>\n    </tr>\n    <tr>\n      <th>sulphates</th>\n      <td>0.254535</td>\n      <td>-0.109334</td>\n      <td>0.212913</td>\n      <td>0.560502</td>\n    </tr>\n    <tr>\n      <th>chlorides</th>\n      <td>0.197427</td>\n      <td>0.189788</td>\n      <td>-0.026608</td>\n      <td>0.654778</td>\n    </tr>\n    <tr>\n      <th>residual sugar</th>\n      <td>0.139154</td>\n      <td>0.167736</td>\n      <td>0.243620</td>\n      <td>-0.383038</td>\n    </tr>\n    <tr>\n      <th>quality</th>\n      <td>0.112489</td>\n      <td>-0.473166</td>\n      <td>0.223369</td>\n      <td>-0.036669</td>\n    </tr>\n    <tr>\n      <th>total sulfur dioxide</th>\n      <td>0.004067</td>\n      <td>0.363971</td>\n      <td>0.540732</td>\n      <td>-0.028460</td>\n    </tr>\n    <tr>\n      <th>free sulfur dioxide</th>\n      <td>-0.045881</td>\n      <td>0.259483</td>\n      <td>0.616111</td>\n      <td>-0.033711</td>\n    </tr>\n    <tr>\n      <th>alcohol</th>\n      <td>-0.073177</td>\n      <td>-0.502709</td>\n      <td>0.224971</td>\n      <td>-0.091701</td>\n    </tr>\n    <tr>\n      <th>volatile acidity</th>\n      <td>-0.265129</td>\n      <td>0.338968</td>\n      <td>-0.227089</td>\n      <td>0.041858</td>\n    </tr>\n    <tr>\n      <th>pH</th>\n      <td>-0.432721</td>\n      <td>-0.065440</td>\n      <td>0.069771</td>\n      <td>-0.005466</td>\n    </tr>\n  </tbody>\n</table>\n</div>"
     },
     "execution_count": 14,
     "metadata": {},
     "output_type": "execute_result"
    }
   ]
  },
  {
   "cell_type": "markdown",
   "source": [
    "The table above shows the coefficients in the first two principal components. The larger the absolute value of the coefficient, the more important the corresponding variable is in calculating the component.\n",
    "\n",
    "The first principal component has large positive associations with 'fixed acidity(.49)', and 'citric acid(.47)', while the second component has large negative associations with 'quality(-.47)' and 'alcohol(-.5)'. This result implies that wines in the dataset mostly vary in acidity and quality.\n",
    "\n",
    "I believe these two components will be useful in predicting the type of grapes used in wine, and the price of wine. Acidity is mostly derived naturally from the grapes themselves, so the large variance in acidity will help predict the type of grapes the wine is made of. Quality is presumably one of the decisive factors in deciding the price of wine, so the large variance in quality will help predict the price."
   ],
   "metadata": {
    "collapsed": false,
    "pycharm": {
     "name": "#%% md\n"
    }
   }
  },
  {
   "cell_type": "markdown",
   "source": [],
   "metadata": {
    "collapsed": false
   }
  }
 ],
 "metadata": {
  "kernelspec": {
   "display_name": "Python 3",
   "language": "python",
   "name": "python3"
  },
  "language_info": {
   "codemirror_mode": {
    "name": "ipython",
    "version": 2
   },
   "file_extension": ".py",
   "mimetype": "text/x-python",
   "name": "python",
   "nbconvert_exporter": "python",
   "pygments_lexer": "ipython2",
   "version": "2.7.6"
  }
 },
 "nbformat": 4,
 "nbformat_minor": 0
}