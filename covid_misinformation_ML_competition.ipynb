{
 "cells": [
  {
   "cell_type": "markdown",
   "metadata": {
    "collapsed": true,
    "pycharm": {
     "name": "#%% md\n"
    }
   },
   "source": [
    "## Covid Tweet Misinformation Prediction Competition\n",
    "Let's share our models to a centralized leaderboard, so that we can collaborate and learn from the model experimentation process...\n",
    "\n",
    "**Instructions:**\n",
    "1. Get data in and set up X_train / X_test / y_train\n",
    "2. Write preprocessor function and preprocess data\n",
    "3. Fit model on preprocessed data and save preprocessor function and model\n",
    "4. Generate predictions from X_test data and submit model to competition\n",
    "5. Repeat submission process to improve place on leaderboard"
   ]
  },
  {
   "cell_type": "markdown",
   "source": [
    "## 1. Get data in and set up X_train, X_test, y_train objects"
   ],
   "metadata": {
    "collapsed": false
   }
  },
  {
   "cell_type": "code",
   "execution_count": 1,
   "outputs": [
    {
     "name": "stdout",
     "output_type": "stream",
     "text": [
      "Downloading [======================================>          ]=======>             ]\n",
      "\n",
      "Data downloaded successfully.\n"
     ]
    }
   ],
   "source": [
    "# Get competition data\n",
    "from aimodelshare import download_data\n",
    "download_data('public.ecr.aws/y2e2a1d6/covid_tweet_competition_data-repository:latest')"
   ],
   "metadata": {
    "collapsed": false,
    "pycharm": {
     "name": "#%%\n"
    }
   }
  },
  {
   "cell_type": "code",
   "execution_count": 2,
   "outputs": [
    {
     "data": {
      "text/plain": "0    \"[T]he label of the popular Lysol already show...\n1    There were more deaths on the roads of France ...\n2    250 new cases of #COVID19Nigeria; Plateau-69 F...\n3    @XanderArmstrong Why was chloroquine described...\n4    Our new Can Compare 'College' tags make it eas...\nName: tweet, dtype: object"
     },
     "execution_count": 2,
     "metadata": {},
     "output_type": "execute_result"
    }
   ],
   "source": [
    "# Separate data into X_train, y_train, and X_test\n",
    "import pandas as pd\n",
    "X_train=pd.read_csv(\"covid_tweet_competition_data/X_train.csv\", squeeze=True)\n",
    "X_test=pd.read_csv(\"covid_tweet_competition_data/X_test.csv\", squeeze=True)\n",
    "\n",
    "y_train_labels=pd.read_csv(\"covid_tweet_competition_data/y_train_labels.csv\", squeeze=True)\n",
    "\n",
    "X_train.head()"
   ],
   "metadata": {
    "collapsed": false,
    "pycharm": {
     "name": "#%%\n"
    }
   }
  },
  {
   "cell_type": "markdown",
   "source": [
    "## 2. Write preprocessor function and preprocess data"
   ],
   "metadata": {
    "collapsed": false,
    "pycharm": {
     "name": "#%% md\n"
    }
   }
  },
  {
   "cell_type": "code",
   "execution_count": null,
   "outputs": [],
   "source": [
    "# Build a Document-Term Matrix (DTM) out of words in the training set\n",
    "# Remove stop words that occur too frequently to be useful, and\n",
    "# Use Term Frequency - Inverse Document Frequency (TF-IDF) formula to weight by how common words are generally\n",
    "\n",
    "from sklearn.feature_extraction.text import TfidfVectorizer\n",
    "tf_idf_vectorizer = TfidfVectorizer(stop_words='english')\n",
    "tfidf_simple = tf_idf_vectorizer.fit(X_train)"
   ],
   "metadata": {
    "collapsed": false,
    "pycharm": {
     "name": "#%%\n"
    }
   }
  },
  {
   "cell_type": "code",
   "execution_count": null,
   "outputs": [],
   "source": [
    "# Write function to transform data with preprocessor\n",
    "# New samples will be put into a DTM based on vocabularly from training set\n",
    "\n",
    "def preprocessor(data):\n",
    "    from sklearn.feature_extraction.text import TfidfVectorizer\n",
    "    new_tfidf_df = tfidf_simple.transform(data)\n",
    "    new_tfidf_df = new_tfidf_df.todense()\n",
    "    return new_tfidf_df\n",
    "\n",
    "print(preprocessor(X_train).shape)\n",
    "print(preprocessor(X_test).shape)"
   ],
   "metadata": {
    "collapsed": false,
    "pycharm": {
     "name": "#%%\n"
    }
   }
  },
  {
   "cell_type": "markdown",
   "source": [
    "##3. Fit model on preprocessed data and save preprocessor function and model"
   ],
   "metadata": {
    "collapsed": false,
    "pycharm": {
     "name": "#%% md\n"
    }
   }
  },
  {
   "cell_type": "code",
   "execution_count": null,
   "outputs": [],
   "source": [
    "from sklearn.ensemble import RandomForestClassifier\n",
    "\n",
    "model = RandomForestClassifier(n_estimators=100, max_depth=3, random_state=0)\n",
    "model.fit(preprocessor(X_train), y_train_labels) # Fitting to the training set.\n",
    "model.score(preprocessor(X_train), y_train_labels) # Fit score, 0-1 scale."
   ],
   "metadata": {
    "collapsed": false,
    "pycharm": {
     "name": "#%%\n"
    }
   }
  }
 ],
 "metadata": {
  "kernelspec": {
   "display_name": "Python 3",
   "language": "python",
   "name": "python3"
  },
  "language_info": {
   "codemirror_mode": {
    "name": "ipython",
    "version": 2
   },
   "file_extension": ".py",
   "mimetype": "text/x-python",
   "name": "python",
   "nbconvert_exporter": "python",
   "pygments_lexer": "ipython2",
   "version": "2.7.6"
  }
 },
 "nbformat": 4,
 "nbformat_minor": 0
}