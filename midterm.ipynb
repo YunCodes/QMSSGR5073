{
 "cells": [
  {
   "cell_type": "markdown",
   "metadata": {
    "collapsed": true,
    "pycharm": {
     "name": "#%% md\n"
    }
   },
   "source": [
    "# Midterm\n",
    "Machine Learning for the Social Sciences\n",
    "Prof. Michael Parrot\n",
    "29 October 2021\n",
    "Yun Choi"
   ]
  },
  {
   "cell_type": "code",
   "execution_count": 39,
   "outputs": [],
   "source": [
    "# Import packages\n",
    "import pandas as pd\n",
    "import numpy as np\n",
    "import matplotlib.pyplot as plt\n",
    "import seaborn as sns"
   ],
   "metadata": {
    "collapsed": false,
    "pycharm": {
     "name": "#%%\n"
    }
   }
  },
  {
   "cell_type": "markdown",
   "source": [
    "## 1.  Import the spam dataset and print the first six rows."
   ],
   "metadata": {
    "collapsed": false
   }
  },
  {
   "cell_type": "code",
   "execution_count": 57,
   "outputs": [
    {
     "data": {
      "text/plain": "   word_freq_make:  word_freq_address:  word_freq_all:  word_freq_3d:  \\\n0             0.00                0.64            0.64            0.0   \n1             0.21                0.28            0.50            0.0   \n2             0.06                0.00            0.71            0.0   \n3             0.00                0.00            0.00            0.0   \n4             0.00                0.00            0.00            0.0   \n5             0.00                0.00            0.00            0.0   \n\n   word_freq_our:  word_freq_over:  word_freq_remove:  word_freq_internet:  \\\n0            0.32             0.00               0.00                 0.00   \n1            0.14             0.28               0.21                 0.07   \n2            1.23             0.19               0.19                 0.12   \n3            0.63             0.00               0.31                 0.63   \n4            0.63             0.00               0.31                 0.63   \n5            1.85             0.00               0.00                 1.85   \n\n   word_freq_order:  word_freq_mail:  ...  char_freq_;:  char_freq_(:  \\\n0              0.00             0.00  ...          0.00         0.000   \n1              0.00             0.94  ...          0.00         0.132   \n2              0.64             0.25  ...          0.01         0.143   \n3              0.31             0.63  ...          0.00         0.137   \n4              0.31             0.63  ...          0.00         0.135   \n5              0.00             0.00  ...          0.00         0.223   \n\n   char_freq_[:  char_freq_!:  char_freq_$:  char_freq_#:  \\\n0           0.0         0.778         0.000         0.000   \n1           0.0         0.372         0.180         0.048   \n2           0.0         0.276         0.184         0.010   \n3           0.0         0.137         0.000         0.000   \n4           0.0         0.135         0.000         0.000   \n5           0.0         0.000         0.000         0.000   \n\n   capital_run_length_average:  capital_run_length_longest:  \\\n0                        3.756                           61   \n1                        5.114                          101   \n2                        9.821                          485   \n3                        3.537                           40   \n4                        3.537                           40   \n5                        3.000                           15   \n\n   capital_run_length_total:  spam  \n0                        278     1  \n1                       1028     1  \n2                       2259     1  \n3                        191     1  \n4                        191     1  \n5                         54     1  \n\n[6 rows x 58 columns]",
      "text/html": "<div>\n<style scoped>\n    .dataframe tbody tr th:only-of-type {\n        vertical-align: middle;\n    }\n\n    .dataframe tbody tr th {\n        vertical-align: top;\n    }\n\n    .dataframe thead th {\n        text-align: right;\n    }\n</style>\n<table border=\"1\" class=\"dataframe\">\n  <thead>\n    <tr style=\"text-align: right;\">\n      <th></th>\n      <th>word_freq_make:</th>\n      <th>word_freq_address:</th>\n      <th>word_freq_all:</th>\n      <th>word_freq_3d:</th>\n      <th>word_freq_our:</th>\n      <th>word_freq_over:</th>\n      <th>word_freq_remove:</th>\n      <th>word_freq_internet:</th>\n      <th>word_freq_order:</th>\n      <th>word_freq_mail:</th>\n      <th>...</th>\n      <th>char_freq_;:</th>\n      <th>char_freq_(:</th>\n      <th>char_freq_[:</th>\n      <th>char_freq_!:</th>\n      <th>char_freq_$:</th>\n      <th>char_freq_#:</th>\n      <th>capital_run_length_average:</th>\n      <th>capital_run_length_longest:</th>\n      <th>capital_run_length_total:</th>\n      <th>spam</th>\n    </tr>\n  </thead>\n  <tbody>\n    <tr>\n      <th>0</th>\n      <td>0.00</td>\n      <td>0.64</td>\n      <td>0.64</td>\n      <td>0.0</td>\n      <td>0.32</td>\n      <td>0.00</td>\n      <td>0.00</td>\n      <td>0.00</td>\n      <td>0.00</td>\n      <td>0.00</td>\n      <td>...</td>\n      <td>0.00</td>\n      <td>0.000</td>\n      <td>0.0</td>\n      <td>0.778</td>\n      <td>0.000</td>\n      <td>0.000</td>\n      <td>3.756</td>\n      <td>61</td>\n      <td>278</td>\n      <td>1</td>\n    </tr>\n    <tr>\n      <th>1</th>\n      <td>0.21</td>\n      <td>0.28</td>\n      <td>0.50</td>\n      <td>0.0</td>\n      <td>0.14</td>\n      <td>0.28</td>\n      <td>0.21</td>\n      <td>0.07</td>\n      <td>0.00</td>\n      <td>0.94</td>\n      <td>...</td>\n      <td>0.00</td>\n      <td>0.132</td>\n      <td>0.0</td>\n      <td>0.372</td>\n      <td>0.180</td>\n      <td>0.048</td>\n      <td>5.114</td>\n      <td>101</td>\n      <td>1028</td>\n      <td>1</td>\n    </tr>\n    <tr>\n      <th>2</th>\n      <td>0.06</td>\n      <td>0.00</td>\n      <td>0.71</td>\n      <td>0.0</td>\n      <td>1.23</td>\n      <td>0.19</td>\n      <td>0.19</td>\n      <td>0.12</td>\n      <td>0.64</td>\n      <td>0.25</td>\n      <td>...</td>\n      <td>0.01</td>\n      <td>0.143</td>\n      <td>0.0</td>\n      <td>0.276</td>\n      <td>0.184</td>\n      <td>0.010</td>\n      <td>9.821</td>\n      <td>485</td>\n      <td>2259</td>\n      <td>1</td>\n    </tr>\n    <tr>\n      <th>3</th>\n      <td>0.00</td>\n      <td>0.00</td>\n      <td>0.00</td>\n      <td>0.0</td>\n      <td>0.63</td>\n      <td>0.00</td>\n      <td>0.31</td>\n      <td>0.63</td>\n      <td>0.31</td>\n      <td>0.63</td>\n      <td>...</td>\n      <td>0.00</td>\n      <td>0.137</td>\n      <td>0.0</td>\n      <td>0.137</td>\n      <td>0.000</td>\n      <td>0.000</td>\n      <td>3.537</td>\n      <td>40</td>\n      <td>191</td>\n      <td>1</td>\n    </tr>\n    <tr>\n      <th>4</th>\n      <td>0.00</td>\n      <td>0.00</td>\n      <td>0.00</td>\n      <td>0.0</td>\n      <td>0.63</td>\n      <td>0.00</td>\n      <td>0.31</td>\n      <td>0.63</td>\n      <td>0.31</td>\n      <td>0.63</td>\n      <td>...</td>\n      <td>0.00</td>\n      <td>0.135</td>\n      <td>0.0</td>\n      <td>0.135</td>\n      <td>0.000</td>\n      <td>0.000</td>\n      <td>3.537</td>\n      <td>40</td>\n      <td>191</td>\n      <td>1</td>\n    </tr>\n    <tr>\n      <th>5</th>\n      <td>0.00</td>\n      <td>0.00</td>\n      <td>0.00</td>\n      <td>0.0</td>\n      <td>1.85</td>\n      <td>0.00</td>\n      <td>0.00</td>\n      <td>1.85</td>\n      <td>0.00</td>\n      <td>0.00</td>\n      <td>...</td>\n      <td>0.00</td>\n      <td>0.223</td>\n      <td>0.0</td>\n      <td>0.000</td>\n      <td>0.000</td>\n      <td>0.000</td>\n      <td>3.000</td>\n      <td>15</td>\n      <td>54</td>\n      <td>1</td>\n    </tr>\n  </tbody>\n</table>\n<p>6 rows × 58 columns</p>\n</div>"
     },
     "execution_count": 57,
     "metadata": {},
     "output_type": "execute_result"
    }
   ],
   "source": [
    "# Import spam dataset\n",
    "raw_spam_data=pd.read_csv(\"/Volumes/Yun Choi/columbia_university/coursework/GR5073/midterm/spam_dataset.csv\")\n",
    "# Print first six rows\n",
    "raw_spam_data.head(6)"
   ],
   "metadata": {
    "collapsed": false,
    "pycharm": {
     "name": "#%%\n"
    }
   }
  },
  {
   "cell_type": "markdown",
   "source": [
    "## 2.  Read through the documentation of the original dataset here: http://archive.ics.uci.edu/ml/machine-learning-databases/spambase/spambase.names. The dependent variable is \"spam\" where one indicates that an email is spam and zero otherwise. Which three variables in the dataset do you think will be important predictors in a model of spam? Why?\n"
   ],
   "metadata": {
    "collapsed": false
   }
  },
  {
   "cell_type": "code",
   "execution_count": 41,
   "outputs": [
    {
     "data": {
      "text/plain": "Index(['word_freq_make:', 'word_freq_address:', 'word_freq_all:',\n       'word_freq_3d:', 'word_freq_our:', 'word_freq_over:',\n       'word_freq_remove:', 'word_freq_internet:', 'word_freq_order:',\n       'word_freq_mail:', 'word_freq_receive:', 'word_freq_will:',\n       'word_freq_people:', 'word_freq_report:', 'word_freq_addresses:',\n       'word_freq_free:', 'word_freq_business:', 'word_freq_email:',\n       'word_freq_you:', 'word_freq_credit:', 'word_freq_your:',\n       'word_freq_font:', 'word_freq_000:', 'word_freq_money:',\n       'word_freq_hp:', 'word_freq_hpl:', 'word_freq_george:',\n       'word_freq_650:', 'word_freq_lab:', 'word_freq_labs:',\n       'word_freq_telnet:', 'word_freq_857:', 'word_freq_data:',\n       'word_freq_415:', 'word_freq_85:', 'word_freq_technology:',\n       'word_freq_1999:', 'word_freq_parts:', 'word_freq_pm:',\n       'word_freq_direct:', 'word_freq_cs:', 'word_freq_meeting:',\n       'word_freq_original:', 'word_freq_project:', 'word_freq_re:',\n       'word_freq_edu:', 'word_freq_table:', 'word_freq_conference:',\n       'char_freq_;:', 'char_freq_(:', 'char_freq_[:', 'char_freq_!:',\n       'char_freq_$:', 'char_freq_#:', 'capital_run_length_average:',\n       'capital_run_length_longest:', 'capital_run_length_total:', 'spam'],\n      dtype='object')"
     },
     "execution_count": 41,
     "metadata": {},
     "output_type": "execute_result"
    }
   ],
   "source": [
    "# Print all column names\n",
    "raw_spam_data.columns"
   ],
   "metadata": {
    "collapsed": false,
    "pycharm": {
     "name": "#%%\n"
    }
   }
  },
  {
   "cell_type": "markdown",
   "source": [
    "I think 'word_feq_free:', 'word_freq_project:', and 'capital_run_length' are among the most important predictors.\n",
    "\n",
    "1. 'word_freq_free:': Percentage of the word 'free' out of all words in an email\n",
    "2. 'word_freq_project:': Percentage of the word 'project' out of all words in an email\n",
    "3. 'capital_run_length_average:': Average length of uninterrupted sequences of capital letters\n",
    "\n",
    "First, I think 'word_freq_free' is important because many unsolicited commercial emails claim that their customers will get a great deal by getting 'free' extra goods or services. Second, I think 'word_freq_project:' is important because the absence of the word 'project' could well predict whether the email is spam, as the word is often used in daily life but rarely used in a commercial setting. Third, I think 'capital_run_length_average:' is important because many unsolicited emails employ various strategies to grab the readers' attention, and the overuse of capital letters is among them."
   ],
   "metadata": {
    "collapsed": false
   }
  },
  {
   "cell_type": "markdown",
   "source": [
    "## 3.  Visualize the univariate distribution of each of the variables in the previous question."
   ],
   "metadata": {
    "collapsed": false
   }
  },
  {
   "cell_type": "code",
   "execution_count": 42,
   "outputs": [
    {
     "data": {
      "text/plain": "<Figure size 432x288 with 1 Axes>",
      "image/png": "[encoded data removed]"
     },
     "metadata": {
      "needs_background": "light"
     },
     "output_type": "display_data"
    }
   ],
   "source": [
    "# Create a histogram of potential explanatory variable #1: 'word_freq_free:'\n",
    "sns.histplot(raw_spam_data['word_freq_free:'], binwidth=2)\n",
    "plt.title(\"% of Word 'Free'\")\n",
    "plt.ylabel(\"Email Count\")\n",
    "plt.xlabel(\"% of Word 'Free'\");"
   ],
   "metadata": {
    "collapsed": false,
    "pycharm": {
     "name": "#%%\n"
    }
   }
  },
  {
   "cell_type": "code",
   "execution_count": 43,
   "outputs": [
    {
     "data": {
      "text/plain": "<Figure size 432x288 with 1 Axes>",
      "image/png": "[encoded data removed]"
     },
     "metadata": {
      "needs_background": "light"
     },
     "output_type": "display_data"
    }
   ],
   "source": [
    "# Create a histogram of potential explanatory variable #2: 'word_freq_project:'\n",
    "sns.histplot(raw_spam_data['word_freq_project:'], binwidth=2)\n",
    "plt.title(\"% of Word 'Project'\")\n",
    "plt.ylabel(\"Email Count\")\n",
    "plt.xlabel(\"% of Word 'Project'\");"
   ],
   "metadata": {
    "collapsed": false,
    "pycharm": {
     "name": "#%%\n"
    }
   }
  },
  {
   "cell_type": "code",
   "execution_count": 44,
   "outputs": [
    {
     "data": {
      "text/plain": "<Figure size 432x288 with 1 Axes>",
      "image/png": "[encoded data removed]"
     },
     "metadata": {
      "needs_background": "light"
     },
     "output_type": "display_data"
    }
   ],
   "source": [
    "# Create a histogram of potential explanatory variable #3: 'capital_run_length_average:'\n",
    "sns.histplot(raw_spam_data['capital_run_length_average:'], log_scale=True)\n",
    "plt.title(\"Avg. Length of Uninterrupted CAP Letters\")\n",
    "plt.ylabel(\"Email Count\")\n",
    "plt.xlabel(\"Avg. Length of Uninterrupted CAP Letters\");"
   ],
   "metadata": {
    "collapsed": false,
    "pycharm": {
     "name": "#%%\n"
    }
   }
  },
  {
   "cell_type": "markdown",
   "source": [
    "## 4. Name each of the supervised learning models that we have learned thus far that are used to predict dependent variables like \"spam\".\n",
    "This project is building a spam classifier with continuous explanatory features. Among the algorithms we have learned so far, ones that can perform classification with continuous explanatory features are KNeighbors Classifier, (penalized and non-penalized) Logistic Regression, SVM, Decision Tree, Bagged Tree, and Random Forest."
   ],
   "metadata": {
    "collapsed": false
   }
  },
  {
   "cell_type": "markdown",
   "source": [
    "## 5. Describe the importance of training and test data. Why do we separate data into these subsets?\n",
    "Machine learning models are primarily for prediction. After building a model, we would want to assess each model's performance before using it. We can do so by giving unforeseen data and seeing how accurate its prediction is. If we use the whole dataset to train the model, there would be no unforeseen data left to test the model's prediction performance. Testing the model based on a portion of the dataset that was used to build it will not yield an accurate assessment of the model, as the model remembers the data. Therefore, it is crucial to split the whole dataset into training and test data before building the model."
   ],
   "metadata": {
    "collapsed": false,
    "pycharm": {
     "name": "#%% md\n"
    }
   }
  },
  {
   "cell_type": "markdown",
   "source": [
    "## 6. What is k-fold cross validation and what do we use it for?\n",
    "K-fold cross-validation partitions the whole dataset into k parts of equal size, and trains a series of models based on k different training and test set pairs. For example, if you perform 5-fold cross-validation, the whole dataset will be split into five parts, and the first part will be used to test the first version. And then, the second part will be used to test the second version, and so on.\n",
    "\n",
    "K-fold is one of the cross-validation strategies developed to evaluate a machine learning model more stably through resampling. A model is built with train data, so it is sensitive to how you split the data. K-fold cross-validation allows a more thorough model evaluation by training a k-series of models with k different splits of the whole dataset."
   ],
   "metadata": {
    "collapsed": false
   }
  },
  {
   "cell_type": "markdown",
   "source": [
    "## 7. How is k-fold cross validation different from stratified k-fold cross validation?\n",
    "Simple k-fold cross-validation splits the whole data into k folds starting with the first one-k-th part of the data. If observations are in a random order, simple k-fold cross-validation works. But if observations are ordered by a certain value such that the leading, middle, and tailing parts of the dataset differ vastly, k-fold cross validation will not be useful. That's when stratified k-fold gets useful. Stratified k-fold splits the data into k parts such that the composition of each part is representative of the whole dataset."
   ],
   "metadata": {
    "collapsed": false
   }
  },
  {
   "cell_type": "markdown",
   "source": [
    "## 8-11. Choose one model from question four. Split the data into training and test subsets. Build a model with the three variables in the dataset that you think will be good predictors of \"spam\". Describe why you chose any particular parameters for your model (e.g.- if you used KNN how did you decide to choose a specific value for k). Run the model and evaluate prediction error in two ways: A) On test data directly and B) using k-fold cross-validation. Did this model predict test data better than your previous model?\n",
    "For Question 8-11, I build, tune, and compare cross-validation and test scores for four models at once."
   ],
   "metadata": {
    "collapsed": false
   }
  },
  {
   "cell_type": "code",
   "execution_count": 58,
   "outputs": [
    {
     "name": "stdout",
     "output_type": "stream",
     "text": [
      "0    1\n",
      "1    1\n",
      "2    1\n",
      "3    1\n",
      "4    1\n",
      "Name: spam, dtype: int64\n"
     ]
    },
    {
     "data": {
      "text/plain": "   word_freq_free:  word_freq_project:  capital_run_length_average:\n0             0.32                 0.0                        3.756\n1             0.14                 0.0                        5.114\n2             0.06                 0.0                        9.821\n3             0.31                 0.0                        3.537\n4             0.31                 0.0                        3.537",
      "text/html": "<div>\n<style scoped>\n    .dataframe tbody tr th:only-of-type {\n        vertical-align: middle;\n    }\n\n    .dataframe tbody tr th {\n        vertical-align: top;\n    }\n\n    .dataframe thead th {\n        text-align: right;\n    }\n</style>\n<table border=\"1\" class=\"dataframe\">\n  <thead>\n    <tr style=\"text-align: right;\">\n      <th></th>\n      <th>word_freq_free:</th>\n      <th>word_freq_project:</th>\n      <th>capital_run_length_average:</th>\n    </tr>\n  </thead>\n  <tbody>\n    <tr>\n      <th>0</th>\n      <td>0.32</td>\n      <td>0.0</td>\n      <td>3.756</td>\n    </tr>\n    <tr>\n      <th>1</th>\n      <td>0.14</td>\n      <td>0.0</td>\n      <td>5.114</td>\n    </tr>\n    <tr>\n      <th>2</th>\n      <td>0.06</td>\n      <td>0.0</td>\n      <td>9.821</td>\n    </tr>\n    <tr>\n      <th>3</th>\n      <td>0.31</td>\n      <td>0.0</td>\n      <td>3.537</td>\n    </tr>\n    <tr>\n      <th>4</th>\n      <td>0.31</td>\n      <td>0.0</td>\n      <td>3.537</td>\n    </tr>\n  </tbody>\n</table>\n</div>"
     },
     "execution_count": 58,
     "metadata": {},
     "output_type": "execute_result"
    }
   ],
   "source": [
    "# Separate X and y data\n",
    "y = raw_spam_data['spam']\n",
    "# Choose only three variables of my interest\n",
    "X = raw_spam_data.loc[:, ['word_freq_free:', 'word_freq_project:', 'capital_run_length_average:']]\n",
    "\n",
    "print(y[0:5])\n",
    "X.head()"
   ],
   "metadata": {
    "collapsed": false,
    "pycharm": {
     "name": "#%%\n"
    }
   }
  },
  {
   "cell_type": "code",
   "execution_count": 46,
   "outputs": [],
   "source": [
    "# Split data into training and test subsets\n",
    "from sklearn.model_selection import train_test_split\n",
    "\n",
    "# Split data in training and test sets\n",
    "X_train, X_test, y_train, y_test = train_test_split(X, y, random_state=42)\n",
    "\n",
    "# Import models to compare and functions to use\n",
    "from sklearn.neighbors import KNeighborsClassifier\n",
    "from sklearn.linear_model import LogisticRegression\n",
    "from sklearn.svm import SVC\n",
    "from sklearn.ensemble import RandomForestClassifier\n",
    "from sklearn.preprocessing import StandardScaler\n",
    "from sklearn.model_selection import cross_val_score\n",
    "from sklearn.model_selection import RepeatedKFold\n",
    "from sklearn.model_selection import StratifiedKFold\n",
    "from sklearn.model_selection import KFold\n",
    "from sklearn.model_selection import GridSearchCV"
   ],
   "metadata": {
    "collapsed": false,
    "pycharm": {
     "name": "#%%\n"
    }
   }
  },
  {
   "cell_type": "code",
   "execution_count": 47,
   "outputs": [],
   "source": [
    "# Set default models to compare\n",
    "knn_classifier = KNeighborsClassifier()\n",
    "logistic_regression = LogisticRegression(penalty = 'none', solver = 'newton-cg', max_iter = 100000, tol=0.1, random_state = 42)\n",
    "support_vector_classifier_linear = SVC(kernel='linear', random_state=42)\n",
    "support_vector_classifier_rbf = SVC(kernel='rbf', random_state=42)\n",
    "random_forest_classifier = RandomForestClassifier(random_state=42)"
   ],
   "metadata": {
    "collapsed": false,
    "pycharm": {
     "name": "#%%\n"
    }
   }
  },
  {
   "cell_type": "code",
   "execution_count": 48,
   "outputs": [],
   "source": [
    "# Set up cross validation strategies\n",
    "kfold = KFold(n_splits=5)\n",
    "skfold = StratifiedKFold(n_splits=5, shuffle=True, random_state=42)"
   ],
   "metadata": {
    "collapsed": false,
    "pycharm": {
     "name": "#%%\n"
    }
   }
  },
  {
   "cell_type": "code",
   "execution_count": 49,
   "outputs": [],
   "source": [
    "# Standardize data with StandardScaler()\n",
    "scaler = StandardScaler()\n",
    "scaler.fit(X_train)\n",
    "X_train_scaled = scaler.transform(X_train)\n",
    "X_test_scaled = scaler.transform(X_test)"
   ],
   "metadata": {
    "collapsed": false,
    "pycharm": {
     "name": "#%%\n"
    }
   }
  },
  {
   "cell_type": "code",
   "execution_count": 50,
   "outputs": [
    {
     "data": {
      "text/plain": "[0.0001, 0.001, 0.01, 0.1, 1.0, 10.0, 100.0, 1000.0]"
     },
     "execution_count": 50,
     "metadata": {},
     "output_type": "execute_result"
    }
   ],
   "source": [
    "# Create a geometric progression to feed in as alphas and Cs\n",
    "a = 0.0001\n",
    "r = 10\n",
    "length = 8\n",
    "alpha_C_geometric = [a * r ** (n - 1) for n in range(1, length + 1)]\n",
    "alpha_C_geometric"
   ],
   "metadata": {
    "collapsed": false,
    "pycharm": {
     "name": "#%%\n"
    }
   }
  },
  {
   "cell_type": "code",
   "execution_count": 51,
   "outputs": [],
   "source": [
    "# models to compare\n",
    "models_for_gridsearch = {\n",
    "    'KNeighborsClassifier': knn_classifier,\n",
    "    'LogisticRegression': logistic_regression,\n",
    "    'SupportVectorClassifier_Linear': support_vector_classifier_linear,\n",
    "    'SupportVectorClassifier_RBF': support_vector_classifier_rbf,\n",
    "    'RandomForestClassifier': random_forest_classifier\n",
    "}\n",
    "\n",
    "# optimisation hyperparameters for each of the above models\n",
    "params_for_gridsearch = {\n",
    "    'KNeighborsClassifier':{\n",
    "        'n_neighbors': np.arange(1, 15, 2),\n",
    "        'weights': ['uniform', 'distance']\n",
    "    },\n",
    "    'LogisticRegression':{\n",
    "        'solver': ['newton-cg', 'lbfgs', 'sag', 'saga']\n",
    "    },\n",
    "    'SupportVectorClassifier_Linear':{\n",
    "        'C': alpha_C_geometric,\n",
    "    },\n",
    "    'SupportVectorClassifier_RBF':{\n",
    "        'C': alpha_C_geometric,\n",
    "        'gamma': alpha_C_geometric\n",
    "    },\n",
    "    'RandomForestClassifier':{\n",
    "        'n_estimators': [100, 150, 200],\n",
    "        'max_depth': [5, 8, 10],\n",
    "        'max_features': [1, 2, 3]\n",
    "    }\n",
    "}\n",
    "\n",
    "def model_compare(X_train_scaled, y_train):\n",
    "    for name in models_for_gridsearch.keys():\n",
    "        est = models_for_gridsearch[name]\n",
    "        est_params = params_for_gridsearch[name]\n",
    "        gscv = GridSearchCV(estimator=est, param_grid=est_params, cv=kfold)\n",
    "        gscv.fit(X_train_scaled, y_train)\n",
    "        print(\"\")\n",
    "        print(\"Original Model:\", est)\n",
    "        print(\"  original test-set score: {:.3f}\".format(est.fit(X_train_scaled, y_train).score(X_test_scaled, y_test)))\n",
    "        print(\" Tuning Parameters: {}\".format(gscv.best_params_))\n",
    "        print(\"   best mean cross-validation score: {:.3f}\".format(gscv.best_score_))\n",
    "        print(\"   test-set score: {:.3f}\".format(gscv.score(X_test_scaled, y_test)))"
   ],
   "metadata": {
    "collapsed": false,
    "pycharm": {
     "name": "#%%\n"
    }
   }
  },
  {
   "cell_type": "code",
   "execution_count": 52,
   "outputs": [
    {
     "name": "stdout",
     "output_type": "stream",
     "text": [
      "\n",
      "Original Model: KNeighborsClassifier()\n",
      "  original test-set score: 0.798\n",
      " Tuning Parameters: {'n_neighbors': 7, 'weights': 'uniform'}\n",
      "   best mean cross-validation score: 0.809\n",
      "   test-set score: 0.797\n",
      "\n",
      "Original Model: LogisticRegression(max_iter=100000, penalty='none', random_state=42,\n",
      "                   solver='newton-cg', tol=0.1)\n",
      "  original test-set score: 0.751\n",
      " Tuning Parameters: {'solver': 'newton-cg'}\n",
      "   best mean cross-validation score: 0.772\n",
      "   test-set score: 0.751\n",
      "\n",
      "Original Model: SVC(kernel='linear', random_state=42)\n",
      "  original test-set score: 0.756\n",
      " Tuning Parameters: {'C': 10.0}\n",
      "   best mean cross-validation score: 0.781\n",
      "   test-set score: 0.758\n",
      "\n",
      "Original Model: SVC(random_state=42)\n",
      "  original test-set score: 0.779\n",
      " Tuning Parameters: {'C': 10.0, 'gamma': 100.0}\n",
      "   best mean cross-validation score: 0.808\n",
      "   test-set score: 0.776\n",
      "\n",
      "Original Model: RandomForestClassifier(random_state=42)\n",
      "  original test-set score: 0.788\n",
      " Tuning Parameters: {'max_depth': 8, 'max_features': 1, 'n_estimators': 200}\n",
      "   best mean cross-validation score: 0.819\n",
      "   test-set score: 0.804\n"
     ]
    }
   ],
   "source": [
    "model_compare(X_train_scaled, y_train)"
   ],
   "metadata": {
    "collapsed": false,
    "pycharm": {
     "name": "#%%\n"
    }
   }
  },
  {
   "cell_type": "markdown",
   "source": [
    "The result above shows (1) original model parameters, (2) original test score, (3) my best parameters for tuning, (4) mean cross-validation score after tuning, and (5) test-set score after tuning, for four models below.\n",
    "\n",
    "**MODEL 1: KNeighbor Classifier**\n",
    "- Tuning parameters: {'n_neighbors': 7, 'weights': 'uniform'}\n",
    "- I change 'n_neighbors' to '7' so that the model uses the seven nearest neighbors and weighting them equally for prediction. I select these parameters after trying every odd number between 1 and 15 for 'n_neighbors' and 'weights' options with GridSearchCV, which in turn has found this combination of 'n_neighbor' and 'weights' values yields the best prediction performance.\n",
    "\n",
    "**MODEL 2: Logistic Regression**\n",
    "Logistic regression has no parameter to tune. I tried different solvers with GridSearchCV, but my original solver - newton-cg - has turned out to be the best one.\n",
    "\n",
    "**MODEL 3: Support Vector Classfier**\n",
    "- Tuning parameters: {kernel: 'rbf', 'C': 10.0, 'gamma': 100.0}\n",
    "- I have tried 'linear' and 'rbf' kernels, and a series of powers of 10 for C and gamma with GridSearchCV. Subsequently, I have learned choosing 'rbf' kernel and '10' and '100' for the C and gamma values, respectively, brings out the best result. The best test score I could get with the linear kernel was 0.758. Switching to the rbf kernel has improved the test score to 0.776.\n",
    "\n",
    "**MODEL 4: Random Forest Classifier**\n",
    "- Tuning parameters: {'max_depth': 8, 'max_features': 1, 'n_estimators': 200}\n",
    "- I change the maximum depth of the tree, the number of features to consider, and the number of trees in the forest, to '8', '1', and '200', respectively, as I have learned that this particular combination of parameters improve the test-set score from 0.788 to 0.804.\n",
    "\n",
    "My best models are Random Forest Classifier, KNeighbor Classifier, SVC, and Logistic Regression in that order because their test scores are high in that order."
   ],
   "metadata": {
    "collapsed": false
   }
  },
  {
   "cell_type": "markdown",
   "source": [
    "## 12. Now rerun your best model from questions 8 through 11, but this time add three new variables to the model that you think will increase prediction accuracy. Did this model predict test data better than your previous models?\n",
    "## 13. Rerun all your other models with this final set of six variables, evaluate prediction error, and choose a final model. Why did you select this model among all of the models that you ran?\n",
    "Like above, for Question 12-13, I compare all four models with the best parameters at once with the codes below.\n",
    "\n",
    "I added 'word_freq_order:', 'word_freq_credit:', and 'word_freq_meeting:' variables to the X data."
   ],
   "metadata": {
    "collapsed": false
   }
  },
  {
   "cell_type": "code",
   "execution_count": 53,
   "outputs": [],
   "source": [
    "# Save best parameters for each model\n",
    "best_knn = KNeighborsClassifier(n_neighbors=7, weights='uniform')\n",
    "best_lr = LogisticRegression(max_iter=100000, penalty='none', random_state=42,\n",
    "                           solver='newton-cg', tol=0.1)\n",
    "best_svc = SVC(kernel='rbf', C=10, gamma=100, random_state=42)\n",
    "best_rf = RandomForestClassifier(max_depth=8, max_features=1, n_estimators=200, random_state=42)"
   ],
   "metadata": {
    "collapsed": false,
    "pycharm": {
     "name": "#%%\n"
    }
   }
  },
  {
   "cell_type": "code",
   "execution_count": 54,
   "outputs": [
    {
     "name": "stdout",
     "output_type": "stream",
     "text": [
      "0    1\n",
      "1    1\n",
      "2    1\n",
      "3    1\n",
      "4    1\n",
      "Name: spam, dtype: int64\n"
     ]
    },
    {
     "data": {
      "text/plain": "   word_freq_free:  word_freq_project:  capital_run_length_average:  \\\n0             0.32                 0.0                        3.756   \n1             0.14                 0.0                        5.114   \n2             0.06                 0.0                        9.821   \n3             0.31                 0.0                        3.537   \n4             0.31                 0.0                        3.537   \n\n   word_freq_order:  word_freq_credit:  word_freq_meeting:  \n0              0.00               0.00                 0.0  \n1              0.00               0.00                 0.0  \n2              0.64               0.32                 0.0  \n3              0.31               0.00                 0.0  \n4              0.31               0.00                 0.0  ",
      "text/html": "<div>\n<style scoped>\n    .dataframe tbody tr th:only-of-type {\n        vertical-align: middle;\n    }\n\n    .dataframe tbody tr th {\n        vertical-align: top;\n    }\n\n    .dataframe thead th {\n        text-align: right;\n    }\n</style>\n<table border=\"1\" class=\"dataframe\">\n  <thead>\n    <tr style=\"text-align: right;\">\n      <th></th>\n      <th>word_freq_free:</th>\n      <th>word_freq_project:</th>\n      <th>capital_run_length_average:</th>\n      <th>word_freq_order:</th>\n      <th>word_freq_credit:</th>\n      <th>word_freq_meeting:</th>\n    </tr>\n  </thead>\n  <tbody>\n    <tr>\n      <th>0</th>\n      <td>0.32</td>\n      <td>0.0</td>\n      <td>3.756</td>\n      <td>0.00</td>\n      <td>0.00</td>\n      <td>0.0</td>\n    </tr>\n    <tr>\n      <th>1</th>\n      <td>0.14</td>\n      <td>0.0</td>\n      <td>5.114</td>\n      <td>0.00</td>\n      <td>0.00</td>\n      <td>0.0</td>\n    </tr>\n    <tr>\n      <th>2</th>\n      <td>0.06</td>\n      <td>0.0</td>\n      <td>9.821</td>\n      <td>0.64</td>\n      <td>0.32</td>\n      <td>0.0</td>\n    </tr>\n    <tr>\n      <th>3</th>\n      <td>0.31</td>\n      <td>0.0</td>\n      <td>3.537</td>\n      <td>0.31</td>\n      <td>0.00</td>\n      <td>0.0</td>\n    </tr>\n    <tr>\n      <th>4</th>\n      <td>0.31</td>\n      <td>0.0</td>\n      <td>3.537</td>\n      <td>0.31</td>\n      <td>0.00</td>\n      <td>0.0</td>\n    </tr>\n  </tbody>\n</table>\n</div>"
     },
     "execution_count": 54,
     "metadata": {},
     "output_type": "execute_result"
    }
   ],
   "source": [
    "# Add three more variables - 'word_freq_order:', 'word_freq_credit:', 'word_freq_meeting:' - to X data\n",
    "# Separate X and y data\n",
    "new_y = raw_spam_data['spam']\n",
    "# Choose only three variables of my interest\n",
    "new_X = raw_spam_data.loc[:, ['word_freq_free:', 'word_freq_project:', 'capital_run_length_average:',\n",
    "                          'word_freq_order:', 'word_freq_credit:', 'word_freq_meeting:']]\n",
    "\n",
    "print(new_y[0:5])\n",
    "new_X.head()"
   ],
   "metadata": {
    "collapsed": false,
    "pycharm": {
     "name": "#%%\n"
    }
   }
  },
  {
   "cell_type": "code",
   "execution_count": 55,
   "outputs": [],
   "source": [
    "# Split new data in training and test sets\n",
    "new_X_train, new_X_test, new_y_train, new_y_test = train_test_split(new_X, new_y, random_state=42)\n",
    "\n",
    "# Standardize new data with StandardScaler()\n",
    "scaler = StandardScaler()\n",
    "scaler.fit(new_X_train)\n",
    "new_X_train_scaled = scaler.transform(new_X_train)\n",
    "new_X_test_scaled = scaler.transform(new_X_test)"
   ],
   "metadata": {
    "collapsed": false,
    "pycharm": {
     "name": "#%%\n"
    }
   }
  },
  {
   "cell_type": "code",
   "execution_count": 56,
   "outputs": [
    {
     "name": "stdout",
     "output_type": "stream",
     "text": [
      "\n",
      "Model: RandomForestClassifier(max_depth=8, max_features=1, n_estimators=200,\n",
      "                       random_state=42)\n",
      "  previous test-set score: 0.804\n",
      "  new test-set score: 0.818\n",
      "\n",
      "Model: KNeighborsClassifier(n_neighbors=7)\n",
      "  previous test-set score: 0.797\n",
      "  new test-set score: 0.820\n",
      "\n",
      "Model: SVC(C=10, gamma=100, random_state=42)\n",
      "  previous test-set score: 0.776\n",
      "  new test-set score: 0.795\n",
      "\n",
      "Model: LogisticRegression(max_iter=100000, penalty='none', random_state=42,\n",
      "                   solver='newton-cg', tol=0.1)\n",
      "  previous test-set score: 0.751\n",
      "  new test-set score: 0.778\n"
     ]
    }
   ],
   "source": [
    "# Re-compare models with standardized data\n",
    "best_models = [best_rf, best_knn, best_svc, best_lr]\n",
    "for i in best_models:\n",
    "    print(\"\")\n",
    "    print(\"Model:\", i)\n",
    "    print(\"  previous test-set score: {:.3f}\".format(i.fit(X_train_scaled, y_train).score(X_test_scaled, y_test)))\n",
    "    print(\"  new test-set score: {:.3f}\".format(i.fit(new_X_train_scaled, new_y_train).score(new_X_test_scaled, new_y_test)))"
   ],
   "metadata": {
    "collapsed": false,
    "pycharm": {
     "name": "#%%\n"
    }
   }
  },
  {
   "cell_type": "markdown",
   "source": [
    "The result above shows how adding the three new variables has changed the test-set score of the four models.\n",
    "\n",
    "Adding the three new variables improved each model's prediction accuracy, although the magnitude of improvement varies by model. LogisticRegression and KNeighborsClassifier have seen a greater improvement than SVC and RandomForestClassifier. Now KNeighbors Classifier has a higher test score than my previous best model Random Forest Classifier. For that reason, I will choose KNeighbors Classifier as my final best model.\n",
    "\n",
    "From this exercise, I have learned that simply adding new variables to X data, without tuning parameters again based on the updated data, can improve model performance."
   ],
   "metadata": {
    "collapsed": false
   }
  },
  {
   "cell_type": "markdown",
   "source": [
    "## 14. What variable that currently is not in your model, if included, would be likely to increase your final model's predictive power?  For this answer try to speculate about a variable outside the variables available in the data that would improve you model.\n",
    "I think the total number of emojis used in the mail would be a great predictor for spam. I went into my spam mailbox to answer this question, and found that many unsolicited commercial emails I have received have emojis, which I can never see from my correspondence with someone I know. Therefore, how many emojis are used in an email could be a great predictor."
   ],
   "metadata": {
    "collapsed": false
   }
  },
  {
   "cell_type": "markdown",
   "source": [
    "## 15. Lastly, you have listed each of the models that we have learned to use to predict dependent variables like spam. List each model we have focused on in class thus far that you could use to evaluate data with a continuous dependent variable.\n",
    "Except for (penalized and non-penalized) Logistic Regression, all algorithms we have learned thus far can be used as a regressor. Those include KNeighbors Regressor, Linear Regression, Ridge, Lasso, SVM, Decision Tree, Bagged Tree, and Random Forest Regressor. However, many of these algorithms require continuous explanatory variables. Therefore, when choosing a model, we should also care whether explanatory variables are continuous."
   ],
   "metadata": {
    "collapsed": false,
    "pycharm": {
     "name": "#%% md\n"
    }
   }
  }
 ],
 "metadata": {
  "kernelspec": {
   "display_name": "Python 3",
   "language": "python",
   "name": "python3"
  },
  "language_info": {
   "codemirror_mode": {
    "name": "ipython",
    "version": 2
   },
   "file_extension": ".py",
   "mimetype": "text/x-python",
   "name": "python",
   "nbconvert_exporter": "python",
   "pygments_lexer": "ipython2",
   "version": "2.7.6"
  }
 },
 "nbformat": 4,
 "nbformat_minor": 0
}