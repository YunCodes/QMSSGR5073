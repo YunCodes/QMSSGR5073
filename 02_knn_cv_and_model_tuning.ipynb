{
 "nbformat": 4,
 "nbformat_minor": 0,
 "metadata": {
  "kernelspec": {
   "display_name": "Python 3",
   "language": "python",
   "name": "python3"
  },
  "language_info": {
   "codemirror_mode": {
    "name": "ipython",
    "version": 3
   },
   "file_extension": ".py",
   "mimetype": "text/x-python",
   "name": "python",
   "nbconvert_exporter": "python",
   "pygments_lexer": "ipython3",
   "version": "3.6.5"
  },
  "colab": {
   "name": "Knn_CV_and_Model_Tuning.ipynb",
   "provenance": []
  }
 },
 "cells": [
  {
   "cell_type": "markdown",
   "metadata": {
    "id": "sJ0hh6p2TpeL"
   },
   "source": [
    "# K Nearest Neighbors Classifier\n",
    "\n",
    "**Basic steps:**\n",
    "\n",
    "1. Import the learning algorithm\n",
    "2. Instantiate the model (choose hyper-parameters)\n",
    "3. Learn the model\n",
    "4. Predict the response"
   ]
  },
  {
   "cell_type": "markdown",
   "metadata": {
    "id": "3SeTJC5xTpeS"
   },
   "source": [
    "# Get Example Data"
   ]
  },
  {
   "cell_type": "code",
   "metadata": {
    "id": "wdPFtSsUTpeT",
    "colab": {
     "base_uri": "https://localhost:8080/",
     "height": 206
    },
    "outputId": "2fe02f23-a3c2-47a2-89f0-0fff711b6bae"
   },
   "source": [
    "# target = InMichelin, whether or not a restaurant is in the Michelin guide\n",
    "import pandas as pd\n",
    "data = pd.read_csv(\"http://gattonweb.uky.edu/sheather/book/docs/datasets/MichelinNY.csv\" , encoding=\"latin_1\")\n",
    "data.head()"
   ],
   "execution_count": 1,
   "outputs": [
    {
     "data": {
      "text/plain": "   InMichelin Restaurant Name  Food  Decor  Service  Price\n0           0  14 Wall Street    19     20       19     50\n1           0             212    17     17       16     43\n2           0        26 Seats    23     17       21     35\n3           1              44    19     23       16     52\n4           0               A    23     12       19     24",
      "text/html": "<div>\n<style scoped>\n    .dataframe tbody tr th:only-of-type {\n        vertical-align: middle;\n    }\n\n    .dataframe tbody tr th {\n        vertical-align: top;\n    }\n\n    .dataframe thead th {\n        text-align: right;\n    }\n</style>\n<table border=\"1\" class=\"dataframe\">\n  <thead>\n    <tr style=\"text-align: right;\">\n      <th></th>\n      <th>InMichelin</th>\n      <th>Restaurant Name</th>\n      <th>Food</th>\n      <th>Decor</th>\n      <th>Service</th>\n      <th>Price</th>\n    </tr>\n  </thead>\n  <tbody>\n    <tr>\n      <th>0</th>\n      <td>0</td>\n      <td>14 Wall Street</td>\n      <td>19</td>\n      <td>20</td>\n      <td>19</td>\n      <td>50</td>\n    </tr>\n    <tr>\n      <th>1</th>\n      <td>0</td>\n      <td>212</td>\n      <td>17</td>\n      <td>17</td>\n      <td>16</td>\n      <td>43</td>\n    </tr>\n    <tr>\n      <th>2</th>\n      <td>0</td>\n      <td>26 Seats</td>\n      <td>23</td>\n      <td>17</td>\n      <td>21</td>\n      <td>35</td>\n    </tr>\n    <tr>\n      <th>3</th>\n      <td>1</td>\n      <td>44</td>\n      <td>19</td>\n      <td>23</td>\n      <td>16</td>\n      <td>52</td>\n    </tr>\n    <tr>\n      <th>4</th>\n      <td>0</td>\n      <td>A</td>\n      <td>23</td>\n      <td>12</td>\n      <td>19</td>\n      <td>24</td>\n    </tr>\n  </tbody>\n</table>\n</div>"
     },
     "execution_count": 1,
     "metadata": {},
     "output_type": "execute_result"
    }
   ]
  },
  {
   "cell_type": "code",
   "metadata": {
    "scrolled": true,
    "id": "wJ5GnvY-Tpeb",
    "colab": {
     "base_uri": "https://localhost:8080/",
     "height": 206
    },
    "outputId": "591c4ea8-02c6-47d5-a50a-214dcf5b07d7"
   },
   "source": [
    "# Delete extra variable that is not continuous\n",
    "data = data.loc[:, data.columns != 'Restaurant Name']\n",
    "data.head()"
   ],
   "execution_count": 2,
   "outputs": [
    {
     "data": {
      "text/plain": "   InMichelin  Food  Decor  Service  Price\n0           0    19     20       19     50\n1           0    17     17       16     43\n2           0    23     17       21     35\n3           1    19     23       16     52\n4           0    23     12       19     24",
      "text/html": "<div>\n<style scoped>\n    .dataframe tbody tr th:only-of-type {\n        vertical-align: middle;\n    }\n\n    .dataframe tbody tr th {\n        vertical-align: top;\n    }\n\n    .dataframe thead th {\n        text-align: right;\n    }\n</style>\n<table border=\"1\" class=\"dataframe\">\n  <thead>\n    <tr style=\"text-align: right;\">\n      <th></th>\n      <th>InMichelin</th>\n      <th>Food</th>\n      <th>Decor</th>\n      <th>Service</th>\n      <th>Price</th>\n    </tr>\n  </thead>\n  <tbody>\n    <tr>\n      <th>0</th>\n      <td>0</td>\n      <td>19</td>\n      <td>20</td>\n      <td>19</td>\n      <td>50</td>\n    </tr>\n    <tr>\n      <th>1</th>\n      <td>0</td>\n      <td>17</td>\n      <td>17</td>\n      <td>16</td>\n      <td>43</td>\n    </tr>\n    <tr>\n      <th>2</th>\n      <td>0</td>\n      <td>23</td>\n      <td>17</td>\n      <td>21</td>\n      <td>35</td>\n    </tr>\n    <tr>\n      <th>3</th>\n      <td>1</td>\n      <td>19</td>\n      <td>23</td>\n      <td>16</td>\n      <td>52</td>\n    </tr>\n    <tr>\n      <th>4</th>\n      <td>0</td>\n      <td>23</td>\n      <td>12</td>\n      <td>19</td>\n      <td>24</td>\n    </tr>\n  </tbody>\n</table>\n</div>"
     },
     "execution_count": 2,
     "metadata": {},
     "output_type": "execute_result"
    }
   ]
  },
  {
   "cell_type": "markdown",
   "metadata": {
    "id": "39vOkWdZTpef"
   },
   "source": [
    "# Change variable names to X, y to create train/test split"
   ]
  },
  {
   "cell_type": "code",
   "metadata": {
    "scrolled": true,
    "id": "B0OJusw-Tpeh",
    "colab": {
     "base_uri": "https://localhost:8080/",
     "height": 317
    },
    "outputId": "7658e93b-0d53-4eae-a94e-7fa7c76489f2"
   },
   "source": [
    "y = data['InMichelin']\n",
    "X = data.loc[:, data.columns != 'InMichelin']\n",
    "\n",
    "print(y[0:5])\n",
    "X.head()"
   ],
   "execution_count": 3,
   "outputs": [
    {
     "name": "stdout",
     "output_type": "stream",
     "text": [
      "0    0\n",
      "1    0\n",
      "2    0\n",
      "3    1\n",
      "4    0\n",
      "Name: InMichelin, dtype: int64\n"
     ]
    },
    {
     "data": {
      "text/plain": "   Food  Decor  Service  Price\n0    19     20       19     50\n1    17     17       16     43\n2    23     17       21     35\n3    19     23       16     52\n4    23     12       19     24",
      "text/html": "<div>\n<style scoped>\n    .dataframe tbody tr th:only-of-type {\n        vertical-align: middle;\n    }\n\n    .dataframe tbody tr th {\n        vertical-align: top;\n    }\n\n    .dataframe thead th {\n        text-align: right;\n    }\n</style>\n<table border=\"1\" class=\"dataframe\">\n  <thead>\n    <tr style=\"text-align: right;\">\n      <th></th>\n      <th>Food</th>\n      <th>Decor</th>\n      <th>Service</th>\n      <th>Price</th>\n    </tr>\n  </thead>\n  <tbody>\n    <tr>\n      <th>0</th>\n      <td>19</td>\n      <td>20</td>\n      <td>19</td>\n      <td>50</td>\n    </tr>\n    <tr>\n      <th>1</th>\n      <td>17</td>\n      <td>17</td>\n      <td>16</td>\n      <td>43</td>\n    </tr>\n    <tr>\n      <th>2</th>\n      <td>23</td>\n      <td>17</td>\n      <td>21</td>\n      <td>35</td>\n    </tr>\n    <tr>\n      <th>3</th>\n      <td>19</td>\n      <td>23</td>\n      <td>16</td>\n      <td>52</td>\n    </tr>\n    <tr>\n      <th>4</th>\n      <td>23</td>\n      <td>12</td>\n      <td>19</td>\n      <td>24</td>\n    </tr>\n  </tbody>\n</table>\n</div>"
     },
     "execution_count": 3,
     "metadata": {},
     "output_type": "execute_result"
    }
   ]
  },
  {
   "cell_type": "markdown",
   "metadata": {
    "id": "A9kka5A0Tpel"
   },
   "source": [
    "# Train test split"
   ]
  },
  {
   "cell_type": "code",
   "metadata": {
    "id": "IspL5dQNTpem",
    "colab": {
     "base_uri": "https://localhost:8080/"
    },
    "outputId": "482458cc-0481-4f9a-bd3b-c05423d3dbcb"
   },
   "source": [
    "from sklearn.model_selection import train_test_split\n",
    "\n",
    "# Use train_test_split(X,y) to create four new data sets, defaults to .75/.25 split\n",
    "X_train, X_test, y_train, y_test = train_test_split(X, y)\n",
    "\n",
    "print(X.shape)\n",
    "X_train.shape"
   ],
   "execution_count": 4,
   "outputs": [
    {
     "name": "stdout",
     "output_type": "stream",
     "text": [
      "(164, 4)\n"
     ]
    },
    {
     "data": {
      "text/plain": "(123, 4)"
     },
     "execution_count": 4,
     "metadata": {},
     "output_type": "execute_result"
    }
   ]
  },
  {
   "cell_type": "markdown",
   "metadata": {
    "id": "F2DFXD9BTpes"
   },
   "source": [
    "### Train model with k=5"
   ]
  },
  {
   "cell_type": "code",
   "metadata": {
    "scrolled": true,
    "id": "LhAIBYbcTpeu"
   },
   "source": [
    "from sklearn.neighbors import KNeighborsClassifier\n",
    "\n",
    "knn = KNeighborsClassifier(n_neighbors=5)\n",
    "knn.fit(X_train, y_train)\n",
    "\n",
    "#Print accuracy rounded to two digits to the right of decimal\n",
    "knn.score(X_test, y_test)\n",
    "\n",
    "y_pred = knn.predict(X_test) # y_pred includes your predictions"
   ],
   "execution_count": 5,
   "outputs": []
  },
  {
   "cell_type": "markdown",
   "metadata": {
    "id": "EgPc2XODTpey"
   },
   "source": [
    "### Train model with k=10"
   ]
  },
  {
   "cell_type": "code",
   "metadata": {
    "id": "Sj8HgwuoTpe0",
    "colab": {
     "base_uri": "https://localhost:8080/"
    },
    "outputId": "0459fcee-29c8-4fdb-ec22-5dc83ecb600d"
   },
   "source": [
    "knn = KNeighborsClassifier(n_neighbors=10)\n",
    "knn.fit(X_train, y_train)\n",
    "\n",
    "#Print accuracy rounded to two digits to the right of decimal\n",
    "print(\"accuracy: {:.2f}\".format(knn.score(X_test, y_test)))\n",
    "y_pred = knn.predict(X_test)\n"
   ],
   "execution_count": 8,
   "outputs": [
    {
     "name": "stdout",
     "output_type": "stream",
     "text": [
      "accuracy: 0.95\n"
     ]
    }
   ]
  },
  {
   "cell_type": "code",
   "metadata": {
    "id": "qExwkQm6Tpe7",
    "colab": {
     "base_uri": "https://localhost:8080/"
    },
    "outputId": "983ac443-6fdd-4e15-f171-53ae23d17f9b"
   },
   "source": [
    "y_pred # view predictions for test data"
   ],
   "execution_count": 9,
   "outputs": [
    {
     "data": {
      "text/plain": "array([0, 1, 0, 0, 0, 1, 1, 0, 0, 0, 0, 1, 0, 1, 0, 0, 1, 1, 0, 0, 0, 0,\n       1, 0, 1, 0, 0, 1, 1, 1, 0, 0, 1, 1, 0, 1, 1, 1, 1, 0, 0])"
     },
     "execution_count": 9,
     "metadata": {},
     "output_type": "execute_result"
    }
   ]
  },
  {
   "cell_type": "markdown",
   "metadata": {
    "id": "HyaNaf4PTpe_"
   },
   "source": [
    "## Using Cross validation for model evaluation"
   ]
  },
  {
   "cell_type": "code",
   "metadata": {
    "id": "x3-7N3t5TpfA",
    "colab": {
     "base_uri": "https://localhost:8080/"
    },
    "outputId": "bde847c2-de01-4a04-9374-21f39ed31d9a"
   },
   "source": [
    "#import cross validation functions from sk learn\n",
    "\n",
    "from sklearn.model_selection import cross_val_score\n",
    "from sklearn.model_selection import RepeatedKFold\n",
    "from sklearn.model_selection import StratifiedKFold\n",
    "from sklearn.model_selection import KFold\n",
    "import numpy as np\n",
    "\n",
    "# Set up function parameters for diff't cross validation strategies\n",
    "kfold = KFold(n_splits=5)\n",
    "skfold = StratifiedKFold(n_splits=5, shuffle=True)\n",
    "rkf = RepeatedKFold(n_splits=5, n_repeats=10)\n",
    "\n",
    "from statistics import mean \n",
    "\n",
    "print(\"KFold:\\n{}\".format(\n",
    "cross_val_score(KNeighborsClassifier(), X, y, cv=kfold)))\n",
    "\n",
    "print(\"StratifiedKFold:\\n{}\".format(\n",
    "cross_val_score(KNeighborsClassifier(n_neighbors=5), X, y, cv=skfold)))\n",
    "\n",
    "print(\"RepeatedKFold:\\n{}\".format(\n",
    "cross_val_score(KNeighborsClassifier(n_neighbors=5), X, y, cv=rkf)))"
   ],
   "execution_count": null,
   "outputs": [
    {
     "output_type": "stream",
     "name": "stdout",
     "text": [
      "KFold:\n",
      "[0.78787879 0.84848485 0.75757576 0.78787879 0.78125   ]\n",
      "StratifiedKFold:\n",
      "[0.84848485 0.81818182 0.81818182 0.75757576 0.78125   ]\n",
      "RepeatedKFold:\n",
      "[0.84848485 0.72727273 0.6969697  0.84848485 0.875      0.78787879\n",
      " 0.84848485 0.75757576 0.72727273 0.875      0.60606061 0.75757576\n",
      " 0.84848485 0.87878788 0.84375    0.84848485 0.87878788 0.6969697\n",
      " 0.66666667 0.875      0.81818182 0.72727273 0.72727273 0.84848485\n",
      " 0.75       0.84848485 0.6969697  0.84848485 0.78787879 0.90625\n",
      " 0.84848485 0.90909091 0.63636364 0.75757576 0.75       0.6969697\n",
      " 0.90909091 0.84848485 0.81818182 0.75       0.81818182 0.78787879\n",
      " 0.84848485 0.75757576 0.75       0.78787879 0.72727273 0.75757576\n",
      " 0.87878788 0.84375   ]\n"
     ]
    }
   ]
  },
  {
   "cell_type": "markdown",
   "metadata": {
    "id": "R86RyEXTTpfE"
   },
   "source": [
    "## Tuning models with grid search"
   ]
  },
  {
   "cell_type": "code",
   "metadata": {
    "id": "egQNjSqVTpfF",
    "colab": {
     "base_uri": "https://localhost:8080/"
    },
    "outputId": "843aae79-208c-44d1-9910-3374b3d67901"
   },
   "source": [
    "from sklearn.model_selection import GridSearchCV\n",
    "import numpy as np\n",
    "\n",
    "X_train, X_test, y_train, y_test = train_test_split(X, y, stratify=y)\n",
    "\n",
    "#create dictionary data object with keys equal to parameter name 'n_neighbors' \n",
    "#for knn model and values equal to range of k values to create models for\n",
    "\n",
    "param_grid = {'n_neighbors': np.arange(1, 15, 2)} #np.arange creates sequence of numbers for each k value\n",
    "\n",
    "grid = GridSearchCV(KNeighborsClassifier(), param_grid=param_grid, cv=10)\n",
    "\n",
    "#use meta model methods to fit score and predict model:\n",
    "grid.fit(X_train, y_train)\n",
    "\n",
    "#extract best score and parameter by calling objects \"best_score_\" and \"best_params_\"\n",
    "print(\"best mean cross-validation score: {:.3f}\".format(grid.best_score_))\n",
    "print(\"best parameters: {}\".format(grid.best_params_))\n",
    "print(\"test-set score: {:.3f}\".format(grid.score(X_test, y_test)))\n"
   ],
   "execution_count": 10,
   "outputs": [
    {
     "name": "stdout",
     "output_type": "stream",
     "text": [
      "best mean cross-validation score: 0.792\n",
      "best parameters: {'n_neighbors': 11}\n",
      "test-set score: 0.805\n"
     ]
    }
   ]
  },
  {
   "cell_type": "code",
   "metadata": {
    "id": "H_H3pNkoTpfJ",
    "colab": {
     "base_uri": "https://localhost:8080/",
     "height": 411
    },
    "outputId": "c95b65c6-9391-4f93-8af1-265975258f91"
   },
   "source": [
    "# view data with complete tuning results\n",
    "results = pd.DataFrame(grid.cv_results_)\n",
    "results\n"
   ],
   "execution_count": 11,
   "outputs": [
    {
     "data": {
      "text/plain": "   mean_fit_time  std_fit_time  mean_score_time  std_score_time  \\\n0       0.003719      0.002140         0.005721        0.004967   \n1       0.004180      0.002564         0.004444        0.002165   \n2       0.003765      0.001445         0.003511        0.000617   \n3       0.001642      0.000284         0.002109        0.000903   \n4       0.003184      0.000831         0.004696        0.002505   \n5       0.001831      0.000520         0.002613        0.001255   \n6       0.002035      0.000675         0.002679        0.000868   \n\n  param_n_neighbors               params  split0_test_score  \\\n0                 1   {'n_neighbors': 1}           0.538462   \n1                 3   {'n_neighbors': 3}           0.538462   \n2                 5   {'n_neighbors': 5}           0.538462   \n3                 7   {'n_neighbors': 7}           0.538462   \n4                 9   {'n_neighbors': 9}           0.538462   \n5                11  {'n_neighbors': 11}           0.538462   \n6                13  {'n_neighbors': 13}           0.538462   \n\n   split1_test_score  split2_test_score  split3_test_score  split4_test_score  \\\n0           0.692308           0.692308           0.750000           0.750000   \n1           0.615385           0.615385           0.833333           0.833333   \n2           0.615385           0.769231           0.916667           0.666667   \n3           0.615385           0.769231           0.916667           0.750000   \n4           0.615385           0.769231           0.916667           0.750000   \n5           0.615385           0.769231           0.916667           0.750000   \n6           0.615385           0.769231           0.916667           0.750000   \n\n   split5_test_score  split6_test_score  split7_test_score  split8_test_score  \\\n0           0.833333           0.750000           0.583333           0.833333   \n1           0.833333           0.750000           0.750000           0.916667   \n2           0.833333           0.833333           0.583333           0.916667   \n3           0.833333           0.750000           0.750000           1.000000   \n4           0.833333           0.750000           0.916667           1.000000   \n5           0.833333           0.833333           0.916667           1.000000   \n6           0.833333           0.833333           0.916667           1.000000   \n\n   split9_test_score  mean_test_score  std_test_score  rank_test_score  \n0           0.750000         0.717308        0.090766                7  \n1           0.750000         0.743590        0.113662                6  \n2           0.833333         0.750641        0.132040                5  \n3           0.750000         0.767308        0.125486                4  \n4           0.750000         0.783974        0.132927                3  \n5           0.750000         0.792308        0.133148                1  \n6           0.750000         0.792308        0.133148                1  ",
      "text/html": "<div>\n<style scoped>\n    .dataframe tbody tr th:only-of-type {\n        vertical-align: middle;\n    }\n\n    .dataframe tbody tr th {\n        vertical-align: top;\n    }\n\n    .dataframe thead th {\n        text-align: right;\n    }\n</style>\n<table border=\"1\" class=\"dataframe\">\n  <thead>\n    <tr style=\"text-align: right;\">\n      <th></th>\n      <th>mean_fit_time</th>\n      <th>std_fit_time</th>\n      <th>mean_score_time</th>\n      <th>std_score_time</th>\n      <th>param_n_neighbors</th>\n      <th>params</th>\n      <th>split0_test_score</th>\n      <th>split1_test_score</th>\n      <th>split2_test_score</th>\n      <th>split3_test_score</th>\n      <th>split4_test_score</th>\n      <th>split5_test_score</th>\n      <th>split6_test_score</th>\n      <th>split7_test_score</th>\n      <th>split8_test_score</th>\n      <th>split9_test_score</th>\n      <th>mean_test_score</th>\n      <th>std_test_score</th>\n      <th>rank_test_score</th>\n    </tr>\n  </thead>\n  <tbody>\n    <tr>\n      <th>0</th>\n      <td>0.003719</td>\n      <td>0.002140</td>\n      <td>0.005721</td>\n      <td>0.004967</td>\n      <td>1</td>\n      <td>{'n_neighbors': 1}</td>\n      <td>0.538462</td>\n      <td>0.692308</td>\n      <td>0.692308</td>\n      <td>0.750000</td>\n      <td>0.750000</td>\n      <td>0.833333</td>\n      <td>0.750000</td>\n      <td>0.583333</td>\n      <td>0.833333</td>\n      <td>0.750000</td>\n      <td>0.717308</td>\n      <td>0.090766</td>\n      <td>7</td>\n    </tr>\n    <tr>\n      <th>1</th>\n      <td>0.004180</td>\n      <td>0.002564</td>\n      <td>0.004444</td>\n      <td>0.002165</td>\n      <td>3</td>\n      <td>{'n_neighbors': 3}</td>\n      <td>0.538462</td>\n      <td>0.615385</td>\n      <td>0.615385</td>\n      <td>0.833333</td>\n      <td>0.833333</td>\n      <td>0.833333</td>\n      <td>0.750000</td>\n      <td>0.750000</td>\n      <td>0.916667</td>\n      <td>0.750000</td>\n      <td>0.743590</td>\n      <td>0.113662</td>\n      <td>6</td>\n    </tr>\n    <tr>\n      <th>2</th>\n      <td>0.003765</td>\n      <td>0.001445</td>\n      <td>0.003511</td>\n      <td>0.000617</td>\n      <td>5</td>\n      <td>{'n_neighbors': 5}</td>\n      <td>0.538462</td>\n      <td>0.615385</td>\n      <td>0.769231</td>\n      <td>0.916667</td>\n      <td>0.666667</td>\n      <td>0.833333</td>\n      <td>0.833333</td>\n      <td>0.583333</td>\n      <td>0.916667</td>\n      <td>0.833333</td>\n      <td>0.750641</td>\n      <td>0.132040</td>\n      <td>5</td>\n    </tr>\n    <tr>\n      <th>3</th>\n      <td>0.001642</td>\n      <td>0.000284</td>\n      <td>0.002109</td>\n      <td>0.000903</td>\n      <td>7</td>\n      <td>{'n_neighbors': 7}</td>\n      <td>0.538462</td>\n      <td>0.615385</td>\n      <td>0.769231</td>\n      <td>0.916667</td>\n      <td>0.750000</td>\n      <td>0.833333</td>\n      <td>0.750000</td>\n      <td>0.750000</td>\n      <td>1.000000</td>\n      <td>0.750000</td>\n      <td>0.767308</td>\n      <td>0.125486</td>\n      <td>4</td>\n    </tr>\n    <tr>\n      <th>4</th>\n      <td>0.003184</td>\n      <td>0.000831</td>\n      <td>0.004696</td>\n      <td>0.002505</td>\n      <td>9</td>\n      <td>{'n_neighbors': 9}</td>\n      <td>0.538462</td>\n      <td>0.615385</td>\n      <td>0.769231</td>\n      <td>0.916667</td>\n      <td>0.750000</td>\n      <td>0.833333</td>\n      <td>0.750000</td>\n      <td>0.916667</td>\n      <td>1.000000</td>\n      <td>0.750000</td>\n      <td>0.783974</td>\n      <td>0.132927</td>\n      <td>3</td>\n    </tr>\n    <tr>\n      <th>5</th>\n      <td>0.001831</td>\n      <td>0.000520</td>\n      <td>0.002613</td>\n      <td>0.001255</td>\n      <td>11</td>\n      <td>{'n_neighbors': 11}</td>\n      <td>0.538462</td>\n      <td>0.615385</td>\n      <td>0.769231</td>\n      <td>0.916667</td>\n      <td>0.750000</td>\n      <td>0.833333</td>\n      <td>0.833333</td>\n      <td>0.916667</td>\n      <td>1.000000</td>\n      <td>0.750000</td>\n      <td>0.792308</td>\n      <td>0.133148</td>\n      <td>1</td>\n    </tr>\n    <tr>\n      <th>6</th>\n      <td>0.002035</td>\n      <td>0.000675</td>\n      <td>0.002679</td>\n      <td>0.000868</td>\n      <td>13</td>\n      <td>{'n_neighbors': 13}</td>\n      <td>0.538462</td>\n      <td>0.615385</td>\n      <td>0.769231</td>\n      <td>0.916667</td>\n      <td>0.750000</td>\n      <td>0.833333</td>\n      <td>0.833333</td>\n      <td>0.916667</td>\n      <td>1.000000</td>\n      <td>0.750000</td>\n      <td>0.792308</td>\n      <td>0.133148</td>\n      <td>1</td>\n    </tr>\n  </tbody>\n</table>\n</div>"
     },
     "execution_count": 11,
     "metadata": {},
     "output_type": "execute_result"
    }
   ]
  }
 ]
}